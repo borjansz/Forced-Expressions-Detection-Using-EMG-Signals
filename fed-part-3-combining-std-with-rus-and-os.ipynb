{
 "cells": [
  {
   "cell_type": "code",
   "execution_count": 1,
   "id": "1473fd65",
   "metadata": {
    "_cell_guid": "b1076dfc-b9ad-4769-8c92-a6c4dae69d19",
    "_uuid": "8f2839f25d086af736a60e9eeb907d3b93b6e0e5",
    "execution": {
     "iopub.execute_input": "2022-07-23T00:42:03.849288Z",
     "iopub.status.busy": "2022-07-23T00:42:03.848835Z",
     "iopub.status.idle": "2022-07-23T00:42:03.890274Z",
     "shell.execute_reply": "2022-07-23T00:42:03.889453Z"
    },
    "papermill": {
     "duration": 0.071989,
     "end_time": "2022-07-23T00:42:03.892969",
     "exception": false,
     "start_time": "2022-07-23T00:42:03.820980",
     "status": "completed"
    },
    "tags": []
   },
   "outputs": [
    {
     "name": "stdout",
     "output_type": "stream",
     "text": [
      "/kaggle/input/participantstaska/Participant2.csv\n",
      "/kaggle/input/participantstaska/Participant17.csv\n",
      "/kaggle/input/participantstaska/Participant22.csv\n",
      "/kaggle/input/participantstaska/Participant18.csv\n",
      "/kaggle/input/participantstaska/Participant5.csv\n",
      "/kaggle/input/participantstaska/Participant3.csv\n",
      "/kaggle/input/participantstaska/Participant25.csv\n",
      "/kaggle/input/participantstaska/Participant4.csv\n",
      "/kaggle/input/participantstaska/Participant7.csv\n",
      "/kaggle/input/participantstaska/Participant15.csv\n",
      "/kaggle/input/participantstaska/Participant9.csv\n",
      "/kaggle/input/participantstaska/Participant14.csv\n",
      "/kaggle/input/participantstaska/Participant30.csv\n",
      "/kaggle/input/participantstaska/Participant20.csv\n",
      "/kaggle/input/participantstaska/Participant10.csv\n",
      "/kaggle/input/participantstaska/Participant27.csv\n",
      "/kaggle/input/participantstaska/Participant13.csv\n",
      "/kaggle/input/participantstaska/Participant1.csv\n",
      "/kaggle/input/participantstaska/Participant29.csv\n",
      "/kaggle/input/participantstaska/Participant19.csv\n",
      "/kaggle/input/participantstaska/Participant23.csv\n",
      "/kaggle/input/participantstaska/Participant6.csv\n",
      "/kaggle/input/participantstaska/Participant24.csv\n",
      "/kaggle/input/participantstaska/Participant21.csv\n",
      "/kaggle/input/participantstaska/Participant8.csv\n",
      "/kaggle/input/participantstaska/Participant16.csv\n",
      "/kaggle/input/participantstaska/Participant26.csv\n",
      "/kaggle/input/participantstaska/Participant12.csv\n",
      "/kaggle/input/participantstaska/Participant11.csv\n",
      "/kaggle/input/participantstaska/Participant28.csv\n",
      "/kaggle/input/participantstaskb/Participant2.csv\n",
      "/kaggle/input/participantstaskb/Participant17.csv\n",
      "/kaggle/input/participantstaskb/Participant22.csv\n",
      "/kaggle/input/participantstaskb/Participant18.csv\n",
      "/kaggle/input/participantstaskb/Participant5.csv\n",
      "/kaggle/input/participantstaskb/Participant3.csv\n",
      "/kaggle/input/participantstaskb/Participant25.csv\n",
      "/kaggle/input/participantstaskb/Participant4.csv\n",
      "/kaggle/input/participantstaskb/Participant7.csv\n",
      "/kaggle/input/participantstaskb/Participant15.csv\n",
      "/kaggle/input/participantstaskb/Participant9.csv\n",
      "/kaggle/input/participantstaskb/Participant14.csv\n",
      "/kaggle/input/participantstaskb/Participant30.csv\n",
      "/kaggle/input/participantstaskb/Participant20.csv\n",
      "/kaggle/input/participantstaskb/Participant10.csv\n",
      "/kaggle/input/participantstaskb/Participant27.csv\n",
      "/kaggle/input/participantstaskb/Participant13.csv\n",
      "/kaggle/input/participantstaskb/Participant1.csv\n",
      "/kaggle/input/participantstaskb/Participant29.csv\n",
      "/kaggle/input/participantstaskb/Participant19.csv\n",
      "/kaggle/input/participantstaskb/Participant23.csv\n",
      "/kaggle/input/participantstaskb/Participant6.csv\n",
      "/kaggle/input/participantstaskb/Participant24.csv\n",
      "/kaggle/input/participantstaskb/Participant21.csv\n",
      "/kaggle/input/participantstaskb/Participant8.csv\n",
      "/kaggle/input/participantstaskb/Participant16.csv\n",
      "/kaggle/input/participantstaskb/Participant26.csv\n",
      "/kaggle/input/participantstaskb/Participant12.csv\n",
      "/kaggle/input/participantstaskb/Participant11.csv\n",
      "/kaggle/input/participantstaskb/Participant28.csv\n"
     ]
    }
   ],
   "source": [
    "# This Python 3 environment comes with many helpful analytics libraries installed\n",
    "# It is defined by the kaggle/python Docker image: https://github.com/kaggle/docker-python\n",
    "# For example, here's several helpful packages to load\n",
    "\n",
    "import numpy as np # linear algebra\n",
    "import pandas as pd # data processing, CSV file I/O (e.g. pd.read_csv)\n",
    "\n",
    "# Input data files are available in the read-only \"../input/\" directory\n",
    "# For example, running this (by clicking run or pressing Shift+Enter) will list all files under the input directory\n",
    "\n",
    "import os\n",
    "for dirname, _, filenames in os.walk('/kaggle/input'):\n",
    "    for filename in filenames:\n",
    "        print(os.path.join(dirname, filename))\n",
    "\n",
    "# You can write up to 20GB to the current directory (/kaggle/working/) that gets preserved as output when you create a version using \"Save & Run All\" \n",
    "# You can also write temporary files to /kaggle/temp/, but they won't be saved outside of the current session"
   ]
  },
  {
   "cell_type": "markdown",
   "id": "5879d8e3",
   "metadata": {
    "papermill": {
     "duration": 0.021415,
     "end_time": "2022-07-23T00:42:03.937867",
     "exception": false,
     "start_time": "2022-07-23T00:42:03.916452",
     "status": "completed"
    },
    "tags": []
   },
   "source": [
    "# Task A\n",
    "![purple-divider](https://user-images.githubusercontent.com/7065401/52071927-c1cd7100-2562-11e9-908a-dde91ba14e59.png)"
   ]
  },
  {
   "cell_type": "code",
   "execution_count": 2,
   "id": "854a79f4",
   "metadata": {
    "execution": {
     "iopub.execute_input": "2022-07-23T00:42:03.982361Z",
     "iopub.status.busy": "2022-07-23T00:42:03.981740Z",
     "iopub.status.idle": "2022-07-23T00:42:05.476510Z",
     "shell.execute_reply": "2022-07-23T00:42:05.475600Z"
    },
    "papermill": {
     "duration": 1.519838,
     "end_time": "2022-07-23T00:42:05.478973",
     "exception": false,
     "start_time": "2022-07-23T00:42:03.959135",
     "status": "completed"
    },
    "tags": []
   },
   "outputs": [],
   "source": [
    "import matplotlib.pyplot as plt\n",
    "import numpy as np\n",
    "import pandas as pd\n",
    "import seaborn as sns\n",
    "from sklearn.model_selection import train_test_split\n",
    "from sklearn import tree\n",
    "\n",
    "from sklearn.feature_selection import SelectKBest\n",
    "from sklearn.feature_selection import f_classif\n",
    "from numpy import set_printoptions\n",
    "\n",
    "from sklearn.dummy import DummyClassifier\n",
    "from sklearn.metrics import f1_score\n",
    "from sklearn.metrics import plot_confusion_matrix\n",
    "\n",
    "from sklearn.ensemble import RandomForestClassifier\n",
    "\n",
    "from xgboost import XGBClassifier\n",
    "from sklearn.model_selection import cross_val_score\n",
    "from sklearn.preprocessing import LabelEncoder\n",
    "from sklearn.metrics import accuracy_score\n",
    "\n",
    "from sklearn.neighbors import KNeighborsClassifier\n",
    "from sklearn.metrics import DistanceMetric\n",
    "from sklearn.metrics import RocCurveDisplay\n",
    "\n",
    "\n",
    "%matplotlib inline"
   ]
  },
  {
   "cell_type": "markdown",
   "id": "19ed08da",
   "metadata": {
    "papermill": {
     "duration": 0.021215,
     "end_time": "2022-07-23T00:42:05.522063",
     "exception": false,
     "start_time": "2022-07-23T00:42:05.500848",
     "status": "completed"
    },
    "tags": []
   },
   "source": [
    "# Inputing the Datasets\n",
    "![purple-divider](https://user-images.githubusercontent.com/7065401/52071927-c1cd7100-2562-11e9-908a-dde91ba14e59.png)"
   ]
  },
  {
   "cell_type": "code",
   "execution_count": 3,
   "id": "8aeadce1",
   "metadata": {
    "execution": {
     "iopub.execute_input": "2022-07-23T00:42:05.566781Z",
     "iopub.status.busy": "2022-07-23T00:42:05.565824Z",
     "iopub.status.idle": "2022-07-23T00:42:05.570077Z",
     "shell.execute_reply": "2022-07-23T00:42:05.569393Z"
    },
    "papermill": {
     "duration": 0.02833,
     "end_time": "2022-07-23T00:42:05.571795",
     "exception": false,
     "start_time": "2022-07-23T00:42:05.543465",
     "status": "completed"
    },
    "tags": []
   },
   "outputs": [],
   "source": [
    "DF_listA= list()\n",
    "DF_listB = list()"
   ]
  },
  {
   "cell_type": "code",
   "execution_count": 4,
   "id": "d513642b",
   "metadata": {
    "execution": {
     "iopub.execute_input": "2022-07-23T00:42:05.614855Z",
     "iopub.status.busy": "2022-07-23T00:42:05.614292Z",
     "iopub.status.idle": "2022-07-23T00:42:37.958419Z",
     "shell.execute_reply": "2022-07-23T00:42:37.957536Z"
    },
    "papermill": {
     "duration": 32.368508,
     "end_time": "2022-07-23T00:42:37.960977",
     "exception": false,
     "start_time": "2022-07-23T00:42:05.592469",
     "status": "completed"
    },
    "tags": []
   },
   "outputs": [],
   "source": [
    "#Task A\n",
    "for i in range (0, 30):\n",
    "    DF_listA.insert(i, pd.read_csv('../input/participantstaska/Participant'+str(i+1)+'.csv') )\n",
    "\n",
    "#Task B\n",
    "for i in range (0, 30):\n",
    "    DF_listB.insert(i, pd.read_csv('../input/participantstaskb/Participant'+str(i+1)+'.csv') )"
   ]
  },
  {
   "cell_type": "code",
   "execution_count": 5,
   "id": "23e93f86",
   "metadata": {
    "execution": {
     "iopub.execute_input": "2022-07-23T00:42:38.005942Z",
     "iopub.status.busy": "2022-07-23T00:42:38.005147Z",
     "iopub.status.idle": "2022-07-23T00:42:38.010549Z",
     "shell.execute_reply": "2022-07-23T00:42:38.009480Z"
    },
    "papermill": {
     "duration": 0.030214,
     "end_time": "2022-07-23T00:42:38.012569",
     "exception": false,
     "start_time": "2022-07-23T00:42:37.982355",
     "status": "completed"
    },
    "tags": []
   },
   "outputs": [],
   "source": [
    "training_subjects = np.array([1, 4, 5, 7, 9, 10, 11, 14, 2, 16, 17, 19, 21, 22, 23, 24, 26, 27, 29, 30])\n",
    "validation_subjects = np.array([3, 6, 12, 20, 25])\n",
    "test_subjects = np.array([15,8,13,18,28])"
   ]
  },
  {
   "cell_type": "code",
   "execution_count": 6,
   "id": "878e5113",
   "metadata": {
    "execution": {
     "iopub.execute_input": "2022-07-23T00:42:38.055572Z",
     "iopub.status.busy": "2022-07-23T00:42:38.054946Z",
     "iopub.status.idle": "2022-07-23T00:42:38.060012Z",
     "shell.execute_reply": "2022-07-23T00:42:38.058912Z"
    },
    "papermill": {
     "duration": 0.028848,
     "end_time": "2022-07-23T00:42:38.062009",
     "exception": false,
     "start_time": "2022-07-23T00:42:38.033161",
     "status": "completed"
    },
    "tags": []
   },
   "outputs": [],
   "source": [
    "#Task A\n",
    "DF_train = list()\n",
    "DF_validation = list()\n",
    "DF_test = list()\n",
    "\n",
    "#Task B\n",
    "DF_trainB = list()\n",
    "DF_validationB = list()\n",
    "DF_testB = list()\n",
    "k=0"
   ]
  },
  {
   "cell_type": "code",
   "execution_count": 7,
   "id": "b0b6d8b7",
   "metadata": {
    "execution": {
     "iopub.execute_input": "2022-07-23T00:42:38.105549Z",
     "iopub.status.busy": "2022-07-23T00:42:38.104594Z",
     "iopub.status.idle": "2022-07-23T00:42:38.109569Z",
     "shell.execute_reply": "2022-07-23T00:42:38.108908Z"
    },
    "papermill": {
     "duration": 0.02849,
     "end_time": "2022-07-23T00:42:38.111241",
     "exception": false,
     "start_time": "2022-07-23T00:42:38.082751",
     "status": "completed"
    },
    "tags": []
   },
   "outputs": [],
   "source": [
    "#Task A\n",
    "k=0\n",
    "\n",
    "for i in training_subjects:\n",
    "    DF_train.insert(k, DF_listA[i-1])\n",
    "    k=k+1\n",
    "\n",
    "#Task B\n",
    "k=0\n",
    "\n",
    "for i in training_subjects:\n",
    "    DF_trainB.insert(k, DF_listB[i-1])\n",
    "    k=k+1"
   ]
  },
  {
   "cell_type": "code",
   "execution_count": 8,
   "id": "7bed3b19",
   "metadata": {
    "execution": {
     "iopub.execute_input": "2022-07-23T00:42:38.155199Z",
     "iopub.status.busy": "2022-07-23T00:42:38.154230Z",
     "iopub.status.idle": "2022-07-23T00:42:38.159116Z",
     "shell.execute_reply": "2022-07-23T00:42:38.158440Z"
    },
    "papermill": {
     "duration": 0.028279,
     "end_time": "2022-07-23T00:42:38.160849",
     "exception": false,
     "start_time": "2022-07-23T00:42:38.132570",
     "status": "completed"
    },
    "tags": []
   },
   "outputs": [],
   "source": [
    "#Task A\n",
    "k=0\n",
    "for i in validation_subjects:\n",
    "    DF_validation.insert(k, DF_listA[i-1])\n",
    "    k=k+1\n",
    "\n",
    "#Task B\n",
    "k=0\n",
    "for i in validation_subjects:\n",
    "    DF_validationB.insert(k, DF_listB[i-1])\n",
    "    k=k+1"
   ]
  },
  {
   "cell_type": "code",
   "execution_count": 9,
   "id": "ebcc524e",
   "metadata": {
    "execution": {
     "iopub.execute_input": "2022-07-23T00:42:38.204504Z",
     "iopub.status.busy": "2022-07-23T00:42:38.203541Z",
     "iopub.status.idle": "2022-07-23T00:42:38.208706Z",
     "shell.execute_reply": "2022-07-23T00:42:38.207909Z"
    },
    "papermill": {
     "duration": 0.029107,
     "end_time": "2022-07-23T00:42:38.210623",
     "exception": false,
     "start_time": "2022-07-23T00:42:38.181516",
     "status": "completed"
    },
    "tags": []
   },
   "outputs": [],
   "source": [
    "#Task A\n",
    "k=0\n",
    "for i in test_subjects:\n",
    "    DF_test.insert(k, DF_listA[i-1])\n",
    "    k=k+1\n",
    "\n",
    "#Task B\n",
    "k=0\n",
    "for i in test_subjects:\n",
    "    DF_testB.insert(k, DF_listB[i-1])\n",
    "    k=k+1"
   ]
  },
  {
   "cell_type": "code",
   "execution_count": 10,
   "id": "ca7c76a5",
   "metadata": {
    "execution": {
     "iopub.execute_input": "2022-07-23T00:42:38.254959Z",
     "iopub.status.busy": "2022-07-23T00:42:38.254236Z",
     "iopub.status.idle": "2022-07-23T00:42:38.817134Z",
     "shell.execute_reply": "2022-07-23T00:42:38.815971Z"
    },
    "papermill": {
     "duration": 0.587808,
     "end_time": "2022-07-23T00:42:38.820086",
     "exception": false,
     "start_time": "2022-07-23T00:42:38.232278",
     "status": "completed"
    },
    "tags": []
   },
   "outputs": [],
   "source": [
    "#Task A\n",
    "trainData = pd.concat(DF_train, ignore_index=True)\n",
    "validData = pd.concat(DF_validation, ignore_index=True)\n",
    "testData = pd.concat (DF_test, ignore_index=True)\n",
    "\n",
    "X_train = trainData.drop(['event'], axis=1)\n",
    "y_train = pd.DataFrame(trainData.iloc[:,-1])\n",
    "\n",
    "X_valid = validData.drop(['event'], axis=1)\n",
    "y_valid = pd.DataFrame(validData.iloc[:,-1])\n",
    "\n",
    "X_test = testData.drop(['event'], axis=1)\n",
    "y_test = pd.DataFrame(testData.iloc[:,-1])\n",
    "\n",
    "\n",
    "\n",
    "#Task B\n",
    "trainDataB = pd.concat(DF_trainB, ignore_index=True)\n",
    "validDataB = pd.concat(DF_validationB, ignore_index=True)\n",
    "testDataB = pd.concat (DF_testB, ignore_index=True)\n",
    "\n",
    "X_trainB = trainDataB.drop(['event'], axis=1)\n",
    "y_trainB = pd.DataFrame(trainDataB.iloc[:,-1])\n",
    "\n",
    "X_validB = validDataB.drop(['event'], axis=1)\n",
    "y_validB = pd.DataFrame(validDataB.iloc[:,-1])\n",
    "\n",
    "X_testB = testDataB.drop(['event'], axis=1)\n",
    "y_testB = pd.DataFrame(testDataB.iloc[:,-1])"
   ]
  },
  {
   "cell_type": "markdown",
   "id": "3bde7fc6",
   "metadata": {
    "papermill": {
     "duration": 0.026488,
     "end_time": "2022-07-23T00:42:38.873955",
     "exception": false,
     "start_time": "2022-07-23T00:42:38.847467",
     "status": "completed"
    },
    "tags": []
   },
   "source": [
    "# Standardization by subjet\n",
    "![purple-divider](https://user-images.githubusercontent.com/7065401/52071927-c1cd7100-2562-11e9-908a-dde91ba14e59.png)"
   ]
  },
  {
   "cell_type": "markdown",
   "id": "7028e08b",
   "metadata": {
    "papermill": {
     "duration": 0.021405,
     "end_time": "2022-07-23T00:42:38.922202",
     "exception": false,
     "start_time": "2022-07-23T00:42:38.900797",
     "status": "completed"
    },
    "tags": []
   },
   "source": [
    "## Task A Standardization"
   ]
  },
  {
   "cell_type": "code",
   "execution_count": 11,
   "id": "ebb7a6fe",
   "metadata": {
    "execution": {
     "iopub.execute_input": "2022-07-23T00:42:38.965639Z",
     "iopub.status.busy": "2022-07-23T00:42:38.964690Z",
     "iopub.status.idle": "2022-07-23T00:42:38.969326Z",
     "shell.execute_reply": "2022-07-23T00:42:38.968368Z"
    },
    "papermill": {
     "duration": 0.028394,
     "end_time": "2022-07-23T00:42:38.971261",
     "exception": false,
     "start_time": "2022-07-23T00:42:38.942867",
     "status": "completed"
    },
    "tags": []
   },
   "outputs": [],
   "source": [
    "from sklearn.preprocessing import StandardScaler\n",
    "DF_listAstd = list()"
   ]
  },
  {
   "cell_type": "code",
   "execution_count": 12,
   "id": "2302ab7d",
   "metadata": {
    "execution": {
     "iopub.execute_input": "2022-07-23T00:42:39.014807Z",
     "iopub.status.busy": "2022-07-23T00:42:39.014452Z",
     "iopub.status.idle": "2022-07-23T00:42:39.164376Z",
     "shell.execute_reply": "2022-07-23T00:42:39.163281Z"
    },
    "papermill": {
     "duration": 0.174593,
     "end_time": "2022-07-23T00:42:39.166755",
     "exception": false,
     "start_time": "2022-07-23T00:42:38.992162",
     "status": "completed"
    },
    "tags": []
   },
   "outputs": [],
   "source": [
    "for i in range (0, 30):\n",
    "    DF_listAstd.insert (i, DF_listA[i].drop(['event'], axis=1))"
   ]
  },
  {
   "cell_type": "code",
   "execution_count": 13,
   "id": "edb99f50",
   "metadata": {
    "execution": {
     "iopub.execute_input": "2022-07-23T00:42:39.210348Z",
     "iopub.status.busy": "2022-07-23T00:42:39.209946Z",
     "iopub.status.idle": "2022-07-23T00:42:39.214326Z",
     "shell.execute_reply": "2022-07-23T00:42:39.213326Z"
    },
    "papermill": {
     "duration": 0.028446,
     "end_time": "2022-07-23T00:42:39.216240",
     "exception": false,
     "start_time": "2022-07-23T00:42:39.187794",
     "status": "completed"
    },
    "tags": []
   },
   "outputs": [],
   "source": [
    "names= DF_listAstd[1].columns"
   ]
  },
  {
   "cell_type": "code",
   "execution_count": 14,
   "id": "dd20aa45",
   "metadata": {
    "execution": {
     "iopub.execute_input": "2022-07-23T00:42:39.259846Z",
     "iopub.status.busy": "2022-07-23T00:42:39.259525Z",
     "iopub.status.idle": "2022-07-23T00:42:39.784089Z",
     "shell.execute_reply": "2022-07-23T00:42:39.783009Z"
    },
    "papermill": {
     "duration": 0.549207,
     "end_time": "2022-07-23T00:42:39.786494",
     "exception": false,
     "start_time": "2022-07-23T00:42:39.237287",
     "status": "completed"
    },
    "tags": []
   },
   "outputs": [],
   "source": [
    "scale= StandardScaler()\n",
    "for i in range (0, 30):\n",
    "    DF_listAstd[i]=scale.fit_transform(DF_listAstd[i])\n",
    "    DF_listAstd[i]=pd.DataFrame(DF_listAstd[i], columns=names)"
   ]
  },
  {
   "cell_type": "code",
   "execution_count": 15,
   "id": "363bfb56",
   "metadata": {
    "execution": {
     "iopub.execute_input": "2022-07-23T00:42:39.829808Z",
     "iopub.status.busy": "2022-07-23T00:42:39.829453Z",
     "iopub.status.idle": "2022-07-23T00:42:39.833995Z",
     "shell.execute_reply": "2022-07-23T00:42:39.832926Z"
    },
    "papermill": {
     "duration": 0.028394,
     "end_time": "2022-07-23T00:42:39.835929",
     "exception": false,
     "start_time": "2022-07-23T00:42:39.807535",
     "status": "completed"
    },
    "tags": []
   },
   "outputs": [],
   "source": [
    "DF_train_std = list()\n",
    "DF_valid_std = list()\n",
    "DF_test_std = list()"
   ]
  },
  {
   "cell_type": "code",
   "execution_count": 16,
   "id": "acd0abd7",
   "metadata": {
    "execution": {
     "iopub.execute_input": "2022-07-23T00:42:39.879703Z",
     "iopub.status.busy": "2022-07-23T00:42:39.879375Z",
     "iopub.status.idle": "2022-07-23T00:42:39.885050Z",
     "shell.execute_reply": "2022-07-23T00:42:39.884115Z"
    },
    "papermill": {
     "duration": 0.029638,
     "end_time": "2022-07-23T00:42:39.886753",
     "exception": false,
     "start_time": "2022-07-23T00:42:39.857115",
     "status": "completed"
    },
    "tags": []
   },
   "outputs": [],
   "source": [
    "k=0\n",
    "\n",
    "for i in training_subjects:\n",
    "    DF_train_std.insert(k, DF_listAstd[i-1])\n",
    "    k=k+1\n",
    "\n",
    "k=0\n",
    "    \n",
    "for i in validation_subjects:\n",
    "    DF_valid_std.insert(k, DF_listAstd[i-1])\n",
    "    k=k+1\n",
    "k=0\n",
    "\n",
    "for i in test_subjects:\n",
    "    DF_test_std.insert(k, DF_listAstd[i-1])\n",
    "    k=k+1"
   ]
  },
  {
   "cell_type": "code",
   "execution_count": 17,
   "id": "eb577bf9",
   "metadata": {
    "execution": {
     "iopub.execute_input": "2022-07-23T00:42:39.930350Z",
     "iopub.status.busy": "2022-07-23T00:42:39.929645Z",
     "iopub.status.idle": "2022-07-23T00:42:40.058458Z",
     "shell.execute_reply": "2022-07-23T00:42:40.057455Z"
    },
    "papermill": {
     "duration": 0.153455,
     "end_time": "2022-07-23T00:42:40.061078",
     "exception": false,
     "start_time": "2022-07-23T00:42:39.907623",
     "status": "completed"
    },
    "tags": []
   },
   "outputs": [],
   "source": [
    "X_train_std = pd.concat(DF_train_std, ignore_index=True)\n",
    "X_valid_std = pd.concat(DF_valid_std, ignore_index=True)\n",
    "X_test_std = pd.concat (DF_test_std, ignore_index=True)"
   ]
  },
  {
   "cell_type": "code",
   "execution_count": 18,
   "id": "f2b64feb",
   "metadata": {
    "execution": {
     "iopub.execute_input": "2022-07-23T00:42:40.104508Z",
     "iopub.status.busy": "2022-07-23T00:42:40.104149Z",
     "iopub.status.idle": "2022-07-23T00:42:40.138629Z",
     "shell.execute_reply": "2022-07-23T00:42:40.137575Z"
    },
    "papermill": {
     "duration": 0.058824,
     "end_time": "2022-07-23T00:42:40.140876",
     "exception": false,
     "start_time": "2022-07-23T00:42:40.082052",
     "status": "completed"
    },
    "tags": []
   },
   "outputs": [
    {
     "data": {
      "text/html": [
       "<div>\n",
       "<style scoped>\n",
       "    .dataframe tbody tr th:only-of-type {\n",
       "        vertical-align: middle;\n",
       "    }\n",
       "\n",
       "    .dataframe tbody tr th {\n",
       "        vertical-align: top;\n",
       "    }\n",
       "\n",
       "    .dataframe thead th {\n",
       "        text-align: right;\n",
       "    }\n",
       "</style>\n",
       "<table border=\"1\" class=\"dataframe\">\n",
       "  <thead>\n",
       "    <tr style=\"text-align: right;\">\n",
       "      <th></th>\n",
       "      <th>0_iav</th>\n",
       "      <th>0_aac</th>\n",
       "      <th>0_ar1</th>\n",
       "      <th>0_ar2</th>\n",
       "      <th>0_ar3</th>\n",
       "      <th>0_ar4</th>\n",
       "      <th>0_cc1</th>\n",
       "      <th>0_cc2</th>\n",
       "      <th>0_cc3</th>\n",
       "      <th>0_cc4</th>\n",
       "      <th>...</th>\n",
       "      <th>6_wl</th>\n",
       "      <th>6_mnf</th>\n",
       "      <th>6_mdf</th>\n",
       "      <th>6_pkf</th>\n",
       "      <th>6_mnp</th>\n",
       "      <th>6_ttp</th>\n",
       "      <th>6_vcf</th>\n",
       "      <th>6_psr</th>\n",
       "      <th>6_ohm</th>\n",
       "      <th>6_maxx</th>\n",
       "    </tr>\n",
       "  </thead>\n",
       "  <tbody>\n",
       "    <tr>\n",
       "      <th>0</th>\n",
       "      <td>-0.849015</td>\n",
       "      <td>-0.962069</td>\n",
       "      <td>3.103113</td>\n",
       "      <td>5.453010</td>\n",
       "      <td>-2.053553</td>\n",
       "      <td>2.142066</td>\n",
       "      <td>-3.103113</td>\n",
       "      <td>-4.376918</td>\n",
       "      <td>-0.769908</td>\n",
       "      <td>-0.056617</td>\n",
       "      <td>...</td>\n",
       "      <td>0.027124</td>\n",
       "      <td>-1.990522</td>\n",
       "      <td>-1.209660</td>\n",
       "      <td>-0.446172</td>\n",
       "      <td>-0.361775</td>\n",
       "      <td>-0.361775</td>\n",
       "      <td>-1.390700</td>\n",
       "      <td>-1.390700</td>\n",
       "      <td>-0.343081</td>\n",
       "      <td>-0.639459</td>\n",
       "    </tr>\n",
       "    <tr>\n",
       "      <th>1</th>\n",
       "      <td>-0.849037</td>\n",
       "      <td>-0.961241</td>\n",
       "      <td>3.109000</td>\n",
       "      <td>5.482114</td>\n",
       "      <td>-2.075031</td>\n",
       "      <td>2.140610</td>\n",
       "      <td>-3.109000</td>\n",
       "      <td>-4.399432</td>\n",
       "      <td>-0.778470</td>\n",
       "      <td>-0.053945</td>\n",
       "      <td>...</td>\n",
       "      <td>-0.004436</td>\n",
       "      <td>-2.037631</td>\n",
       "      <td>-1.209660</td>\n",
       "      <td>-0.446172</td>\n",
       "      <td>-0.361767</td>\n",
       "      <td>-0.361767</td>\n",
       "      <td>-1.516002</td>\n",
       "      <td>-1.516002</td>\n",
       "      <td>-0.552457</td>\n",
       "      <td>-0.639185</td>\n",
       "    </tr>\n",
       "    <tr>\n",
       "      <th>2</th>\n",
       "      <td>-0.827607</td>\n",
       "      <td>-0.910432</td>\n",
       "      <td>3.998969</td>\n",
       "      <td>0.393562</td>\n",
       "      <td>0.864878</td>\n",
       "      <td>0.708649</td>\n",
       "      <td>-3.998969</td>\n",
       "      <td>-0.224417</td>\n",
       "      <td>-0.281094</td>\n",
       "      <td>-0.047046</td>\n",
       "      <td>...</td>\n",
       "      <td>-0.028708</td>\n",
       "      <td>-1.623079</td>\n",
       "      <td>-1.086011</td>\n",
       "      <td>-2.662393</td>\n",
       "      <td>-0.359740</td>\n",
       "      <td>-0.359740</td>\n",
       "      <td>1.324983</td>\n",
       "      <td>1.324983</td>\n",
       "      <td>3.189055</td>\n",
       "      <td>-0.639564</td>\n",
       "    </tr>\n",
       "    <tr>\n",
       "      <th>3</th>\n",
       "      <td>-0.803658</td>\n",
       "      <td>-0.854009</td>\n",
       "      <td>2.430907</td>\n",
       "      <td>0.292217</td>\n",
       "      <td>0.939463</td>\n",
       "      <td>-0.025070</td>\n",
       "      <td>-2.430907</td>\n",
       "      <td>-0.185868</td>\n",
       "      <td>-0.304297</td>\n",
       "      <td>0.036364</td>\n",
       "      <td>...</td>\n",
       "      <td>0.110085</td>\n",
       "      <td>-1.194907</td>\n",
       "      <td>-1.086011</td>\n",
       "      <td>-2.662393</td>\n",
       "      <td>-0.357702</td>\n",
       "      <td>-0.357702</td>\n",
       "      <td>1.473463</td>\n",
       "      <td>1.473463</td>\n",
       "      <td>2.516232</td>\n",
       "      <td>-0.639028</td>\n",
       "    </tr>\n",
       "    <tr>\n",
       "      <th>4</th>\n",
       "      <td>-0.770065</td>\n",
       "      <td>-0.793239</td>\n",
       "      <td>1.544201</td>\n",
       "      <td>-0.065738</td>\n",
       "      <td>0.618261</td>\n",
       "      <td>-0.457433</td>\n",
       "      <td>-1.544201</td>\n",
       "      <td>0.102377</td>\n",
       "      <td>-0.145343</td>\n",
       "      <td>0.062060</td>\n",
       "      <td>...</td>\n",
       "      <td>0.153167</td>\n",
       "      <td>-0.591126</td>\n",
       "      <td>-0.344118</td>\n",
       "      <td>-2.662393</td>\n",
       "      <td>-0.356053</td>\n",
       "      <td>-0.356053</td>\n",
       "      <td>1.167521</td>\n",
       "      <td>1.167521</td>\n",
       "      <td>1.361316</td>\n",
       "      <td>-0.640058</td>\n",
       "    </tr>\n",
       "    <tr>\n",
       "      <th>...</th>\n",
       "      <td>...</td>\n",
       "      <td>...</td>\n",
       "      <td>...</td>\n",
       "      <td>...</td>\n",
       "      <td>...</td>\n",
       "      <td>...</td>\n",
       "      <td>...</td>\n",
       "      <td>...</td>\n",
       "      <td>...</td>\n",
       "      <td>...</td>\n",
       "      <td>...</td>\n",
       "      <td>...</td>\n",
       "      <td>...</td>\n",
       "      <td>...</td>\n",
       "      <td>...</td>\n",
       "      <td>...</td>\n",
       "      <td>...</td>\n",
       "      <td>...</td>\n",
       "      <td>...</td>\n",
       "      <td>...</td>\n",
       "      <td>...</td>\n",
       "    </tr>\n",
       "    <tr>\n",
       "      <th>19525</th>\n",
       "      <td>-0.471728</td>\n",
       "      <td>-0.470952</td>\n",
       "      <td>0.154435</td>\n",
       "      <td>-0.206256</td>\n",
       "      <td>1.258822</td>\n",
       "      <td>-0.471602</td>\n",
       "      <td>-0.154435</td>\n",
       "      <td>0.220897</td>\n",
       "      <td>-1.962109</td>\n",
       "      <td>0.659903</td>\n",
       "      <td>...</td>\n",
       "      <td>-0.131079</td>\n",
       "      <td>-0.505206</td>\n",
       "      <td>-0.794060</td>\n",
       "      <td>-0.629221</td>\n",
       "      <td>-0.158183</td>\n",
       "      <td>-0.158183</td>\n",
       "      <td>-0.006787</td>\n",
       "      <td>-0.006787</td>\n",
       "      <td>0.906727</td>\n",
       "      <td>-0.336988</td>\n",
       "    </tr>\n",
       "    <tr>\n",
       "      <th>19526</th>\n",
       "      <td>-0.462767</td>\n",
       "      <td>-0.463877</td>\n",
       "      <td>0.762929</td>\n",
       "      <td>-0.574726</td>\n",
       "      <td>1.301156</td>\n",
       "      <td>-0.441486</td>\n",
       "      <td>-0.762929</td>\n",
       "      <td>0.579999</td>\n",
       "      <td>-1.860787</td>\n",
       "      <td>0.625795</td>\n",
       "      <td>...</td>\n",
       "      <td>0.110741</td>\n",
       "      <td>-0.441877</td>\n",
       "      <td>-0.745581</td>\n",
       "      <td>-0.629221</td>\n",
       "      <td>-0.158322</td>\n",
       "      <td>-0.158322</td>\n",
       "      <td>-0.020767</td>\n",
       "      <td>-0.020767</td>\n",
       "      <td>0.760620</td>\n",
       "      <td>-0.331746</td>\n",
       "    </tr>\n",
       "    <tr>\n",
       "      <th>19527</th>\n",
       "      <td>-0.441191</td>\n",
       "      <td>-0.452436</td>\n",
       "      <td>0.345630</td>\n",
       "      <td>-0.503384</td>\n",
       "      <td>1.348803</td>\n",
       "      <td>-0.295361</td>\n",
       "      <td>-0.345630</td>\n",
       "      <td>0.513254</td>\n",
       "      <td>-1.993949</td>\n",
       "      <td>0.526290</td>\n",
       "      <td>...</td>\n",
       "      <td>-0.190589</td>\n",
       "      <td>-0.472734</td>\n",
       "      <td>-0.745581</td>\n",
       "      <td>-0.411459</td>\n",
       "      <td>-0.157578</td>\n",
       "      <td>-0.157578</td>\n",
       "      <td>-0.119863</td>\n",
       "      <td>-0.119863</td>\n",
       "      <td>0.614114</td>\n",
       "      <td>-0.285345</td>\n",
       "    </tr>\n",
       "    <tr>\n",
       "      <th>19528</th>\n",
       "      <td>-0.436872</td>\n",
       "      <td>-0.443049</td>\n",
       "      <td>0.533419</td>\n",
       "      <td>-0.714604</td>\n",
       "      <td>1.282612</td>\n",
       "      <td>-0.265250</td>\n",
       "      <td>-0.533419</td>\n",
       "      <td>0.718294</td>\n",
       "      <td>-1.749829</td>\n",
       "      <td>0.473827</td>\n",
       "      <td>...</td>\n",
       "      <td>0.061150</td>\n",
       "      <td>-0.472903</td>\n",
       "      <td>-0.697102</td>\n",
       "      <td>-0.411459</td>\n",
       "      <td>-0.157029</td>\n",
       "      <td>-0.157029</td>\n",
       "      <td>-0.170081</td>\n",
       "      <td>-0.170081</td>\n",
       "      <td>0.511084</td>\n",
       "      <td>-0.244395</td>\n",
       "    </tr>\n",
       "    <tr>\n",
       "      <th>19529</th>\n",
       "      <td>-0.442633</td>\n",
       "      <td>-0.448378</td>\n",
       "      <td>0.315600</td>\n",
       "      <td>-0.772911</td>\n",
       "      <td>1.285014</td>\n",
       "      <td>-0.489758</td>\n",
       "      <td>-0.315600</td>\n",
       "      <td>0.778250</td>\n",
       "      <td>-1.723802</td>\n",
       "      <td>0.649943</td>\n",
       "      <td>...</td>\n",
       "      <td>0.140020</td>\n",
       "      <td>-0.248056</td>\n",
       "      <td>-0.551664</td>\n",
       "      <td>-0.224806</td>\n",
       "      <td>-0.158271</td>\n",
       "      <td>-0.158271</td>\n",
       "      <td>0.104252</td>\n",
       "      <td>0.104252</td>\n",
       "      <td>0.661746</td>\n",
       "      <td>-0.259281</td>\n",
       "    </tr>\n",
       "  </tbody>\n",
       "</table>\n",
       "<p>19530 rows × 238 columns</p>\n",
       "</div>"
      ],
      "text/plain": [
       "          0_iav     0_aac     0_ar1     0_ar2     0_ar3     0_ar4     0_cc1  \\\n",
       "0     -0.849015 -0.962069  3.103113  5.453010 -2.053553  2.142066 -3.103113   \n",
       "1     -0.849037 -0.961241  3.109000  5.482114 -2.075031  2.140610 -3.109000   \n",
       "2     -0.827607 -0.910432  3.998969  0.393562  0.864878  0.708649 -3.998969   \n",
       "3     -0.803658 -0.854009  2.430907  0.292217  0.939463 -0.025070 -2.430907   \n",
       "4     -0.770065 -0.793239  1.544201 -0.065738  0.618261 -0.457433 -1.544201   \n",
       "...         ...       ...       ...       ...       ...       ...       ...   \n",
       "19525 -0.471728 -0.470952  0.154435 -0.206256  1.258822 -0.471602 -0.154435   \n",
       "19526 -0.462767 -0.463877  0.762929 -0.574726  1.301156 -0.441486 -0.762929   \n",
       "19527 -0.441191 -0.452436  0.345630 -0.503384  1.348803 -0.295361 -0.345630   \n",
       "19528 -0.436872 -0.443049  0.533419 -0.714604  1.282612 -0.265250 -0.533419   \n",
       "19529 -0.442633 -0.448378  0.315600 -0.772911  1.285014 -0.489758 -0.315600   \n",
       "\n",
       "          0_cc2     0_cc3     0_cc4  ...      6_wl     6_mnf     6_mdf  \\\n",
       "0     -4.376918 -0.769908 -0.056617  ...  0.027124 -1.990522 -1.209660   \n",
       "1     -4.399432 -0.778470 -0.053945  ... -0.004436 -2.037631 -1.209660   \n",
       "2     -0.224417 -0.281094 -0.047046  ... -0.028708 -1.623079 -1.086011   \n",
       "3     -0.185868 -0.304297  0.036364  ...  0.110085 -1.194907 -1.086011   \n",
       "4      0.102377 -0.145343  0.062060  ...  0.153167 -0.591126 -0.344118   \n",
       "...         ...       ...       ...  ...       ...       ...       ...   \n",
       "19525  0.220897 -1.962109  0.659903  ... -0.131079 -0.505206 -0.794060   \n",
       "19526  0.579999 -1.860787  0.625795  ...  0.110741 -0.441877 -0.745581   \n",
       "19527  0.513254 -1.993949  0.526290  ... -0.190589 -0.472734 -0.745581   \n",
       "19528  0.718294 -1.749829  0.473827  ...  0.061150 -0.472903 -0.697102   \n",
       "19529  0.778250 -1.723802  0.649943  ...  0.140020 -0.248056 -0.551664   \n",
       "\n",
       "          6_pkf     6_mnp     6_ttp     6_vcf     6_psr     6_ohm    6_maxx  \n",
       "0     -0.446172 -0.361775 -0.361775 -1.390700 -1.390700 -0.343081 -0.639459  \n",
       "1     -0.446172 -0.361767 -0.361767 -1.516002 -1.516002 -0.552457 -0.639185  \n",
       "2     -2.662393 -0.359740 -0.359740  1.324983  1.324983  3.189055 -0.639564  \n",
       "3     -2.662393 -0.357702 -0.357702  1.473463  1.473463  2.516232 -0.639028  \n",
       "4     -2.662393 -0.356053 -0.356053  1.167521  1.167521  1.361316 -0.640058  \n",
       "...         ...       ...       ...       ...       ...       ...       ...  \n",
       "19525 -0.629221 -0.158183 -0.158183 -0.006787 -0.006787  0.906727 -0.336988  \n",
       "19526 -0.629221 -0.158322 -0.158322 -0.020767 -0.020767  0.760620 -0.331746  \n",
       "19527 -0.411459 -0.157578 -0.157578 -0.119863 -0.119863  0.614114 -0.285345  \n",
       "19528 -0.411459 -0.157029 -0.157029 -0.170081 -0.170081  0.511084 -0.244395  \n",
       "19529 -0.224806 -0.158271 -0.158271  0.104252  0.104252  0.661746 -0.259281  \n",
       "\n",
       "[19530 rows x 238 columns]"
      ]
     },
     "execution_count": 18,
     "metadata": {},
     "output_type": "execute_result"
    }
   ],
   "source": [
    "X_test_std"
   ]
  },
  {
   "cell_type": "markdown",
   "id": "7d0c360d",
   "metadata": {
    "papermill": {
     "duration": 0.021418,
     "end_time": "2022-07-23T00:42:40.184071",
     "exception": false,
     "start_time": "2022-07-23T00:42:40.162653",
     "status": "completed"
    },
    "tags": []
   },
   "source": [
    "## Task B Standardization"
   ]
  },
  {
   "cell_type": "code",
   "execution_count": 19,
   "id": "7ac96d50",
   "metadata": {
    "execution": {
     "iopub.execute_input": "2022-07-23T00:42:40.229128Z",
     "iopub.status.busy": "2022-07-23T00:42:40.228418Z",
     "iopub.status.idle": "2022-07-23T00:42:40.232753Z",
     "shell.execute_reply": "2022-07-23T00:42:40.232129Z"
    },
    "papermill": {
     "duration": 0.029114,
     "end_time": "2022-07-23T00:42:40.234645",
     "exception": false,
     "start_time": "2022-07-23T00:42:40.205531",
     "status": "completed"
    },
    "tags": []
   },
   "outputs": [],
   "source": [
    "DF_listBstd = list()"
   ]
  },
  {
   "cell_type": "code",
   "execution_count": 20,
   "id": "f226ea27",
   "metadata": {
    "execution": {
     "iopub.execute_input": "2022-07-23T00:42:40.279141Z",
     "iopub.status.busy": "2022-07-23T00:42:40.278461Z",
     "iopub.status.idle": "2022-07-23T00:42:40.462280Z",
     "shell.execute_reply": "2022-07-23T00:42:40.461476Z"
    },
    "papermill": {
     "duration": 0.20884,
     "end_time": "2022-07-23T00:42:40.464584",
     "exception": false,
     "start_time": "2022-07-23T00:42:40.255744",
     "status": "completed"
    },
    "tags": []
   },
   "outputs": [],
   "source": [
    "for i in range (0, 30):\n",
    "    DF_listBstd.insert (i, DF_listB[i].drop(['event'], axis=1))"
   ]
  },
  {
   "cell_type": "code",
   "execution_count": 21,
   "id": "4a9c1b21",
   "metadata": {
    "execution": {
     "iopub.execute_input": "2022-07-23T00:42:40.510119Z",
     "iopub.status.busy": "2022-07-23T00:42:40.509408Z",
     "iopub.status.idle": "2022-07-23T00:42:40.514078Z",
     "shell.execute_reply": "2022-07-23T00:42:40.513386Z"
    },
    "papermill": {
     "duration": 0.030132,
     "end_time": "2022-07-23T00:42:40.516200",
     "exception": false,
     "start_time": "2022-07-23T00:42:40.486068",
     "status": "completed"
    },
    "tags": []
   },
   "outputs": [],
   "source": [
    "names= DF_listBstd[1].columns"
   ]
  },
  {
   "cell_type": "code",
   "execution_count": 22,
   "id": "f2f74bce",
   "metadata": {
    "execution": {
     "iopub.execute_input": "2022-07-23T00:42:40.561156Z",
     "iopub.status.busy": "2022-07-23T00:42:40.560470Z",
     "iopub.status.idle": "2022-07-23T00:42:41.170401Z",
     "shell.execute_reply": "2022-07-23T00:42:41.169349Z"
    },
    "papermill": {
     "duration": 0.635116,
     "end_time": "2022-07-23T00:42:41.172850",
     "exception": false,
     "start_time": "2022-07-23T00:42:40.537734",
     "status": "completed"
    },
    "tags": []
   },
   "outputs": [],
   "source": [
    "scale= StandardScaler()\n",
    "for i in range (0, 30):\n",
    "    DF_listBstd[i]=scale.fit_transform(DF_listBstd[i])\n",
    "    DF_listBstd[i]=pd.DataFrame(DF_listBstd[i], columns=names)"
   ]
  },
  {
   "cell_type": "code",
   "execution_count": 23,
   "id": "04a9a1aa",
   "metadata": {
    "execution": {
     "iopub.execute_input": "2022-07-23T00:42:41.217974Z",
     "iopub.status.busy": "2022-07-23T00:42:41.217612Z",
     "iopub.status.idle": "2022-07-23T00:42:41.222019Z",
     "shell.execute_reply": "2022-07-23T00:42:41.221144Z"
    },
    "papermill": {
     "duration": 0.029139,
     "end_time": "2022-07-23T00:42:41.223792",
     "exception": false,
     "start_time": "2022-07-23T00:42:41.194653",
     "status": "completed"
    },
    "tags": []
   },
   "outputs": [],
   "source": [
    "DF_trainB_std = list()\n",
    "DF_validB_std = list()\n",
    "DF_testB_std = list()"
   ]
  },
  {
   "cell_type": "code",
   "execution_count": 24,
   "id": "51ac5503",
   "metadata": {
    "execution": {
     "iopub.execute_input": "2022-07-23T00:42:41.268788Z",
     "iopub.status.busy": "2022-07-23T00:42:41.268220Z",
     "iopub.status.idle": "2022-07-23T00:42:41.273505Z",
     "shell.execute_reply": "2022-07-23T00:42:41.272607Z"
    },
    "papermill": {
     "duration": 0.030032,
     "end_time": "2022-07-23T00:42:41.275326",
     "exception": false,
     "start_time": "2022-07-23T00:42:41.245294",
     "status": "completed"
    },
    "tags": []
   },
   "outputs": [],
   "source": [
    "k=0\n",
    "\n",
    "for i in training_subjects:\n",
    "    DF_trainB_std.insert(k, DF_listBstd[i-1])\n",
    "    k=k+1\n",
    "\n",
    "k=0\n",
    "    \n",
    "for i in validation_subjects:\n",
    "    DF_validB_std.insert(k, DF_listBstd[i-1])\n",
    "    k=k+1\n",
    "k=0\n",
    "\n",
    "for i in test_subjects:\n",
    "    DF_testB_std.insert(k, DF_listBstd[i-1])\n",
    "    k=k+1"
   ]
  },
  {
   "cell_type": "code",
   "execution_count": 25,
   "id": "bb62133e",
   "metadata": {
    "execution": {
     "iopub.execute_input": "2022-07-23T00:42:41.320356Z",
     "iopub.status.busy": "2022-07-23T00:42:41.319835Z",
     "iopub.status.idle": "2022-07-23T00:42:41.489331Z",
     "shell.execute_reply": "2022-07-23T00:42:41.488172Z"
    },
    "papermill": {
     "duration": 0.195033,
     "end_time": "2022-07-23T00:42:41.491564",
     "exception": false,
     "start_time": "2022-07-23T00:42:41.296531",
     "status": "completed"
    },
    "tags": []
   },
   "outputs": [],
   "source": [
    "X_trainB_std = pd.concat(DF_trainB_std, ignore_index=True)\n",
    "X_validB_std = pd.concat(DF_validB_std, ignore_index=True)\n",
    "X_testB_std = pd.concat (DF_testB_std, ignore_index=True)"
   ]
  },
  {
   "cell_type": "code",
   "execution_count": 26,
   "id": "56bd5ec6",
   "metadata": {
    "execution": {
     "iopub.execute_input": "2022-07-23T00:42:41.536566Z",
     "iopub.status.busy": "2022-07-23T00:42:41.536204Z",
     "iopub.status.idle": "2022-07-23T00:42:41.563673Z",
     "shell.execute_reply": "2022-07-23T00:42:41.562672Z"
    },
    "papermill": {
     "duration": 0.052412,
     "end_time": "2022-07-23T00:42:41.565633",
     "exception": false,
     "start_time": "2022-07-23T00:42:41.513221",
     "status": "completed"
    },
    "tags": []
   },
   "outputs": [
    {
     "data": {
      "text/html": [
       "<div>\n",
       "<style scoped>\n",
       "    .dataframe tbody tr th:only-of-type {\n",
       "        vertical-align: middle;\n",
       "    }\n",
       "\n",
       "    .dataframe tbody tr th {\n",
       "        vertical-align: top;\n",
       "    }\n",
       "\n",
       "    .dataframe thead th {\n",
       "        text-align: right;\n",
       "    }\n",
       "</style>\n",
       "<table border=\"1\" class=\"dataframe\">\n",
       "  <thead>\n",
       "    <tr style=\"text-align: right;\">\n",
       "      <th></th>\n",
       "      <th>0_iav</th>\n",
       "      <th>0_aac</th>\n",
       "      <th>0_ar1</th>\n",
       "      <th>0_ar2</th>\n",
       "      <th>0_ar3</th>\n",
       "      <th>0_ar4</th>\n",
       "      <th>0_cc1</th>\n",
       "      <th>0_cc2</th>\n",
       "      <th>0_cc3</th>\n",
       "      <th>0_cc4</th>\n",
       "      <th>...</th>\n",
       "      <th>6_wl</th>\n",
       "      <th>6_mnf</th>\n",
       "      <th>6_mdf</th>\n",
       "      <th>6_pkf</th>\n",
       "      <th>6_mnp</th>\n",
       "      <th>6_ttp</th>\n",
       "      <th>6_vcf</th>\n",
       "      <th>6_psr</th>\n",
       "      <th>6_ohm</th>\n",
       "      <th>6_maxx</th>\n",
       "    </tr>\n",
       "  </thead>\n",
       "  <tbody>\n",
       "    <tr>\n",
       "      <th>0</th>\n",
       "      <td>-0.709083</td>\n",
       "      <td>-1.033585</td>\n",
       "      <td>5.675123</td>\n",
       "      <td>1.016567</td>\n",
       "      <td>3.857959</td>\n",
       "      <td>-1.371242</td>\n",
       "      <td>-5.675123</td>\n",
       "      <td>-0.610296</td>\n",
       "      <td>-2.093692</td>\n",
       "      <td>0.516947</td>\n",
       "      <td>...</td>\n",
       "      <td>-0.147971</td>\n",
       "      <td>-0.810236</td>\n",
       "      <td>-1.575651</td>\n",
       "      <td>-0.686389</td>\n",
       "      <td>-0.289253</td>\n",
       "      <td>-0.289253</td>\n",
       "      <td>-0.244831</td>\n",
       "      <td>-0.244831</td>\n",
       "      <td>0.413328</td>\n",
       "      <td>-0.194760</td>\n",
       "    </tr>\n",
       "    <tr>\n",
       "      <th>1</th>\n",
       "      <td>-0.709083</td>\n",
       "      <td>-1.033585</td>\n",
       "      <td>5.675123</td>\n",
       "      <td>1.016567</td>\n",
       "      <td>3.857959</td>\n",
       "      <td>-1.371242</td>\n",
       "      <td>-5.675123</td>\n",
       "      <td>-0.610296</td>\n",
       "      <td>-2.093692</td>\n",
       "      <td>0.516947</td>\n",
       "      <td>...</td>\n",
       "      <td>0.052794</td>\n",
       "      <td>-0.837027</td>\n",
       "      <td>-1.575651</td>\n",
       "      <td>-0.686389</td>\n",
       "      <td>-0.289255</td>\n",
       "      <td>-0.289255</td>\n",
       "      <td>-0.205259</td>\n",
       "      <td>-0.205259</td>\n",
       "      <td>0.491201</td>\n",
       "      <td>-0.192877</td>\n",
       "    </tr>\n",
       "    <tr>\n",
       "      <th>2</th>\n",
       "      <td>-0.730694</td>\n",
       "      <td>-0.985323</td>\n",
       "      <td>3.048626</td>\n",
       "      <td>2.031727</td>\n",
       "      <td>1.416432</td>\n",
       "      <td>1.036456</td>\n",
       "      <td>-3.048626</td>\n",
       "      <td>-1.635463</td>\n",
       "      <td>-0.990445</td>\n",
       "      <td>-0.019856</td>\n",
       "      <td>...</td>\n",
       "      <td>0.290294</td>\n",
       "      <td>-4.095331</td>\n",
       "      <td>-4.463759</td>\n",
       "      <td>-2.835691</td>\n",
       "      <td>-0.276221</td>\n",
       "      <td>-0.276221</td>\n",
       "      <td>-0.103152</td>\n",
       "      <td>-0.103152</td>\n",
       "      <td>13.448787</td>\n",
       "      <td>-0.192989</td>\n",
       "    </tr>\n",
       "    <tr>\n",
       "      <th>3</th>\n",
       "      <td>-0.756325</td>\n",
       "      <td>-0.941784</td>\n",
       "      <td>3.745908</td>\n",
       "      <td>0.717785</td>\n",
       "      <td>2.093207</td>\n",
       "      <td>0.658414</td>\n",
       "      <td>-3.745908</td>\n",
       "      <td>-0.482452</td>\n",
       "      <td>-1.169314</td>\n",
       "      <td>0.091412</td>\n",
       "      <td>...</td>\n",
       "      <td>0.132987</td>\n",
       "      <td>-4.106879</td>\n",
       "      <td>-4.523928</td>\n",
       "      <td>-2.835691</td>\n",
       "      <td>-0.270075</td>\n",
       "      <td>-0.270075</td>\n",
       "      <td>0.044976</td>\n",
       "      <td>0.044976</td>\n",
       "      <td>14.414322</td>\n",
       "      <td>-0.197698</td>\n",
       "    </tr>\n",
       "    <tr>\n",
       "      <th>4</th>\n",
       "      <td>-0.774379</td>\n",
       "      <td>-0.886359</td>\n",
       "      <td>2.867759</td>\n",
       "      <td>0.876267</td>\n",
       "      <td>1.718556</td>\n",
       "      <td>0.499864</td>\n",
       "      <td>-2.867759</td>\n",
       "      <td>-0.662097</td>\n",
       "      <td>-0.990969</td>\n",
       "      <td>0.080242</td>\n",
       "      <td>...</td>\n",
       "      <td>0.277913</td>\n",
       "      <td>-3.604170</td>\n",
       "      <td>-4.403590</td>\n",
       "      <td>-2.835691</td>\n",
       "      <td>-0.267205</td>\n",
       "      <td>-0.267205</td>\n",
       "      <td>0.524989</td>\n",
       "      <td>0.524989</td>\n",
       "      <td>11.323864</td>\n",
       "      <td>-0.235935</td>\n",
       "    </tr>\n",
       "    <tr>\n",
       "      <th>...</th>\n",
       "      <td>...</td>\n",
       "      <td>...</td>\n",
       "      <td>...</td>\n",
       "      <td>...</td>\n",
       "      <td>...</td>\n",
       "      <td>...</td>\n",
       "      <td>...</td>\n",
       "      <td>...</td>\n",
       "      <td>...</td>\n",
       "      <td>...</td>\n",
       "      <td>...</td>\n",
       "      <td>...</td>\n",
       "      <td>...</td>\n",
       "      <td>...</td>\n",
       "      <td>...</td>\n",
       "      <td>...</td>\n",
       "      <td>...</td>\n",
       "      <td>...</td>\n",
       "      <td>...</td>\n",
       "      <td>...</td>\n",
       "      <td>...</td>\n",
       "    </tr>\n",
       "    <tr>\n",
       "      <th>27375</th>\n",
       "      <td>-0.572384</td>\n",
       "      <td>-0.565975</td>\n",
       "      <td>0.617392</td>\n",
       "      <td>-0.583387</td>\n",
       "      <td>0.442670</td>\n",
       "      <td>-1.043809</td>\n",
       "      <td>-0.617392</td>\n",
       "      <td>0.581186</td>\n",
       "      <td>0.119205</td>\n",
       "      <td>0.211580</td>\n",
       "      <td>...</td>\n",
       "      <td>-0.013411</td>\n",
       "      <td>0.878351</td>\n",
       "      <td>0.051728</td>\n",
       "      <td>0.328402</td>\n",
       "      <td>-0.325784</td>\n",
       "      <td>-0.325784</td>\n",
       "      <td>1.517718</td>\n",
       "      <td>1.517718</td>\n",
       "      <td>1.184616</td>\n",
       "      <td>-0.501899</td>\n",
       "    </tr>\n",
       "    <tr>\n",
       "      <th>27376</th>\n",
       "      <td>-0.570458</td>\n",
       "      <td>-0.561308</td>\n",
       "      <td>0.876563</td>\n",
       "      <td>-0.626897</td>\n",
       "      <td>0.457890</td>\n",
       "      <td>-1.093698</td>\n",
       "      <td>-0.876563</td>\n",
       "      <td>0.621272</td>\n",
       "      <td>0.121734</td>\n",
       "      <td>0.223332</td>\n",
       "      <td>...</td>\n",
       "      <td>0.127176</td>\n",
       "      <td>1.008646</td>\n",
       "      <td>0.051728</td>\n",
       "      <td>-0.842568</td>\n",
       "      <td>-0.325849</td>\n",
       "      <td>-0.325849</td>\n",
       "      <td>1.492475</td>\n",
       "      <td>1.492475</td>\n",
       "      <td>1.002610</td>\n",
       "      <td>-0.500447</td>\n",
       "    </tr>\n",
       "    <tr>\n",
       "      <th>27377</th>\n",
       "      <td>-0.569413</td>\n",
       "      <td>-0.561959</td>\n",
       "      <td>0.427692</td>\n",
       "      <td>-0.442757</td>\n",
       "      <td>0.383166</td>\n",
       "      <td>-0.933134</td>\n",
       "      <td>-0.427692</td>\n",
       "      <td>0.450077</td>\n",
       "      <td>0.115493</td>\n",
       "      <td>0.185380</td>\n",
       "      <td>...</td>\n",
       "      <td>0.060787</td>\n",
       "      <td>1.051338</td>\n",
       "      <td>0.522324</td>\n",
       "      <td>-0.842568</td>\n",
       "      <td>-0.325924</td>\n",
       "      <td>-0.325924</td>\n",
       "      <td>1.295451</td>\n",
       "      <td>1.295451</td>\n",
       "      <td>0.722336</td>\n",
       "      <td>-0.499198</td>\n",
       "    </tr>\n",
       "    <tr>\n",
       "      <th>27378</th>\n",
       "      <td>-0.573976</td>\n",
       "      <td>-0.566313</td>\n",
       "      <td>0.875551</td>\n",
       "      <td>-0.581274</td>\n",
       "      <td>0.442375</td>\n",
       "      <td>-1.022997</td>\n",
       "      <td>-0.875551</td>\n",
       "      <td>0.579560</td>\n",
       "      <td>0.118885</td>\n",
       "      <td>0.206608</td>\n",
       "      <td>...</td>\n",
       "      <td>0.049072</td>\n",
       "      <td>1.371763</td>\n",
       "      <td>1.369398</td>\n",
       "      <td>-0.842568</td>\n",
       "      <td>-0.325941</td>\n",
       "      <td>-0.325941</td>\n",
       "      <td>1.449224</td>\n",
       "      <td>1.449224</td>\n",
       "      <td>0.564693</td>\n",
       "      <td>-0.494819</td>\n",
       "    </tr>\n",
       "    <tr>\n",
       "      <th>27379</th>\n",
       "      <td>-0.578266</td>\n",
       "      <td>-0.572628</td>\n",
       "      <td>0.597439</td>\n",
       "      <td>-0.585775</td>\n",
       "      <td>0.593424</td>\n",
       "      <td>-1.026262</td>\n",
       "      <td>-0.597439</td>\n",
       "      <td>0.583371</td>\n",
       "      <td>0.020691</td>\n",
       "      <td>0.217431</td>\n",
       "      <td>...</td>\n",
       "      <td>-0.155951</td>\n",
       "      <td>1.383445</td>\n",
       "      <td>1.463517</td>\n",
       "      <td>-1.232891</td>\n",
       "      <td>-0.325933</td>\n",
       "      <td>-0.325933</td>\n",
       "      <td>1.310012</td>\n",
       "      <td>1.310012</td>\n",
       "      <td>0.399469</td>\n",
       "      <td>-0.495973</td>\n",
       "    </tr>\n",
       "  </tbody>\n",
       "</table>\n",
       "<p>27380 rows × 238 columns</p>\n",
       "</div>"
      ],
      "text/plain": [
       "          0_iav     0_aac     0_ar1     0_ar2     0_ar3     0_ar4     0_cc1  \\\n",
       "0     -0.709083 -1.033585  5.675123  1.016567  3.857959 -1.371242 -5.675123   \n",
       "1     -0.709083 -1.033585  5.675123  1.016567  3.857959 -1.371242 -5.675123   \n",
       "2     -0.730694 -0.985323  3.048626  2.031727  1.416432  1.036456 -3.048626   \n",
       "3     -0.756325 -0.941784  3.745908  0.717785  2.093207  0.658414 -3.745908   \n",
       "4     -0.774379 -0.886359  2.867759  0.876267  1.718556  0.499864 -2.867759   \n",
       "...         ...       ...       ...       ...       ...       ...       ...   \n",
       "27375 -0.572384 -0.565975  0.617392 -0.583387  0.442670 -1.043809 -0.617392   \n",
       "27376 -0.570458 -0.561308  0.876563 -0.626897  0.457890 -1.093698 -0.876563   \n",
       "27377 -0.569413 -0.561959  0.427692 -0.442757  0.383166 -0.933134 -0.427692   \n",
       "27378 -0.573976 -0.566313  0.875551 -0.581274  0.442375 -1.022997 -0.875551   \n",
       "27379 -0.578266 -0.572628  0.597439 -0.585775  0.593424 -1.026262 -0.597439   \n",
       "\n",
       "          0_cc2     0_cc3     0_cc4  ...      6_wl     6_mnf     6_mdf  \\\n",
       "0     -0.610296 -2.093692  0.516947  ... -0.147971 -0.810236 -1.575651   \n",
       "1     -0.610296 -2.093692  0.516947  ...  0.052794 -0.837027 -1.575651   \n",
       "2     -1.635463 -0.990445 -0.019856  ...  0.290294 -4.095331 -4.463759   \n",
       "3     -0.482452 -1.169314  0.091412  ...  0.132987 -4.106879 -4.523928   \n",
       "4     -0.662097 -0.990969  0.080242  ...  0.277913 -3.604170 -4.403590   \n",
       "...         ...       ...       ...  ...       ...       ...       ...   \n",
       "27375  0.581186  0.119205  0.211580  ... -0.013411  0.878351  0.051728   \n",
       "27376  0.621272  0.121734  0.223332  ...  0.127176  1.008646  0.051728   \n",
       "27377  0.450077  0.115493  0.185380  ...  0.060787  1.051338  0.522324   \n",
       "27378  0.579560  0.118885  0.206608  ...  0.049072  1.371763  1.369398   \n",
       "27379  0.583371  0.020691  0.217431  ... -0.155951  1.383445  1.463517   \n",
       "\n",
       "          6_pkf     6_mnp     6_ttp     6_vcf     6_psr      6_ohm    6_maxx  \n",
       "0     -0.686389 -0.289253 -0.289253 -0.244831 -0.244831   0.413328 -0.194760  \n",
       "1     -0.686389 -0.289255 -0.289255 -0.205259 -0.205259   0.491201 -0.192877  \n",
       "2     -2.835691 -0.276221 -0.276221 -0.103152 -0.103152  13.448787 -0.192989  \n",
       "3     -2.835691 -0.270075 -0.270075  0.044976  0.044976  14.414322 -0.197698  \n",
       "4     -2.835691 -0.267205 -0.267205  0.524989  0.524989  11.323864 -0.235935  \n",
       "...         ...       ...       ...       ...       ...        ...       ...  \n",
       "27375  0.328402 -0.325784 -0.325784  1.517718  1.517718   1.184616 -0.501899  \n",
       "27376 -0.842568 -0.325849 -0.325849  1.492475  1.492475   1.002610 -0.500447  \n",
       "27377 -0.842568 -0.325924 -0.325924  1.295451  1.295451   0.722336 -0.499198  \n",
       "27378 -0.842568 -0.325941 -0.325941  1.449224  1.449224   0.564693 -0.494819  \n",
       "27379 -1.232891 -0.325933 -0.325933  1.310012  1.310012   0.399469 -0.495973  \n",
       "\n",
       "[27380 rows x 238 columns]"
      ]
     },
     "execution_count": 26,
     "metadata": {},
     "output_type": "execute_result"
    }
   ],
   "source": [
    "X_testB_std"
   ]
  },
  {
   "cell_type": "code",
   "execution_count": 27,
   "id": "5054ccc2",
   "metadata": {
    "execution": {
     "iopub.execute_input": "2022-07-23T00:42:41.611407Z",
     "iopub.status.busy": "2022-07-23T00:42:41.611032Z",
     "iopub.status.idle": "2022-07-23T00:42:41.615960Z",
     "shell.execute_reply": "2022-07-23T00:42:41.615281Z"
    },
    "papermill": {
     "duration": 0.030489,
     "end_time": "2022-07-23T00:42:41.617990",
     "exception": false,
     "start_time": "2022-07-23T00:42:41.587501",
     "status": "completed"
    },
    "tags": []
   },
   "outputs": [],
   "source": [
    "X_train=X_train_std\n",
    "X_valid=X_valid_std\n",
    "X_test=X_test_std"
   ]
  },
  {
   "cell_type": "code",
   "execution_count": 28,
   "id": "fb74c004",
   "metadata": {
    "execution": {
     "iopub.execute_input": "2022-07-23T00:42:41.663763Z",
     "iopub.status.busy": "2022-07-23T00:42:41.663061Z",
     "iopub.status.idle": "2022-07-23T00:42:41.669002Z",
     "shell.execute_reply": "2022-07-23T00:42:41.668009Z"
    },
    "papermill": {
     "duration": 0.030921,
     "end_time": "2022-07-23T00:42:41.670866",
     "exception": false,
     "start_time": "2022-07-23T00:42:41.639945",
     "status": "completed"
    },
    "tags": []
   },
   "outputs": [],
   "source": [
    "X_trainB = X_trainB_std \n",
    "X_validB = X_validB_std \n",
    "X_testB = X_testB_std"
   ]
  },
  {
   "cell_type": "markdown",
   "id": "31396310",
   "metadata": {
    "papermill": {
     "duration": 0.022158,
     "end_time": "2022-07-23T00:42:41.714766",
     "exception": false,
     "start_time": "2022-07-23T00:42:41.692608",
     "status": "completed"
    },
    "tags": []
   },
   "source": [
    "# Training the model\n",
    "![purple-divider](https://user-images.githubusercontent.com/7065401/52071927-c1cd7100-2562-11e9-908a-dde91ba14e59.png)"
   ]
  },
  {
   "cell_type": "markdown",
   "id": "a311c8cc",
   "metadata": {
    "papermill": {
     "duration": 0.021715,
     "end_time": "2022-07-23T00:42:41.758485",
     "exception": false,
     "start_time": "2022-07-23T00:42:41.736770",
     "status": "completed"
    },
    "tags": []
   },
   "source": [
    "# Task A\n",
    "![purple-divider](https://user-images.githubusercontent.com/7065401/52071927-c1cd7100-2562-11e9-908a-dde91ba14e59.png)"
   ]
  },
  {
   "cell_type": "markdown",
   "id": "e1aca3e1",
   "metadata": {
    "papermill": {
     "duration": 0.021911,
     "end_time": "2022-07-23T00:42:41.802535",
     "exception": false,
     "start_time": "2022-07-23T00:42:41.780624",
     "status": "completed"
    },
    "tags": []
   },
   "source": [
    "## Random Undersampling"
   ]
  },
  {
   "cell_type": "code",
   "execution_count": 29,
   "id": "8c128a55",
   "metadata": {
    "execution": {
     "iopub.execute_input": "2022-07-23T00:42:41.849147Z",
     "iopub.status.busy": "2022-07-23T00:42:41.848087Z",
     "iopub.status.idle": "2022-07-23T00:42:41.957325Z",
     "shell.execute_reply": "2022-07-23T00:42:41.956453Z"
    },
    "papermill": {
     "duration": 0.134517,
     "end_time": "2022-07-23T00:42:41.959587",
     "exception": false,
     "start_time": "2022-07-23T00:42:41.825070",
     "status": "completed"
    },
    "tags": []
   },
   "outputs": [],
   "source": [
    "from imblearn.under_sampling import RandomUnderSampler"
   ]
  },
  {
   "cell_type": "code",
   "execution_count": 30,
   "id": "38515f4d",
   "metadata": {
    "execution": {
     "iopub.execute_input": "2022-07-23T00:42:42.005526Z",
     "iopub.status.busy": "2022-07-23T00:42:42.004904Z",
     "iopub.status.idle": "2022-07-23T00:42:42.020296Z",
     "shell.execute_reply": "2022-07-23T00:42:42.019326Z"
    },
    "papermill": {
     "duration": 0.040621,
     "end_time": "2022-07-23T00:42:42.022436",
     "exception": false,
     "start_time": "2022-07-23T00:42:41.981815",
     "status": "completed"
    },
    "tags": []
   },
   "outputs": [
    {
     "data": {
      "text/plain": [
       "event        \n",
       "neutral          51773\n",
       "smile             8342\n",
       "frown             8016\n",
       "eyebrow_raise     7587\n",
       "squeeze_eyes      7192\n",
       "dtype: int64"
      ]
     },
     "execution_count": 30,
     "metadata": {},
     "output_type": "execute_result"
    }
   ],
   "source": [
    "y_train.value_counts()"
   ]
  },
  {
   "cell_type": "code",
   "execution_count": 31,
   "id": "4cc5ad34",
   "metadata": {
    "execution": {
     "iopub.execute_input": "2022-07-23T00:42:42.067632Z",
     "iopub.status.busy": "2022-07-23T00:42:42.067262Z",
     "iopub.status.idle": "2022-07-23T00:42:42.071924Z",
     "shell.execute_reply": "2022-07-23T00:42:42.070960Z"
    },
    "papermill": {
     "duration": 0.02959,
     "end_time": "2022-07-23T00:42:42.073787",
     "exception": false,
     "start_time": "2022-07-23T00:42:42.044197",
     "status": "completed"
    },
    "tags": []
   },
   "outputs": [],
   "source": [
    "dict_us = {\n",
    "  \"eyebrow_raise\": 4834,\n",
    "  \"frown\": 8016,\n",
    "  \"neutral\": 9000 ,\n",
    "  \"smile\": 5374 ,\n",
    "  \"squeeze_eyes\": 7192 \n",
    "}"
   ]
  },
  {
   "cell_type": "code",
   "execution_count": 32,
   "id": "f4e7d70c",
   "metadata": {
    "execution": {
     "iopub.execute_input": "2022-07-23T00:42:42.119260Z",
     "iopub.status.busy": "2022-07-23T00:42:42.118898Z",
     "iopub.status.idle": "2022-07-23T00:42:42.123371Z",
     "shell.execute_reply": "2022-07-23T00:42:42.122455Z"
    },
    "papermill": {
     "duration": 0.029285,
     "end_time": "2022-07-23T00:42:42.125078",
     "exception": false,
     "start_time": "2022-07-23T00:42:42.095793",
     "status": "completed"
    },
    "tags": []
   },
   "outputs": [],
   "source": [
    "undersample = RandomUnderSampler(sampling_strategy=dict_us, random_state=40)"
   ]
  },
  {
   "cell_type": "code",
   "execution_count": 33,
   "id": "f2ca2fe8",
   "metadata": {
    "execution": {
     "iopub.execute_input": "2022-07-23T00:42:42.171428Z",
     "iopub.status.busy": "2022-07-23T00:42:42.170419Z",
     "iopub.status.idle": "2022-07-23T00:42:42.776416Z",
     "shell.execute_reply": "2022-07-23T00:42:42.775481Z"
    },
    "papermill": {
     "duration": 0.631398,
     "end_time": "2022-07-23T00:42:42.778820",
     "exception": false,
     "start_time": "2022-07-23T00:42:42.147422",
     "status": "completed"
    },
    "tags": []
   },
   "outputs": [],
   "source": [
    "X_train_rus, y_train_rus = undersample.fit_resample(X_train, y_train)"
   ]
  },
  {
   "cell_type": "code",
   "execution_count": 34,
   "id": "729d72d8",
   "metadata": {
    "execution": {
     "iopub.execute_input": "2022-07-23T00:42:42.827038Z",
     "iopub.status.busy": "2022-07-23T00:42:42.826461Z",
     "iopub.status.idle": "2022-07-23T00:42:42.838359Z",
     "shell.execute_reply": "2022-07-23T00:42:42.837508Z"
    },
    "papermill": {
     "duration": 0.037884,
     "end_time": "2022-07-23T00:42:42.840502",
     "exception": false,
     "start_time": "2022-07-23T00:42:42.802618",
     "status": "completed"
    },
    "tags": []
   },
   "outputs": [
    {
     "data": {
      "text/plain": [
       "neutral          9000\n",
       "frown            8016\n",
       "squeeze_eyes     7192\n",
       "smile            5374\n",
       "eyebrow_raise    4834\n",
       "Name: event, dtype: int64"
      ]
     },
     "execution_count": 34,
     "metadata": {},
     "output_type": "execute_result"
    }
   ],
   "source": [
    "y_train_rus['event'].value_counts()"
   ]
  },
  {
   "cell_type": "markdown",
   "id": "59c12b1c",
   "metadata": {
    "papermill": {
     "duration": 0.027126,
     "end_time": "2022-07-23T00:42:42.896924",
     "exception": false,
     "start_time": "2022-07-23T00:42:42.869798",
     "status": "completed"
    },
    "tags": []
   },
   "source": [
    "### Random Forest - Random Undersampling"
   ]
  },
  {
   "cell_type": "code",
   "execution_count": 35,
   "id": "3778ed75",
   "metadata": {
    "execution": {
     "iopub.execute_input": "2022-07-23T00:42:42.955072Z",
     "iopub.status.busy": "2022-07-23T00:42:42.954432Z",
     "iopub.status.idle": "2022-07-23T00:43:55.280804Z",
     "shell.execute_reply": "2022-07-23T00:43:55.279265Z"
    },
    "papermill": {
     "duration": 72.387241,
     "end_time": "2022-07-23T00:43:55.311618",
     "exception": false,
     "start_time": "2022-07-23T00:42:42.924377",
     "status": "completed"
    },
    "tags": []
   },
   "outputs": [
    {
     "name": "stderr",
     "output_type": "stream",
     "text": [
      "/opt/conda/lib/python3.7/site-packages/ipykernel_launcher.py:2: DataConversionWarning: A column-vector y was passed when a 1d array was expected. Please change the shape of y to (n_samples,), for example using ravel().\n",
      "  \n"
     ]
    },
    {
     "data": {
      "text/plain": [
       "RandomForestClassifier(random_state=42)"
      ]
     },
     "execution_count": 35,
     "metadata": {},
     "output_type": "execute_result"
    }
   ],
   "source": [
    "clf_rf_rus = RandomForestClassifier(n_estimators=100, random_state=42)\n",
    "clf_rf_rus.fit(X_train_rus, y_train_rus)"
   ]
  },
  {
   "cell_type": "code",
   "execution_count": 36,
   "id": "54713ea3",
   "metadata": {
    "execution": {
     "iopub.execute_input": "2022-07-23T00:43:55.360332Z",
     "iopub.status.busy": "2022-07-23T00:43:55.359561Z",
     "iopub.status.idle": "2022-07-23T00:43:56.398204Z",
     "shell.execute_reply": "2022-07-23T00:43:56.396976Z"
    },
    "papermill": {
     "duration": 1.066061,
     "end_time": "2022-07-23T00:43:56.400848",
     "exception": false,
     "start_time": "2022-07-23T00:43:55.334787",
     "status": "completed"
    },
    "tags": []
   },
   "outputs": [
    {
     "name": "stdout",
     "output_type": "stream",
     "text": [
      "Accuracy: 82.79734558448187 %\n",
      "F1-Score: 0.7456726506494322\n"
     ]
    }
   ],
   "source": [
    "y_pred_rf_rus = clf_rf_rus.predict(X_valid)\n",
    "score_rf_rus = clf_rf_rus.score(X_valid, y_valid)\n",
    "f1_rf_rus = f1_score(y_valid, y_pred_rf_rus, average='macro')\n",
    "print ('Accuracy: '+str(score_rf_rus*100)+' %')\n",
    "print ('F1-Score: '+str(f1_rf_rus))"
   ]
  },
  {
   "cell_type": "code",
   "execution_count": 37,
   "id": "03c2466e",
   "metadata": {
    "execution": {
     "iopub.execute_input": "2022-07-23T00:43:56.448645Z",
     "iopub.status.busy": "2022-07-23T00:43:56.447574Z",
     "iopub.status.idle": "2022-07-23T00:43:57.296655Z",
     "shell.execute_reply": "2022-07-23T00:43:57.295822Z"
    },
    "papermill": {
     "duration": 0.875216,
     "end_time": "2022-07-23T00:43:57.298960",
     "exception": false,
     "start_time": "2022-07-23T00:43:56.423744",
     "status": "completed"
    },
    "tags": []
   },
   "outputs": [
    {
     "name": "stderr",
     "output_type": "stream",
     "text": [
      "/opt/conda/lib/python3.7/site-packages/sklearn/utils/deprecation.py:87: FutureWarning: Function plot_confusion_matrix is deprecated; Function `plot_confusion_matrix` is deprecated in 1.0 and will be removed in 1.2. Use one of the class methods: ConfusionMatrixDisplay.from_predictions or ConfusionMatrixDisplay.from_estimator.\n",
      "  warnings.warn(msg, category=FutureWarning)\n"
     ]
    },
    {
     "data": {
      "text/plain": [
       "<sklearn.metrics._plot.confusion_matrix.ConfusionMatrixDisplay at 0x7f882e5c8050>"
      ]
     },
     "execution_count": 37,
     "metadata": {},
     "output_type": "execute_result"
    },
    {
     "data": {
      "image/png": "[encoded data removed]",
      "text/plain": [
       "<Figure size 432x288 with 2 Axes>"
      ]
     },
     "metadata": {
      "needs_background": "light"
     },
     "output_type": "display_data"
    }
   ],
   "source": [
    "plot_confusion_matrix(estimator=clf_rf_rus, X=X_valid, y_true=y_valid,\n",
    "                      normalize='true', cmap='Blues')"
   ]
  },
  {
   "cell_type": "code",
   "execution_count": 38,
   "id": "6fd1437d",
   "metadata": {
    "execution": {
     "iopub.execute_input": "2022-07-23T00:43:57.347363Z",
     "iopub.status.busy": "2022-07-23T00:43:57.346869Z",
     "iopub.status.idle": "2022-07-23T00:43:58.377545Z",
     "shell.execute_reply": "2022-07-23T00:43:58.376473Z"
    },
    "papermill": {
     "duration": 1.057392,
     "end_time": "2022-07-23T00:43:58.379895",
     "exception": false,
     "start_time": "2022-07-23T00:43:57.322503",
     "status": "completed"
    },
    "tags": []
   },
   "outputs": [
    {
     "name": "stdout",
     "output_type": "stream",
     "text": [
      "Accuracy: 87.68561187916026 %\n",
      "F1-Score: 0.8333101763521309\n"
     ]
    }
   ],
   "source": [
    "y_pred_rf_rus = clf_rf_rus.predict(X_test)\n",
    "score_rf_rus = clf_rf_rus.score(X_test, y_test)\n",
    "f1_rf_rus = f1_score(y_test, y_pred_rf_rus, average='macro')\n",
    "print ('Accuracy: '+str(score_rf_rus*100)+' %')\n",
    "print ('F1-Score: '+str(f1_rf_rus))"
   ]
  },
  {
   "cell_type": "code",
   "execution_count": 39,
   "id": "a9405155",
   "metadata": {
    "execution": {
     "iopub.execute_input": "2022-07-23T00:43:58.428114Z",
     "iopub.status.busy": "2022-07-23T00:43:58.427493Z",
     "iopub.status.idle": "2022-07-23T00:43:59.209580Z",
     "shell.execute_reply": "2022-07-23T00:43:59.208492Z"
    },
    "papermill": {
     "duration": 0.808503,
     "end_time": "2022-07-23T00:43:59.211863",
     "exception": false,
     "start_time": "2022-07-23T00:43:58.403360",
     "status": "completed"
    },
    "tags": []
   },
   "outputs": [
    {
     "name": "stderr",
     "output_type": "stream",
     "text": [
      "/opt/conda/lib/python3.7/site-packages/sklearn/utils/deprecation.py:87: FutureWarning: Function plot_confusion_matrix is deprecated; Function `plot_confusion_matrix` is deprecated in 1.0 and will be removed in 1.2. Use one of the class methods: ConfusionMatrixDisplay.from_predictions or ConfusionMatrixDisplay.from_estimator.\n",
      "  warnings.warn(msg, category=FutureWarning)\n"
     ]
    },
    {
     "data": {
      "text/plain": [
       "<sklearn.metrics._plot.confusion_matrix.ConfusionMatrixDisplay at 0x7f882cb34450>"
      ]
     },
     "execution_count": 39,
     "metadata": {},
     "output_type": "execute_result"
    },
    {
     "data": {
      "image/png": "[encoded data removed]",
      "text/plain": [
       "<Figure size 432x288 with 2 Axes>"
      ]
     },
     "metadata": {
      "needs_background": "light"
     },
     "output_type": "display_data"
    }
   ],
   "source": [
    "plot_confusion_matrix(estimator=clf_rf_rus, X=X_test, y_true=y_test,\n",
    "                      normalize='true', cmap='Blues')"
   ]
  },
  {
   "cell_type": "markdown",
   "id": "a9e32ff2",
   "metadata": {
    "papermill": {
     "duration": 0.023971,
     "end_time": "2022-07-23T00:43:59.260403",
     "exception": false,
     "start_time": "2022-07-23T00:43:59.236432",
     "status": "completed"
    },
    "tags": []
   },
   "source": [
    "### XGBoost - Random Undersampling"
   ]
  },
  {
   "cell_type": "code",
   "execution_count": 40,
   "id": "c05cd8d4",
   "metadata": {
    "execution": {
     "iopub.execute_input": "2022-07-23T00:43:59.405590Z",
     "iopub.status.busy": "2022-07-23T00:43:59.405241Z",
     "iopub.status.idle": "2022-07-23T00:43:59.419518Z",
     "shell.execute_reply": "2022-07-23T00:43:59.418537Z"
    },
    "papermill": {
     "duration": 0.137488,
     "end_time": "2022-07-23T00:43:59.421737",
     "exception": false,
     "start_time": "2022-07-23T00:43:59.284249",
     "status": "completed"
    },
    "tags": []
   },
   "outputs": [
    {
     "name": "stderr",
     "output_type": "stream",
     "text": [
      "/opt/conda/lib/python3.7/site-packages/sklearn/preprocessing/_label.py:115: DataConversionWarning: A column-vector y was passed when a 1d array was expected. Please change the shape of y to (n_samples, ), for example using ravel().\n",
      "  y = column_or_1d(y, warn=True)\n"
     ]
    }
   ],
   "source": [
    "xgb_rus = XGBClassifier(n_estimators=100)\n",
    "le = LabelEncoder()\n",
    "y_trainXGB_rus = le.fit_transform(y_train_rus)"
   ]
  },
  {
   "cell_type": "code",
   "execution_count": 41,
   "id": "28e69b12",
   "metadata": {
    "execution": {
     "iopub.execute_input": "2022-07-23T00:43:59.471140Z",
     "iopub.status.busy": "2022-07-23T00:43:59.470088Z",
     "iopub.status.idle": "2022-07-23T00:43:59.482863Z",
     "shell.execute_reply": "2022-07-23T00:43:59.482148Z"
    },
    "papermill": {
     "duration": 0.039288,
     "end_time": "2022-07-23T00:43:59.484779",
     "exception": false,
     "start_time": "2022-07-23T00:43:59.445491",
     "status": "completed"
    },
    "tags": []
   },
   "outputs": [],
   "source": [
    "y_validXGB = le.fit_transform(y_valid)\n",
    "y_testXGB = le.fit_transform(y_test)"
   ]
  },
  {
   "cell_type": "code",
   "execution_count": 42,
   "id": "2ccc86c2",
   "metadata": {
    "execution": {
     "iopub.execute_input": "2022-07-23T00:43:59.534606Z",
     "iopub.status.busy": "2022-07-23T00:43:59.533634Z",
     "iopub.status.idle": "2022-07-23T00:50:14.549083Z",
     "shell.execute_reply": "2022-07-23T00:50:14.547849Z"
    },
    "papermill": {
     "duration": 375.068895,
     "end_time": "2022-07-23T00:50:14.577488",
     "exception": false,
     "start_time": "2022-07-23T00:43:59.508593",
     "status": "completed"
    },
    "tags": []
   },
   "outputs": [
    {
     "data": {
      "text/plain": [
       "XGBClassifier(base_score=0.5, booster='gbtree', callbacks=None,\n",
       "              colsample_bylevel=1, colsample_bynode=1, colsample_bytree=1,\n",
       "              early_stopping_rounds=None, enable_categorical=False,\n",
       "              eval_metric=None, gamma=0, gpu_id=-1, grow_policy='depthwise',\n",
       "              importance_type=None, interaction_constraints='',\n",
       "              learning_rate=0.300000012, max_bin=256, max_cat_to_onehot=4,\n",
       "              max_delta_step=0, max_depth=6, max_leaves=0, min_child_weight=1,\n",
       "              missing=nan, monotone_constraints='()', n_estimators=100,\n",
       "              n_jobs=0, num_parallel_tree=1, objective='multi:softprob',\n",
       "              predictor='auto', random_state=0, reg_alpha=0, ...)"
      ]
     },
     "execution_count": 42,
     "metadata": {},
     "output_type": "execute_result"
    }
   ],
   "source": [
    "xgb_rus.fit(X_train_rus, y_trainXGB_rus)"
   ]
  },
  {
   "cell_type": "code",
   "execution_count": 43,
   "id": "fbebee14",
   "metadata": {
    "execution": {
     "iopub.execute_input": "2022-07-23T00:50:14.628337Z",
     "iopub.status.busy": "2022-07-23T00:50:14.627574Z",
     "iopub.status.idle": "2022-07-23T00:50:14.821578Z",
     "shell.execute_reply": "2022-07-23T00:50:14.820147Z"
    },
    "papermill": {
     "duration": 0.222237,
     "end_time": "2022-07-23T00:50:14.823954",
     "exception": false,
     "start_time": "2022-07-23T00:50:14.601717",
     "status": "completed"
    },
    "tags": []
   },
   "outputs": [
    {
     "name": "stdout",
     "output_type": "stream",
     "text": [
      "Accuracy: 84.14497192445126 %\n",
      "F1-Score: 0.7686084443824243\n"
     ]
    }
   ],
   "source": [
    "y_predXGB_rus = xgb_rus.predict(X_valid)\n",
    "predictions_rus = [round(value) for value in y_predXGB_rus]\n",
    "score_xgb_rus = accuracy_score(y_validXGB, predictions_rus)\n",
    "f1_xgb_rus = f1_score(y_validXGB, predictions_rus, average='macro')\n",
    "print ('Accuracy: '+str(score_xgb_rus*100)+' %')\n",
    "print ('F1-Score: '+str(f1_xgb_rus))"
   ]
  },
  {
   "cell_type": "code",
   "execution_count": 44,
   "id": "f990d7b3",
   "metadata": {
    "execution": {
     "iopub.execute_input": "2022-07-23T00:50:14.874674Z",
     "iopub.status.busy": "2022-07-23T00:50:14.873780Z",
     "iopub.status.idle": "2022-07-23T00:50:15.279589Z",
     "shell.execute_reply": "2022-07-23T00:50:15.278587Z"
    },
    "papermill": {
     "duration": 0.433571,
     "end_time": "2022-07-23T00:50:15.281939",
     "exception": false,
     "start_time": "2022-07-23T00:50:14.848368",
     "status": "completed"
    },
    "tags": []
   },
   "outputs": [
    {
     "name": "stderr",
     "output_type": "stream",
     "text": [
      "/opt/conda/lib/python3.7/site-packages/sklearn/utils/deprecation.py:87: FutureWarning: Function plot_confusion_matrix is deprecated; Function `plot_confusion_matrix` is deprecated in 1.0 and will be removed in 1.2. Use one of the class methods: ConfusionMatrixDisplay.from_predictions or ConfusionMatrixDisplay.from_estimator.\n",
      "  warnings.warn(msg, category=FutureWarning)\n"
     ]
    },
    {
     "data": {
      "text/plain": [
       "<sklearn.metrics._plot.confusion_matrix.ConfusionMatrixDisplay at 0x7f882c32de50>"
      ]
     },
     "execution_count": 44,
     "metadata": {},
     "output_type": "execute_result"
    },
    {
     "data": {
      "image/png": "[encoded data removed]",
      "text/plain": [
       "<Figure size 432x288 with 2 Axes>"
      ]
     },
     "metadata": {
      "needs_background": "light"
     },
     "output_type": "display_data"
    }
   ],
   "source": [
    "plot_confusion_matrix(estimator=xgb_rus, X=X_valid, y_true=y_validXGB,\n",
    "                      normalize='true', cmap='Blues')"
   ]
  },
  {
   "cell_type": "code",
   "execution_count": 45,
   "id": "05fa2dd8",
   "metadata": {
    "execution": {
     "iopub.execute_input": "2022-07-23T00:50:15.333995Z",
     "iopub.status.busy": "2022-07-23T00:50:15.333404Z",
     "iopub.status.idle": "2022-07-23T00:50:15.521489Z",
     "shell.execute_reply": "2022-07-23T00:50:15.520730Z"
    },
    "papermill": {
     "duration": 0.216275,
     "end_time": "2022-07-23T00:50:15.523531",
     "exception": false,
     "start_time": "2022-07-23T00:50:15.307256",
     "status": "completed"
    },
    "tags": []
   },
   "outputs": [
    {
     "name": "stdout",
     "output_type": "stream",
     "text": [
      "Accuracy: 88.06451612903226 %\n",
      "F1-Score: 0.8360158315595576\n"
     ]
    }
   ],
   "source": [
    "y_predXGB_rus = xgb_rus.predict(X_test)\n",
    "predictions_rus = [round(value) for value in y_predXGB_rus]\n",
    "score_xgb_rus = accuracy_score(y_testXGB, predictions_rus)\n",
    "f1_xgb_rus = f1_score(y_testXGB, predictions_rus, average='macro')\n",
    "print ('Accuracy: '+str(score_xgb_rus*100)+' %')\n",
    "print ('F1-Score: '+str(f1_xgb_rus))"
   ]
  },
  {
   "cell_type": "code",
   "execution_count": 46,
   "id": "a2119dc4",
   "metadata": {
    "execution": {
     "iopub.execute_input": "2022-07-23T00:50:15.576241Z",
     "iopub.status.busy": "2022-07-23T00:50:15.575326Z",
     "iopub.status.idle": "2022-07-23T00:50:16.025092Z",
     "shell.execute_reply": "2022-07-23T00:50:16.024018Z"
    },
    "papermill": {
     "duration": 0.478841,
     "end_time": "2022-07-23T00:50:16.027907",
     "exception": false,
     "start_time": "2022-07-23T00:50:15.549066",
     "status": "completed"
    },
    "tags": []
   },
   "outputs": [
    {
     "name": "stderr",
     "output_type": "stream",
     "text": [
      "/opt/conda/lib/python3.7/site-packages/sklearn/utils/deprecation.py:87: FutureWarning: Function plot_confusion_matrix is deprecated; Function `plot_confusion_matrix` is deprecated in 1.0 and will be removed in 1.2. Use one of the class methods: ConfusionMatrixDisplay.from_predictions or ConfusionMatrixDisplay.from_estimator.\n",
      "  warnings.warn(msg, category=FutureWarning)\n"
     ]
    },
    {
     "data": {
      "text/plain": [
       "<sklearn.metrics._plot.confusion_matrix.ConfusionMatrixDisplay at 0x7f882c2de750>"
      ]
     },
     "execution_count": 46,
     "metadata": {},
     "output_type": "execute_result"
    },
    {
     "data": {
      "image/png": "[encoded data removed]",
      "text/plain": [
       "<Figure size 432x288 with 2 Axes>"
      ]
     },
     "metadata": {
      "needs_background": "light"
     },
     "output_type": "display_data"
    }
   ],
   "source": [
    "plot_confusion_matrix(estimator=xgb_rus, X=X_test, y_true=y_testXGB,\n",
    "                      normalize='true', cmap='Blues')"
   ]
  },
  {
   "cell_type": "markdown",
   "id": "c99c0797",
   "metadata": {
    "papermill": {
     "duration": 0.036716,
     "end_time": "2022-07-23T00:50:16.103362",
     "exception": false,
     "start_time": "2022-07-23T00:50:16.066646",
     "status": "completed"
    },
    "tags": []
   },
   "source": [
    "## One Sided Selection Undersampling"
   ]
  },
  {
   "cell_type": "code",
   "execution_count": 47,
   "id": "3d32e8e7",
   "metadata": {
    "execution": {
     "iopub.execute_input": "2022-07-23T00:50:16.162384Z",
     "iopub.status.busy": "2022-07-23T00:50:16.161718Z",
     "iopub.status.idle": "2022-07-23T00:50:16.167194Z",
     "shell.execute_reply": "2022-07-23T00:50:16.166370Z"
    },
    "papermill": {
     "duration": 0.035869,
     "end_time": "2022-07-23T00:50:16.169286",
     "exception": false,
     "start_time": "2022-07-23T00:50:16.133417",
     "status": "completed"
    },
    "tags": []
   },
   "outputs": [],
   "source": [
    "from imblearn.under_sampling import OneSidedSelection"
   ]
  },
  {
   "cell_type": "code",
   "execution_count": 48,
   "id": "9e66ac66",
   "metadata": {
    "execution": {
     "iopub.execute_input": "2022-07-23T00:50:16.226557Z",
     "iopub.status.busy": "2022-07-23T00:50:16.225375Z",
     "iopub.status.idle": "2022-07-23T00:50:16.244325Z",
     "shell.execute_reply": "2022-07-23T00:50:16.243443Z"
    },
    "papermill": {
     "duration": 0.049287,
     "end_time": "2022-07-23T00:50:16.246462",
     "exception": false,
     "start_time": "2022-07-23T00:50:16.197175",
     "status": "completed"
    },
    "tags": []
   },
   "outputs": [
    {
     "data": {
      "text/plain": [
       "event        \n",
       "neutral          51773\n",
       "smile             8342\n",
       "frown             8016\n",
       "eyebrow_raise     7587\n",
       "squeeze_eyes      7192\n",
       "dtype: int64"
      ]
     },
     "execution_count": 48,
     "metadata": {},
     "output_type": "execute_result"
    }
   ],
   "source": [
    "y_train.value_counts()"
   ]
  },
  {
   "cell_type": "code",
   "execution_count": 49,
   "id": "93f7203f",
   "metadata": {
    "execution": {
     "iopub.execute_input": "2022-07-23T00:50:16.303006Z",
     "iopub.status.busy": "2022-07-23T00:50:16.302163Z",
     "iopub.status.idle": "2022-07-23T00:50:59.295798Z",
     "shell.execute_reply": "2022-07-23T00:50:59.294768Z"
    },
    "papermill": {
     "duration": 43.024508,
     "end_time": "2022-07-23T00:50:59.298189",
     "exception": false,
     "start_time": "2022-07-23T00:50:16.273681",
     "status": "completed"
    },
    "tags": []
   },
   "outputs": [],
   "source": [
    "undersample = OneSidedSelection(n_neighbors=5, n_seeds_S=200, random_state=42)\n",
    "X_train_us, y_train_us = undersample.fit_resample(X_train, y_train)"
   ]
  },
  {
   "cell_type": "code",
   "execution_count": 50,
   "id": "24b14701",
   "metadata": {
    "execution": {
     "iopub.execute_input": "2022-07-23T00:50:59.353406Z",
     "iopub.status.busy": "2022-07-23T00:50:59.352587Z",
     "iopub.status.idle": "2022-07-23T00:50:59.363444Z",
     "shell.execute_reply": "2022-07-23T00:50:59.362837Z"
    },
    "papermill": {
     "duration": 0.03876,
     "end_time": "2022-07-23T00:50:59.365077",
     "exception": false,
     "start_time": "2022-07-23T00:50:59.326317",
     "status": "completed"
    },
    "tags": []
   },
   "outputs": [
    {
     "data": {
      "text/plain": [
       "event        \n",
       "neutral          20854\n",
       "squeeze_eyes      7192\n",
       "frown             5714\n",
       "smile             4607\n",
       "eyebrow_raise     1679\n",
       "dtype: int64"
      ]
     },
     "execution_count": 50,
     "metadata": {},
     "output_type": "execute_result"
    }
   ],
   "source": [
    "y_train_us.value_counts()"
   ]
  },
  {
   "cell_type": "markdown",
   "id": "378b816d",
   "metadata": {
    "papermill": {
     "duration": 0.025329,
     "end_time": "2022-07-23T00:50:59.417005",
     "exception": false,
     "start_time": "2022-07-23T00:50:59.391676",
     "status": "completed"
    },
    "tags": []
   },
   "source": [
    "### Random Forest - OSS"
   ]
  },
  {
   "cell_type": "code",
   "execution_count": 51,
   "id": "f45adddd",
   "metadata": {
    "execution": {
     "iopub.execute_input": "2022-07-23T00:50:59.469302Z",
     "iopub.status.busy": "2022-07-23T00:50:59.468957Z",
     "iopub.status.idle": "2022-07-23T00:52:27.483933Z",
     "shell.execute_reply": "2022-07-23T00:52:27.482619Z"
    },
    "papermill": {
     "duration": 88.069228,
     "end_time": "2022-07-23T00:52:27.511765",
     "exception": false,
     "start_time": "2022-07-23T00:50:59.442537",
     "status": "completed"
    },
    "tags": []
   },
   "outputs": [
    {
     "name": "stderr",
     "output_type": "stream",
     "text": [
      "/opt/conda/lib/python3.7/site-packages/ipykernel_launcher.py:2: DataConversionWarning: A column-vector y was passed when a 1d array was expected. Please change the shape of y to (n_samples,), for example using ravel().\n",
      "  \n"
     ]
    },
    {
     "data": {
      "text/plain": [
       "RandomForestClassifier(random_state=42)"
      ]
     },
     "execution_count": 51,
     "metadata": {},
     "output_type": "execute_result"
    }
   ],
   "source": [
    "clf_rf_us = RandomForestClassifier(n_estimators=100, random_state=42)\n",
    "clf_rf_us.fit(X_train_us, y_train_us)"
   ]
  },
  {
   "cell_type": "code",
   "execution_count": 52,
   "id": "1d1b46dd",
   "metadata": {
    "execution": {
     "iopub.execute_input": "2022-07-23T00:52:27.565472Z",
     "iopub.status.busy": "2022-07-23T00:52:27.565082Z",
     "iopub.status.idle": "2022-07-23T00:52:28.556084Z",
     "shell.execute_reply": "2022-07-23T00:52:28.554872Z"
    },
    "papermill": {
     "duration": 1.020799,
     "end_time": "2022-07-23T00:52:28.558335",
     "exception": false,
     "start_time": "2022-07-23T00:52:27.537536",
     "status": "completed"
    },
    "tags": []
   },
   "outputs": [
    {
     "name": "stdout",
     "output_type": "stream",
     "text": [
      "Accuracy: 86.94742215416028 %\n",
      "F1-Score: 0.7732700026803604\n"
     ]
    }
   ],
   "source": [
    "y_pred_rf_us = clf_rf_us.predict(X_valid)\n",
    "score_rf_us = clf_rf_us.score(X_valid, y_valid)\n",
    "f1_rf_us = f1_score(y_valid, y_pred_rf_us, average='macro')\n",
    "print ('Accuracy: '+str(score_rf_us*100)+' %')\n",
    "print ('F1-Score: '+str(f1_rf_us))"
   ]
  },
  {
   "cell_type": "code",
   "execution_count": 53,
   "id": "3f7e450a",
   "metadata": {
    "execution": {
     "iopub.execute_input": "2022-07-23T00:52:28.613026Z",
     "iopub.status.busy": "2022-07-23T00:52:28.612267Z",
     "iopub.status.idle": "2022-07-23T00:52:29.401347Z",
     "shell.execute_reply": "2022-07-23T00:52:29.400288Z"
    },
    "papermill": {
     "duration": 0.818627,
     "end_time": "2022-07-23T00:52:29.403372",
     "exception": false,
     "start_time": "2022-07-23T00:52:28.584745",
     "status": "completed"
    },
    "tags": []
   },
   "outputs": [
    {
     "name": "stderr",
     "output_type": "stream",
     "text": [
      "/opt/conda/lib/python3.7/site-packages/sklearn/utils/deprecation.py:87: FutureWarning: Function plot_confusion_matrix is deprecated; Function `plot_confusion_matrix` is deprecated in 1.0 and will be removed in 1.2. Use one of the class methods: ConfusionMatrixDisplay.from_predictions or ConfusionMatrixDisplay.from_estimator.\n",
      "  warnings.warn(msg, category=FutureWarning)\n"
     ]
    },
    {
     "data": {
      "text/plain": [
       "<sklearn.metrics._plot.confusion_matrix.ConfusionMatrixDisplay at 0x7f882c1446d0>"
      ]
     },
     "execution_count": 53,
     "metadata": {},
     "output_type": "execute_result"
    },
    {
     "data": {
      "image/png": "[encoded data removed]",
      "text/plain": [
       "<Figure size 432x288 with 2 Axes>"
      ]
     },
     "metadata": {
      "needs_background": "light"
     },
     "output_type": "display_data"
    }
   ],
   "source": [
    "plot_confusion_matrix(estimator=clf_rf_us, X=X_valid, y_true=y_valid,\n",
    "                      normalize='true', cmap='Blues')"
   ]
  },
  {
   "cell_type": "code",
   "execution_count": 54,
   "id": "322c6684",
   "metadata": {
    "execution": {
     "iopub.execute_input": "2022-07-23T00:52:29.458878Z",
     "iopub.status.busy": "2022-07-23T00:52:29.458496Z",
     "iopub.status.idle": "2022-07-23T00:52:30.496388Z",
     "shell.execute_reply": "2022-07-23T00:52:30.494838Z"
    },
    "papermill": {
     "duration": 1.068136,
     "end_time": "2022-07-23T00:52:30.498904",
     "exception": false,
     "start_time": "2022-07-23T00:52:29.430768",
     "status": "completed"
    },
    "tags": []
   },
   "outputs": [
    {
     "name": "stdout",
     "output_type": "stream",
     "text": [
      "Accuracy: 87.01484895033282 %\n",
      "F1-Score: 0.8137044817555313\n"
     ]
    }
   ],
   "source": [
    "y_pred_rf_us = clf_rf_us.predict(X_test)\n",
    "score_rf_us = clf_rf_us.score(X_test, y_test)\n",
    "f1_rf_us = f1_score(y_test, y_pred_rf_us, average='macro')\n",
    "print ('Accuracy: '+str(score_rf_us*100)+' %')\n",
    "print ('F1-Score: '+str(f1_rf_us))"
   ]
  },
  {
   "cell_type": "code",
   "execution_count": 55,
   "id": "ce4df43b",
   "metadata": {
    "execution": {
     "iopub.execute_input": "2022-07-23T00:52:30.554793Z",
     "iopub.status.busy": "2022-07-23T00:52:30.554137Z",
     "iopub.status.idle": "2022-07-23T00:52:31.553172Z",
     "shell.execute_reply": "2022-07-23T00:52:31.552064Z"
    },
    "papermill": {
     "duration": 1.029269,
     "end_time": "2022-07-23T00:52:31.555517",
     "exception": false,
     "start_time": "2022-07-23T00:52:30.526248",
     "status": "completed"
    },
    "tags": []
   },
   "outputs": [
    {
     "name": "stderr",
     "output_type": "stream",
     "text": [
      "/opt/conda/lib/python3.7/site-packages/sklearn/utils/deprecation.py:87: FutureWarning: Function plot_confusion_matrix is deprecated; Function `plot_confusion_matrix` is deprecated in 1.0 and will be removed in 1.2. Use one of the class methods: ConfusionMatrixDisplay.from_predictions or ConfusionMatrixDisplay.from_estimator.\n",
      "  warnings.warn(msg, category=FutureWarning)\n"
     ]
    },
    {
     "data": {
      "text/plain": [
       "<sklearn.metrics._plot.confusion_matrix.ConfusionMatrixDisplay at 0x7f882c1c2590>"
      ]
     },
     "execution_count": 55,
     "metadata": {},
     "output_type": "execute_result"
    },
    {
     "data": {
      "image/png": "[encoded data removed]",
      "text/plain": [
       "<Figure size 432x288 with 2 Axes>"
      ]
     },
     "metadata": {
      "needs_background": "light"
     },
     "output_type": "display_data"
    }
   ],
   "source": [
    "plot_confusion_matrix(estimator=clf_rf_us, X=X_test, y_true=y_test,\n",
    "                      normalize='true', cmap='Blues')"
   ]
  },
  {
   "cell_type": "markdown",
   "id": "7d1f3698",
   "metadata": {
    "papermill": {
     "duration": 0.026999,
     "end_time": "2022-07-23T00:52:31.610128",
     "exception": false,
     "start_time": "2022-07-23T00:52:31.583129",
     "status": "completed"
    },
    "tags": []
   },
   "source": [
    "### XGBoost - OSS"
   ]
  },
  {
   "cell_type": "code",
   "execution_count": 56,
   "id": "dae7b0f0",
   "metadata": {
    "execution": {
     "iopub.execute_input": "2022-07-23T00:52:31.665850Z",
     "iopub.status.busy": "2022-07-23T00:52:31.665121Z",
     "iopub.status.idle": "2022-07-23T00:52:31.679829Z",
     "shell.execute_reply": "2022-07-23T00:52:31.678398Z"
    },
    "papermill": {
     "duration": 0.045566,
     "end_time": "2022-07-23T00:52:31.682587",
     "exception": false,
     "start_time": "2022-07-23T00:52:31.637021",
     "status": "completed"
    },
    "tags": []
   },
   "outputs": [
    {
     "name": "stderr",
     "output_type": "stream",
     "text": [
      "/opt/conda/lib/python3.7/site-packages/sklearn/preprocessing/_label.py:115: DataConversionWarning: A column-vector y was passed when a 1d array was expected. Please change the shape of y to (n_samples, ), for example using ravel().\n",
      "  y = column_or_1d(y, warn=True)\n"
     ]
    }
   ],
   "source": [
    "xgb_us = XGBClassifier(n_estimators=100, booster='gblinear')\n",
    "le = LabelEncoder()\n",
    "y_trainXGB_us = le.fit_transform(y_train_us)"
   ]
  },
  {
   "cell_type": "code",
   "execution_count": 57,
   "id": "8012a984",
   "metadata": {
    "execution": {
     "iopub.execute_input": "2022-07-23T00:52:31.739047Z",
     "iopub.status.busy": "2022-07-23T00:52:31.738690Z",
     "iopub.status.idle": "2022-07-23T00:52:31.751596Z",
     "shell.execute_reply": "2022-07-23T00:52:31.750772Z"
    },
    "papermill": {
     "duration": 0.043006,
     "end_time": "2022-07-23T00:52:31.753613",
     "exception": false,
     "start_time": "2022-07-23T00:52:31.710607",
     "status": "completed"
    },
    "tags": []
   },
   "outputs": [],
   "source": [
    "y_validXGB = le.fit_transform(y_valid)\n",
    "y_testXGB = le.fit_transform(y_test)"
   ]
  },
  {
   "cell_type": "code",
   "execution_count": 58,
   "id": "e0cc4fad",
   "metadata": {
    "execution": {
     "iopub.execute_input": "2022-07-23T00:52:31.810335Z",
     "iopub.status.busy": "2022-07-23T00:52:31.809953Z",
     "iopub.status.idle": "2022-07-23T00:52:47.392051Z",
     "shell.execute_reply": "2022-07-23T00:52:47.390831Z"
    },
    "papermill": {
     "duration": 15.613743,
     "end_time": "2022-07-23T00:52:47.394317",
     "exception": false,
     "start_time": "2022-07-23T00:52:31.780574",
     "status": "completed"
    },
    "tags": []
   },
   "outputs": [
    {
     "data": {
      "text/plain": [
       "XGBClassifier(base_score=0.5, booster='gblinear', callbacks=None,\n",
       "              colsample_bylevel=None, colsample_bynode=None,\n",
       "              colsample_bytree=None, early_stopping_rounds=None,\n",
       "              enable_categorical=False, eval_metric=None, gamma=None, gpu_id=-1,\n",
       "              grow_policy=None, importance_type=None,\n",
       "              interaction_constraints=None, learning_rate=0.5, max_bin=None,\n",
       "              max_cat_to_onehot=None, max_delta_step=None, max_depth=None,\n",
       "              max_leaves=None, min_child_weight=None, missing=nan,\n",
       "              monotone_constraints=None, n_estimators=100, n_jobs=0,\n",
       "              num_parallel_tree=None, objective='multi:softprob',\n",
       "              predictor=None, random_state=0, reg_alpha=0, ...)"
      ]
     },
     "execution_count": 58,
     "metadata": {},
     "output_type": "execute_result"
    }
   ],
   "source": [
    "xgb_us.fit(X_train_us, y_trainXGB_us)"
   ]
  },
  {
   "cell_type": "code",
   "execution_count": 59,
   "id": "503b1788",
   "metadata": {
    "execution": {
     "iopub.execute_input": "2022-07-23T00:52:47.452461Z",
     "iopub.status.busy": "2022-07-23T00:52:47.451947Z",
     "iopub.status.idle": "2022-07-23T00:52:47.579820Z",
     "shell.execute_reply": "2022-07-23T00:52:47.578554Z"
    },
    "papermill": {
     "duration": 0.160666,
     "end_time": "2022-07-23T00:52:47.583061",
     "exception": false,
     "start_time": "2022-07-23T00:52:47.422395",
     "status": "completed"
    },
    "tags": []
   },
   "outputs": [
    {
     "name": "stdout",
     "output_type": "stream",
     "text": [
      "Accuracy: 84.59418070444104 %\n",
      "F1-Score: 0.7296091854232487\n"
     ]
    }
   ],
   "source": [
    "y_predXGB_us = xgb_us.predict(X_valid)\n",
    "predictions_us = [round(value) for value in y_predXGB_us]\n",
    "score_xgb_us = accuracy_score(y_validXGB, predictions_us)\n",
    "f1_xgb_us = f1_score(y_validXGB, predictions_us, average='macro')\n",
    "print ('Accuracy: '+str(score_xgb_us*100)+' %')\n",
    "print ('F1-Score: '+str(f1_xgb_us))"
   ]
  },
  {
   "cell_type": "code",
   "execution_count": 60,
   "id": "2d821b71",
   "metadata": {
    "execution": {
     "iopub.execute_input": "2022-07-23T00:52:47.639789Z",
     "iopub.status.busy": "2022-07-23T00:52:47.638779Z",
     "iopub.status.idle": "2022-07-23T00:52:47.982395Z",
     "shell.execute_reply": "2022-07-23T00:52:47.981372Z"
    },
    "papermill": {
     "duration": 0.373622,
     "end_time": "2022-07-23T00:52:47.984403",
     "exception": false,
     "start_time": "2022-07-23T00:52:47.610781",
     "status": "completed"
    },
    "tags": []
   },
   "outputs": [
    {
     "name": "stderr",
     "output_type": "stream",
     "text": [
      "/opt/conda/lib/python3.7/site-packages/sklearn/utils/deprecation.py:87: FutureWarning: Function plot_confusion_matrix is deprecated; Function `plot_confusion_matrix` is deprecated in 1.0 and will be removed in 1.2. Use one of the class methods: ConfusionMatrixDisplay.from_predictions or ConfusionMatrixDisplay.from_estimator.\n",
      "  warnings.warn(msg, category=FutureWarning)\n"
     ]
    },
    {
     "data": {
      "text/plain": [
       "<sklearn.metrics._plot.confusion_matrix.ConfusionMatrixDisplay at 0x7f882bf8af50>"
      ]
     },
     "execution_count": 60,
     "metadata": {},
     "output_type": "execute_result"
    },
    {
     "data": {
      "image/png": "[encoded data removed]",
      "text/plain": [
       "<Figure size 432x288 with 2 Axes>"
      ]
     },
     "metadata": {
      "needs_background": "light"
     },
     "output_type": "display_data"
    }
   ],
   "source": [
    "plot_confusion_matrix(estimator=xgb_us, X=X_valid, y_true=y_validXGB,\n",
    "                      normalize='true', cmap='Blues')"
   ]
  },
  {
   "cell_type": "code",
   "execution_count": 61,
   "id": "a4efe929",
   "metadata": {
    "execution": {
     "iopub.execute_input": "2022-07-23T00:52:48.043271Z",
     "iopub.status.busy": "2022-07-23T00:52:48.042874Z",
     "iopub.status.idle": "2022-07-23T00:52:48.168084Z",
     "shell.execute_reply": "2022-07-23T00:52:48.166809Z"
    },
    "papermill": {
     "duration": 0.157216,
     "end_time": "2022-07-23T00:52:48.170201",
     "exception": false,
     "start_time": "2022-07-23T00:52:48.012985",
     "status": "completed"
    },
    "tags": []
   },
   "outputs": [
    {
     "name": "stdout",
     "output_type": "stream",
     "text": [
      "Accuracy: 85.79109062980031 %\n",
      "F1-Score: 0.7894546198688579\n"
     ]
    }
   ],
   "source": [
    "y_predXGB_us = xgb_us.predict(X_test)\n",
    "predictions_us = [round(value) for value in y_predXGB_us]\n",
    "score_xgb_us = accuracy_score(y_testXGB, predictions_us)\n",
    "f1_xgb_us = f1_score(y_testXGB, predictions_us, average='macro')\n",
    "print ('Accuracy: '+str(score_xgb_us*100)+' %')\n",
    "print ('F1-Score: '+str(f1_xgb_us))"
   ]
  },
  {
   "cell_type": "code",
   "execution_count": 62,
   "id": "c5ab4b1d",
   "metadata": {
    "execution": {
     "iopub.execute_input": "2022-07-23T00:52:48.228679Z",
     "iopub.status.busy": "2022-07-23T00:52:48.228026Z",
     "iopub.status.idle": "2022-07-23T00:52:48.517533Z",
     "shell.execute_reply": "2022-07-23T00:52:48.516509Z"
    },
    "papermill": {
     "duration": 0.320989,
     "end_time": "2022-07-23T00:52:48.519606",
     "exception": false,
     "start_time": "2022-07-23T00:52:48.198617",
     "status": "completed"
    },
    "tags": []
   },
   "outputs": [
    {
     "name": "stderr",
     "output_type": "stream",
     "text": [
      "/opt/conda/lib/python3.7/site-packages/sklearn/utils/deprecation.py:87: FutureWarning: Function plot_confusion_matrix is deprecated; Function `plot_confusion_matrix` is deprecated in 1.0 and will be removed in 1.2. Use one of the class methods: ConfusionMatrixDisplay.from_predictions or ConfusionMatrixDisplay.from_estimator.\n",
      "  warnings.warn(msg, category=FutureWarning)\n"
     ]
    },
    {
     "data": {
      "text/plain": [
       "<sklearn.metrics._plot.confusion_matrix.ConfusionMatrixDisplay at 0x7f882c108450>"
      ]
     },
     "execution_count": 62,
     "metadata": {},
     "output_type": "execute_result"
    },
    {
     "data": {
      "image/png": "[encoded data removed]",
      "text/plain": [
       "<Figure size 432x288 with 2 Axes>"
      ]
     },
     "metadata": {
      "needs_background": "light"
     },
     "output_type": "display_data"
    }
   ],
   "source": [
    "plot_confusion_matrix(estimator=xgb_us, X=X_test, y_true=y_testXGB,\n",
    "                      normalize='true', cmap='Blues')"
   ]
  },
  {
   "cell_type": "markdown",
   "id": "b356dd06",
   "metadata": {
    "papermill": {
     "duration": 0.028204,
     "end_time": "2022-07-23T00:52:48.576770",
     "exception": false,
     "start_time": "2022-07-23T00:52:48.548566",
     "status": "completed"
    },
    "tags": []
   },
   "source": [
    "## Oversampling"
   ]
  },
  {
   "cell_type": "code",
   "execution_count": 63,
   "id": "17432ce5",
   "metadata": {
    "execution": {
     "iopub.execute_input": "2022-07-23T00:52:48.636322Z",
     "iopub.status.busy": "2022-07-23T00:52:48.635582Z",
     "iopub.status.idle": "2022-07-23T00:52:48.640315Z",
     "shell.execute_reply": "2022-07-23T00:52:48.639559Z"
    },
    "papermill": {
     "duration": 0.03654,
     "end_time": "2022-07-23T00:52:48.642331",
     "exception": false,
     "start_time": "2022-07-23T00:52:48.605791",
     "status": "completed"
    },
    "tags": []
   },
   "outputs": [],
   "source": [
    "from imblearn.over_sampling import SMOTE"
   ]
  },
  {
   "cell_type": "code",
   "execution_count": 64,
   "id": "b7fec833",
   "metadata": {
    "execution": {
     "iopub.execute_input": "2022-07-23T00:52:48.701906Z",
     "iopub.status.busy": "2022-07-23T00:52:48.701194Z",
     "iopub.status.idle": "2022-07-23T00:52:48.716140Z",
     "shell.execute_reply": "2022-07-23T00:52:48.715304Z"
    },
    "papermill": {
     "duration": 0.047172,
     "end_time": "2022-07-23T00:52:48.718192",
     "exception": false,
     "start_time": "2022-07-23T00:52:48.671020",
     "status": "completed"
    },
    "tags": []
   },
   "outputs": [
    {
     "data": {
      "text/plain": [
       "event        \n",
       "neutral          51773\n",
       "smile             8342\n",
       "frown             8016\n",
       "eyebrow_raise     7587\n",
       "squeeze_eyes      7192\n",
       "dtype: int64"
      ]
     },
     "execution_count": 64,
     "metadata": {},
     "output_type": "execute_result"
    }
   ],
   "source": [
    "y_train.value_counts()"
   ]
  },
  {
   "cell_type": "code",
   "execution_count": 65,
   "id": "027ddbef",
   "metadata": {
    "execution": {
     "iopub.execute_input": "2022-07-23T00:52:48.777345Z",
     "iopub.status.busy": "2022-07-23T00:52:48.776956Z",
     "iopub.status.idle": "2022-07-23T00:52:48.781757Z",
     "shell.execute_reply": "2022-07-23T00:52:48.781125Z"
    },
    "papermill": {
     "duration": 0.036458,
     "end_time": "2022-07-23T00:52:48.783639",
     "exception": false,
     "start_time": "2022-07-23T00:52:48.747181",
     "status": "completed"
    },
    "tags": []
   },
   "outputs": [],
   "source": [
    "dict_os = {\n",
    "  \"eyebrow_raise\": 48834,\n",
    "  \"frown\": 44230,\n",
    "  \"neutral\": 51773 ,\n",
    "  \"smile\": 42374 ,\n",
    "  \"squeeze_eyes\": 43423 \n",
    "}"
   ]
  },
  {
   "cell_type": "code",
   "execution_count": 66,
   "id": "8e0af33b",
   "metadata": {
    "execution": {
     "iopub.execute_input": "2022-07-23T00:52:48.843335Z",
     "iopub.status.busy": "2022-07-23T00:52:48.842568Z",
     "iopub.status.idle": "2022-07-23T00:52:48.847791Z",
     "shell.execute_reply": "2022-07-23T00:52:48.847070Z"
    },
    "papermill": {
     "duration": 0.037575,
     "end_time": "2022-07-23T00:52:48.849831",
     "exception": false,
     "start_time": "2022-07-23T00:52:48.812256",
     "status": "completed"
    },
    "tags": []
   },
   "outputs": [],
   "source": [
    "oversample = SMOTE(sampling_strategy=dict_os, k_neighbors=5)"
   ]
  },
  {
   "cell_type": "code",
   "execution_count": 67,
   "id": "27d5fdfc",
   "metadata": {
    "execution": {
     "iopub.execute_input": "2022-07-23T00:52:48.910116Z",
     "iopub.status.busy": "2022-07-23T00:52:48.909703Z",
     "iopub.status.idle": "2022-07-23T00:52:57.799823Z",
     "shell.execute_reply": "2022-07-23T00:52:57.798627Z"
    },
    "papermill": {
     "duration": 8.923387,
     "end_time": "2022-07-23T00:52:57.802539",
     "exception": false,
     "start_time": "2022-07-23T00:52:48.879152",
     "status": "completed"
    },
    "tags": []
   },
   "outputs": [],
   "source": [
    "X_train_us, y_train_us = oversample.fit_resample(X_train, y_train)"
   ]
  },
  {
   "cell_type": "code",
   "execution_count": 68,
   "id": "c5158a32",
   "metadata": {
    "execution": {
     "iopub.execute_input": "2022-07-23T00:52:57.865231Z",
     "iopub.status.busy": "2022-07-23T00:52:57.864422Z",
     "iopub.status.idle": "2022-07-23T00:52:57.903479Z",
     "shell.execute_reply": "2022-07-23T00:52:57.902184Z"
    },
    "papermill": {
     "duration": 0.072234,
     "end_time": "2022-07-23T00:52:57.905755",
     "exception": false,
     "start_time": "2022-07-23T00:52:57.833521",
     "status": "completed"
    },
    "tags": []
   },
   "outputs": [
    {
     "data": {
      "text/plain": [
       "event        \n",
       "neutral          51773\n",
       "eyebrow_raise    48834\n",
       "frown            44230\n",
       "squeeze_eyes     43423\n",
       "smile            42374\n",
       "dtype: int64"
      ]
     },
     "execution_count": 68,
     "metadata": {},
     "output_type": "execute_result"
    }
   ],
   "source": [
    "y_train_us.value_counts()"
   ]
  },
  {
   "cell_type": "markdown",
   "id": "0cc79766",
   "metadata": {
    "papermill": {
     "duration": 0.033345,
     "end_time": "2022-07-23T00:52:57.972531",
     "exception": false,
     "start_time": "2022-07-23T00:52:57.939186",
     "status": "completed"
    },
    "tags": []
   },
   "source": [
    "### Random Forest - OS"
   ]
  },
  {
   "cell_type": "code",
   "execution_count": 69,
   "id": "56fd7c99",
   "metadata": {
    "execution": {
     "iopub.execute_input": "2022-07-23T00:52:58.042640Z",
     "iopub.status.busy": "2022-07-23T00:52:58.042067Z",
     "iopub.status.idle": "2022-07-23T01:04:08.188870Z",
     "shell.execute_reply": "2022-07-23T01:04:08.187827Z"
    },
    "papermill": {
     "duration": 670.214782,
     "end_time": "2022-07-23T01:04:08.220812",
     "exception": false,
     "start_time": "2022-07-23T00:52:58.006030",
     "status": "completed"
    },
    "tags": []
   },
   "outputs": [
    {
     "name": "stderr",
     "output_type": "stream",
     "text": [
      "/opt/conda/lib/python3.7/site-packages/ipykernel_launcher.py:2: DataConversionWarning: A column-vector y was passed when a 1d array was expected. Please change the shape of y to (n_samples,), for example using ravel().\n",
      "  \n"
     ]
    },
    {
     "data": {
      "text/plain": [
       "RandomForestClassifier(random_state=42)"
      ]
     },
     "execution_count": 69,
     "metadata": {},
     "output_type": "execute_result"
    }
   ],
   "source": [
    "clf_rf_us = RandomForestClassifier(n_estimators=100, random_state=42)\n",
    "clf_rf_us.fit(X_train_us, y_train_us)"
   ]
  },
  {
   "cell_type": "code",
   "execution_count": 70,
   "id": "8a17892c",
   "metadata": {
    "execution": {
     "iopub.execute_input": "2022-07-23T01:04:08.282289Z",
     "iopub.status.busy": "2022-07-23T01:04:08.281901Z",
     "iopub.status.idle": "2022-07-23T01:04:09.431756Z",
     "shell.execute_reply": "2022-07-23T01:04:09.430579Z"
    },
    "papermill": {
     "duration": 1.183292,
     "end_time": "2022-07-23T01:04:09.434167",
     "exception": false,
     "start_time": "2022-07-23T01:04:08.250875",
     "status": "completed"
    },
    "tags": []
   },
   "outputs": [
    {
     "name": "stdout",
     "output_type": "stream",
     "text": [
      "Accuracy: 86.10515569167943 %\n",
      "F1-Score: 0.77135114452893\n"
     ]
    }
   ],
   "source": [
    "y_pred_rf_us = clf_rf_us.predict(X_valid)\n",
    "score_rf_us = clf_rf_us.score(X_valid, y_valid)\n",
    "f1_rf_us = f1_score(y_valid, y_pred_rf_us, average='macro')\n",
    "print ('Accuracy: '+str(score_rf_us*100)+' %')\n",
    "print ('F1-Score: '+str(f1_rf_us))"
   ]
  },
  {
   "cell_type": "code",
   "execution_count": 71,
   "id": "e4d19b19",
   "metadata": {
    "execution": {
     "iopub.execute_input": "2022-07-23T01:04:09.494144Z",
     "iopub.status.busy": "2022-07-23T01:04:09.493785Z",
     "iopub.status.idle": "2022-07-23T01:04:10.363211Z",
     "shell.execute_reply": "2022-07-23T01:04:10.362360Z"
    },
    "papermill": {
     "duration": 0.901513,
     "end_time": "2022-07-23T01:04:10.365198",
     "exception": false,
     "start_time": "2022-07-23T01:04:09.463685",
     "status": "completed"
    },
    "tags": []
   },
   "outputs": [
    {
     "name": "stderr",
     "output_type": "stream",
     "text": [
      "/opt/conda/lib/python3.7/site-packages/sklearn/utils/deprecation.py:87: FutureWarning: Function plot_confusion_matrix is deprecated; Function `plot_confusion_matrix` is deprecated in 1.0 and will be removed in 1.2. Use one of the class methods: ConfusionMatrixDisplay.from_predictions or ConfusionMatrixDisplay.from_estimator.\n",
      "  warnings.warn(msg, category=FutureWarning)\n"
     ]
    },
    {
     "data": {
      "text/plain": [
       "<sklearn.metrics._plot.confusion_matrix.ConfusionMatrixDisplay at 0x7f87f83a2550>"
      ]
     },
     "execution_count": 71,
     "metadata": {},
     "output_type": "execute_result"
    },
    {
     "data": {
      "image/png": "[encoded data removed]",
      "text/plain": [
       "<Figure size 432x288 with 2 Axes>"
      ]
     },
     "metadata": {
      "needs_background": "light"
     },
     "output_type": "display_data"
    }
   ],
   "source": [
    "plot_confusion_matrix(estimator=clf_rf_us, X=X_valid, y_true=y_valid,\n",
    "                      normalize='true', cmap='Blues')"
   ]
  },
  {
   "cell_type": "code",
   "execution_count": 72,
   "id": "ba6c5d9a",
   "metadata": {
    "execution": {
     "iopub.execute_input": "2022-07-23T01:04:10.428556Z",
     "iopub.status.busy": "2022-07-23T01:04:10.427608Z",
     "iopub.status.idle": "2022-07-23T01:04:11.615036Z",
     "shell.execute_reply": "2022-07-23T01:04:11.613675Z"
    },
    "papermill": {
     "duration": 1.221706,
     "end_time": "2022-07-23T01:04:11.617712",
     "exception": false,
     "start_time": "2022-07-23T01:04:10.396006",
     "status": "completed"
    },
    "tags": []
   },
   "outputs": [
    {
     "name": "stdout",
     "output_type": "stream",
     "text": [
      "Accuracy: 88.59190988223247 %\n",
      "F1-Score: 0.842453689994106\n"
     ]
    }
   ],
   "source": [
    "y_pred_rf_us = clf_rf_us.predict(X_test)\n",
    "score_rf_us = clf_rf_us.score(X_test, y_test)\n",
    "f1_rf_us = f1_score(y_test, y_pred_rf_us, average='macro')\n",
    "print ('Accuracy: '+str(score_rf_us*100)+' %')\n",
    "print ('F1-Score: '+str(f1_rf_us))"
   ]
  },
  {
   "cell_type": "code",
   "execution_count": 73,
   "id": "50bf745b",
   "metadata": {
    "execution": {
     "iopub.execute_input": "2022-07-23T01:04:11.681604Z",
     "iopub.status.busy": "2022-07-23T01:04:11.681222Z",
     "iopub.status.idle": "2022-07-23T01:04:12.562163Z",
     "shell.execute_reply": "2022-07-23T01:04:12.561458Z"
    },
    "papermill": {
     "duration": 0.914538,
     "end_time": "2022-07-23T01:04:12.563965",
     "exception": false,
     "start_time": "2022-07-23T01:04:11.649427",
     "status": "completed"
    },
    "tags": []
   },
   "outputs": [
    {
     "name": "stderr",
     "output_type": "stream",
     "text": [
      "/opt/conda/lib/python3.7/site-packages/sklearn/utils/deprecation.py:87: FutureWarning: Function plot_confusion_matrix is deprecated; Function `plot_confusion_matrix` is deprecated in 1.0 and will be removed in 1.2. Use one of the class methods: ConfusionMatrixDisplay.from_predictions or ConfusionMatrixDisplay.from_estimator.\n",
      "  warnings.warn(msg, category=FutureWarning)\n"
     ]
    },
    {
     "data": {
      "text/plain": [
       "<sklearn.metrics._plot.confusion_matrix.ConfusionMatrixDisplay at 0x7f87fcaace90>"
      ]
     },
     "execution_count": 73,
     "metadata": {},
     "output_type": "execute_result"
    },
    {
     "data": {
      "image/png": "[encoded data removed]",
      "text/plain": [
       "<Figure size 432x288 with 2 Axes>"
      ]
     },
     "metadata": {
      "needs_background": "light"
     },
     "output_type": "display_data"
    }
   ],
   "source": [
    "plot_confusion_matrix(estimator=clf_rf_us, X=X_test, y_true=y_test,\n",
    "                      normalize='true', cmap='Blues')"
   ]
  },
  {
   "cell_type": "markdown",
   "id": "12a2ace6",
   "metadata": {
    "papermill": {
     "duration": 0.030891,
     "end_time": "2022-07-23T01:04:12.626459",
     "exception": false,
     "start_time": "2022-07-23T01:04:12.595568",
     "status": "completed"
    },
    "tags": []
   },
   "source": [
    "### XGBoost - OS"
   ]
  },
  {
   "cell_type": "code",
   "execution_count": 74,
   "id": "4d213da5",
   "metadata": {
    "execution": {
     "iopub.execute_input": "2022-07-23T01:04:12.689888Z",
     "iopub.status.busy": "2022-07-23T01:04:12.689251Z",
     "iopub.status.idle": "2022-07-23T01:04:12.751135Z",
     "shell.execute_reply": "2022-07-23T01:04:12.750024Z"
    },
    "papermill": {
     "duration": 0.096748,
     "end_time": "2022-07-23T01:04:12.753896",
     "exception": false,
     "start_time": "2022-07-23T01:04:12.657148",
     "status": "completed"
    },
    "tags": []
   },
   "outputs": [
    {
     "name": "stderr",
     "output_type": "stream",
     "text": [
      "/opt/conda/lib/python3.7/site-packages/sklearn/preprocessing/_label.py:115: DataConversionWarning: A column-vector y was passed when a 1d array was expected. Please change the shape of y to (n_samples, ), for example using ravel().\n",
      "  y = column_or_1d(y, warn=True)\n"
     ]
    }
   ],
   "source": [
    "le = LabelEncoder()\n",
    "y_trainXGB_us = le.fit_transform(y_train_us)\n",
    "y_validXGB = le.fit_transform(y_valid)\n",
    "y_testXGB = le.fit_transform(y_test)"
   ]
  },
  {
   "cell_type": "code",
   "execution_count": 75,
   "id": "21a77142",
   "metadata": {
    "execution": {
     "iopub.execute_input": "2022-07-23T01:04:12.819040Z",
     "iopub.status.busy": "2022-07-23T01:04:12.818040Z",
     "iopub.status.idle": "2022-07-23T01:51:42.503067Z",
     "shell.execute_reply": "2022-07-23T01:51:42.501853Z"
    },
    "papermill": {
     "duration": 2849.747784,
     "end_time": "2022-07-23T01:51:42.533858",
     "exception": false,
     "start_time": "2022-07-23T01:04:12.786074",
     "status": "completed"
    },
    "tags": []
   },
   "outputs": [
    {
     "data": {
      "text/plain": [
       "XGBClassifier(base_score=0.5, booster='gbtree', callbacks=None,\n",
       "              colsample_bylevel=1, colsample_bynode=1, colsample_bytree=1,\n",
       "              early_stopping_rounds=None, enable_categorical=False,\n",
       "              eval_metric=None, gamma=0, gpu_id=-1, grow_policy='depthwise',\n",
       "              importance_type=None, interaction_constraints='',\n",
       "              learning_rate=0.300000012, max_bin=256, max_cat_to_onehot=4,\n",
       "              max_delta_step=0, max_depth=6, max_leaves=0, min_child_weight=1,\n",
       "              missing=nan, monotone_constraints='()', n_estimators=100,\n",
       "              n_jobs=0, num_parallel_tree=1, objective='multi:softprob',\n",
       "              predictor='auto', random_state=0, reg_alpha=0, ...)"
      ]
     },
     "execution_count": 75,
     "metadata": {},
     "output_type": "execute_result"
    }
   ],
   "source": [
    "xgb_us = XGBClassifier(n_estimators=100)\n",
    "xgb_us.fit(X_train_us, y_trainXGB_us)"
   ]
  },
  {
   "cell_type": "code",
   "execution_count": 76,
   "id": "6ed2b474",
   "metadata": {
    "execution": {
     "iopub.execute_input": "2022-07-23T01:51:42.600051Z",
     "iopub.status.busy": "2022-07-23T01:51:42.599296Z",
     "iopub.status.idle": "2022-07-23T01:51:42.794440Z",
     "shell.execute_reply": "2022-07-23T01:51:42.793156Z"
    },
    "papermill": {
     "duration": 0.23078,
     "end_time": "2022-07-23T01:51:42.796974",
     "exception": false,
     "start_time": "2022-07-23T01:51:42.566194",
     "status": "completed"
    },
    "tags": []
   },
   "outputs": [
    {
     "name": "stdout",
     "output_type": "stream",
     "text": [
      "Accuracy: 83.85911179173048 %\n",
      "F1-Score: 0.7605407956327681\n"
     ]
    }
   ],
   "source": [
    "y_predXGB_us = xgb_us.predict(X_valid)\n",
    "predictions_us = [round(value) for value in y_predXGB_us]\n",
    "score_xgb_us = accuracy_score(y_validXGB, predictions_us)\n",
    "f1_xgb_us = f1_score(y_validXGB, predictions_us, average='macro')\n",
    "print ('Accuracy: '+str(score_xgb_us*100)+' %')\n",
    "print ('F1-Score: '+str(f1_xgb_us))"
   ]
  },
  {
   "cell_type": "code",
   "execution_count": 77,
   "id": "52304c8c",
   "metadata": {
    "execution": {
     "iopub.execute_input": "2022-07-23T01:51:42.861383Z",
     "iopub.status.busy": "2022-07-23T01:51:42.860260Z",
     "iopub.status.idle": "2022-07-23T01:51:43.273725Z",
     "shell.execute_reply": "2022-07-23T01:51:43.272945Z"
    },
    "papermill": {
     "duration": 0.447526,
     "end_time": "2022-07-23T01:51:43.275861",
     "exception": false,
     "start_time": "2022-07-23T01:51:42.828335",
     "status": "completed"
    },
    "tags": []
   },
   "outputs": [
    {
     "name": "stderr",
     "output_type": "stream",
     "text": [
      "/opt/conda/lib/python3.7/site-packages/sklearn/utils/deprecation.py:87: FutureWarning: Function plot_confusion_matrix is deprecated; Function `plot_confusion_matrix` is deprecated in 1.0 and will be removed in 1.2. Use one of the class methods: ConfusionMatrixDisplay.from_predictions or ConfusionMatrixDisplay.from_estimator.\n",
      "  warnings.warn(msg, category=FutureWarning)\n"
     ]
    },
    {
     "data": {
      "text/plain": [
       "<sklearn.metrics._plot.confusion_matrix.ConfusionMatrixDisplay at 0x7f882c1552d0>"
      ]
     },
     "execution_count": 77,
     "metadata": {},
     "output_type": "execute_result"
    },
    {
     "data": {
      "image/png": "[encoded data removed]",
      "text/plain": [
       "<Figure size 432x288 with 2 Axes>"
      ]
     },
     "metadata": {
      "needs_background": "light"
     },
     "output_type": "display_data"
    }
   ],
   "source": [
    "plot_confusion_matrix(estimator=xgb_us, X=X_valid, y_true=y_validXGB,\n",
    "                      normalize='true', cmap='Blues')"
   ]
  },
  {
   "cell_type": "code",
   "execution_count": 78,
   "id": "5b2142d9",
   "metadata": {
    "execution": {
     "iopub.execute_input": "2022-07-23T01:51:43.342436Z",
     "iopub.status.busy": "2022-07-23T01:51:43.341370Z",
     "iopub.status.idle": "2022-07-23T01:51:43.536715Z",
     "shell.execute_reply": "2022-07-23T01:51:43.535995Z"
    },
    "papermill": {
     "duration": 0.230075,
     "end_time": "2022-07-23T01:51:43.538741",
     "exception": false,
     "start_time": "2022-07-23T01:51:43.308666",
     "status": "completed"
    },
    "tags": []
   },
   "outputs": [
    {
     "name": "stdout",
     "output_type": "stream",
     "text": [
      "Accuracy: 87.76753712237583 %\n",
      "F1-Score: 0.8342504237792532\n"
     ]
    }
   ],
   "source": [
    "y_predXGB_us = xgb_us.predict(X_test)\n",
    "predictions_us = [round(value) for value in y_predXGB_us]\n",
    "score_xgb_us = accuracy_score(y_testXGB, predictions_us)\n",
    "f1_xgb_us = f1_score(y_testXGB, predictions_us, average='macro')\n",
    "print ('Accuracy: '+str(score_xgb_us*100)+' %')\n",
    "print ('F1-Score: '+str(f1_xgb_us))"
   ]
  },
  {
   "cell_type": "code",
   "execution_count": 79,
   "id": "b5c2b24d",
   "metadata": {
    "execution": {
     "iopub.execute_input": "2022-07-23T01:51:43.605239Z",
     "iopub.status.busy": "2022-07-23T01:51:43.604629Z",
     "iopub.status.idle": "2022-07-23T01:51:44.021935Z",
     "shell.execute_reply": "2022-07-23T01:51:44.020856Z"
    },
    "papermill": {
     "duration": 0.45315,
     "end_time": "2022-07-23T01:51:44.024270",
     "exception": false,
     "start_time": "2022-07-23T01:51:43.571120",
     "status": "completed"
    },
    "tags": []
   },
   "outputs": [
    {
     "name": "stderr",
     "output_type": "stream",
     "text": [
      "/opt/conda/lib/python3.7/site-packages/sklearn/utils/deprecation.py:87: FutureWarning: Function plot_confusion_matrix is deprecated; Function `plot_confusion_matrix` is deprecated in 1.0 and will be removed in 1.2. Use one of the class methods: ConfusionMatrixDisplay.from_predictions or ConfusionMatrixDisplay.from_estimator.\n",
      "  warnings.warn(msg, category=FutureWarning)\n"
     ]
    },
    {
     "data": {
      "text/plain": [
       "<sklearn.metrics._plot.confusion_matrix.ConfusionMatrixDisplay at 0x7f87f81948d0>"
      ]
     },
     "execution_count": 79,
     "metadata": {},
     "output_type": "execute_result"
    },
    {
     "data": {
      "image/png": "[encoded data removed]",
      "text/plain": [
       "<Figure size 432x288 with 2 Axes>"
      ]
     },
     "metadata": {
      "needs_background": "light"
     },
     "output_type": "display_data"
    }
   ],
   "source": [
    "plot_confusion_matrix(estimator=xgb_us, X=X_test, y_true=y_testXGB,\n",
    "                      normalize='true', cmap='Blues')"
   ]
  },
  {
   "cell_type": "markdown",
   "id": "d7f1cc5f",
   "metadata": {
    "papermill": {
     "duration": 0.032391,
     "end_time": "2022-07-23T01:51:44.089358",
     "exception": false,
     "start_time": "2022-07-23T01:51:44.056967",
     "status": "completed"
    },
    "tags": []
   },
   "source": [
    "<br>"
   ]
  },
  {
   "cell_type": "markdown",
   "id": "8f4ead6f",
   "metadata": {
    "papermill": {
     "duration": 0.032981,
     "end_time": "2022-07-23T01:51:44.155019",
     "exception": false,
     "start_time": "2022-07-23T01:51:44.122038",
     "status": "completed"
    },
    "tags": []
   },
   "source": [
    "# Task B\n",
    "![purple-divider](https://user-images.githubusercontent.com/7065401/52071927-c1cd7100-2562-11e9-908a-dde91ba14e59.png)"
   ]
  },
  {
   "cell_type": "markdown",
   "id": "85fdffe8",
   "metadata": {
    "papermill": {
     "duration": 0.032209,
     "end_time": "2022-07-23T01:51:44.220480",
     "exception": false,
     "start_time": "2022-07-23T01:51:44.188271",
     "status": "completed"
    },
    "tags": []
   },
   "source": [
    "## One Sided Selection - Undersampling B"
   ]
  },
  {
   "cell_type": "code",
   "execution_count": 80,
   "id": "d6a119db",
   "metadata": {
    "execution": {
     "iopub.execute_input": "2022-07-23T01:51:44.287602Z",
     "iopub.status.busy": "2022-07-23T01:51:44.286979Z",
     "iopub.status.idle": "2022-07-23T01:51:44.291652Z",
     "shell.execute_reply": "2022-07-23T01:51:44.290965Z"
    },
    "papermill": {
     "duration": 0.040706,
     "end_time": "2022-07-23T01:51:44.293510",
     "exception": false,
     "start_time": "2022-07-23T01:51:44.252804",
     "status": "completed"
    },
    "tags": []
   },
   "outputs": [],
   "source": [
    "from imblearn.under_sampling import OneSidedSelection"
   ]
  },
  {
   "cell_type": "code",
   "execution_count": 81,
   "id": "efe44f31",
   "metadata": {
    "execution": {
     "iopub.execute_input": "2022-07-23T01:51:44.360484Z",
     "iopub.status.busy": "2022-07-23T01:51:44.359813Z",
     "iopub.status.idle": "2022-07-23T01:51:44.376994Z",
     "shell.execute_reply": "2022-07-23T01:51:44.376174Z"
    },
    "papermill": {
     "duration": 0.052694,
     "end_time": "2022-07-23T01:51:44.378960",
     "exception": false,
     "start_time": "2022-07-23T01:51:44.326266",
     "status": "completed"
    },
    "tags": []
   },
   "outputs": [
    {
     "data": {
      "text/plain": [
       "event        \n",
       "neutral          56524\n",
       "smile            13578\n",
       "squeeze_eyes     13319\n",
       "frown            13159\n",
       "eyebrow_raise    13140\n",
       "dtype: int64"
      ]
     },
     "execution_count": 81,
     "metadata": {},
     "output_type": "execute_result"
    }
   ],
   "source": [
    "y_trainB.value_counts()"
   ]
  },
  {
   "cell_type": "code",
   "execution_count": 82,
   "id": "b4415c58",
   "metadata": {
    "execution": {
     "iopub.execute_input": "2022-07-23T01:51:44.445676Z",
     "iopub.status.busy": "2022-07-23T01:51:44.445297Z",
     "iopub.status.idle": "2022-07-23T01:52:57.615828Z",
     "shell.execute_reply": "2022-07-23T01:52:57.614726Z"
    },
    "papermill": {
     "duration": 73.206757,
     "end_time": "2022-07-23T01:52:57.618464",
     "exception": false,
     "start_time": "2022-07-23T01:51:44.411707",
     "status": "completed"
    },
    "tags": []
   },
   "outputs": [],
   "source": [
    "undersample = OneSidedSelection(n_neighbors=5, n_seeds_S=200, random_state=42)\n",
    "X_trainB_us, y_trainB_us = undersample.fit_resample(X_trainB, y_trainB)"
   ]
  },
  {
   "cell_type": "code",
   "execution_count": 83,
   "id": "ef16aa31",
   "metadata": {
    "execution": {
     "iopub.execute_input": "2022-07-23T01:52:57.686326Z",
     "iopub.status.busy": "2022-07-23T01:52:57.685947Z",
     "iopub.status.idle": "2022-07-23T01:52:57.696993Z",
     "shell.execute_reply": "2022-07-23T01:52:57.696271Z"
    },
    "papermill": {
     "duration": 0.046894,
     "end_time": "2022-07-23T01:52:57.698775",
     "exception": false,
     "start_time": "2022-07-23T01:52:57.651881",
     "status": "completed"
    },
    "tags": []
   },
   "outputs": [
    {
     "data": {
      "text/plain": [
       "event        \n",
       "neutral          20538\n",
       "eyebrow_raise    13140\n",
       "frown             6918\n",
       "squeeze_eyes      3436\n",
       "smile             1663\n",
       "dtype: int64"
      ]
     },
     "execution_count": 83,
     "metadata": {},
     "output_type": "execute_result"
    }
   ],
   "source": [
    "y_trainB_us.value_counts()"
   ]
  },
  {
   "cell_type": "markdown",
   "id": "28a972b4",
   "metadata": {
    "papermill": {
     "duration": 0.032836,
     "end_time": "2022-07-23T01:52:57.764309",
     "exception": false,
     "start_time": "2022-07-23T01:52:57.731473",
     "status": "completed"
    },
    "tags": []
   },
   "source": [
    "### Random Forest "
   ]
  },
  {
   "cell_type": "code",
   "execution_count": 84,
   "id": "fb9fe75e",
   "metadata": {
    "execution": {
     "iopub.execute_input": "2022-07-23T01:52:57.831312Z",
     "iopub.status.busy": "2022-07-23T01:52:57.830649Z",
     "iopub.status.idle": "2022-07-23T01:54:58.983429Z",
     "shell.execute_reply": "2022-07-23T01:54:58.982630Z"
    },
    "papermill": {
     "duration": 121.223217,
     "end_time": "2022-07-23T01:54:59.020035",
     "exception": false,
     "start_time": "2022-07-23T01:52:57.796818",
     "status": "completed"
    },
    "tags": []
   },
   "outputs": [
    {
     "name": "stderr",
     "output_type": "stream",
     "text": [
      "/opt/conda/lib/python3.7/site-packages/ipykernel_launcher.py:2: DataConversionWarning: A column-vector y was passed when a 1d array was expected. Please change the shape of y to (n_samples,), for example using ravel().\n",
      "  \n"
     ]
    },
    {
     "data": {
      "text/plain": [
       "RandomForestClassifier(random_state=42)"
      ]
     },
     "execution_count": 84,
     "metadata": {},
     "output_type": "execute_result"
    }
   ],
   "source": [
    "clf_rfB_us = RandomForestClassifier(random_state=42)\n",
    "clf_rfB_us.fit(X_trainB_us, y_trainB_us)"
   ]
  },
  {
   "cell_type": "code",
   "execution_count": 85,
   "id": "c8c52bc8",
   "metadata": {
    "execution": {
     "iopub.execute_input": "2022-07-23T01:54:59.088860Z",
     "iopub.status.busy": "2022-07-23T01:54:59.088241Z",
     "iopub.status.idle": "2022-07-23T01:55:00.684245Z",
     "shell.execute_reply": "2022-07-23T01:55:00.683150Z"
    },
    "papermill": {
     "duration": 1.633455,
     "end_time": "2022-07-23T01:55:00.687142",
     "exception": false,
     "start_time": "2022-07-23T01:54:59.053687",
     "status": "completed"
    },
    "tags": []
   },
   "outputs": [
    {
     "name": "stdout",
     "output_type": "stream",
     "text": [
      "Accuracy: 84.1551347414421 %\n",
      "F1-Score: 0.7443974268476345\n"
     ]
    }
   ],
   "source": [
    "y_pred_rfB_us = clf_rfB_us.predict(X_validB)\n",
    "score_rfB_us = clf_rfB_us.score(X_validB, y_validB)\n",
    "f1_rfB_us = f1_score(y_validB, y_pred_rfB_us, average='macro')\n",
    "print ('Accuracy: '+str(score_rfB_us*100)+' %')\n",
    "print ('F1-Score: '+str(f1_rfB_us))"
   ]
  },
  {
   "cell_type": "code",
   "execution_count": 86,
   "id": "b967166b",
   "metadata": {
    "execution": {
     "iopub.execute_input": "2022-07-23T01:55:00.762314Z",
     "iopub.status.busy": "2022-07-23T01:55:00.761574Z",
     "iopub.status.idle": "2022-07-23T01:55:01.795142Z",
     "shell.execute_reply": "2022-07-23T01:55:01.794301Z"
    },
    "papermill": {
     "duration": 1.070561,
     "end_time": "2022-07-23T01:55:01.797178",
     "exception": false,
     "start_time": "2022-07-23T01:55:00.726617",
     "status": "completed"
    },
    "tags": []
   },
   "outputs": [
    {
     "name": "stderr",
     "output_type": "stream",
     "text": [
      "/opt/conda/lib/python3.7/site-packages/sklearn/utils/deprecation.py:87: FutureWarning: Function plot_confusion_matrix is deprecated; Function `plot_confusion_matrix` is deprecated in 1.0 and will be removed in 1.2. Use one of the class methods: ConfusionMatrixDisplay.from_predictions or ConfusionMatrixDisplay.from_estimator.\n",
      "  warnings.warn(msg, category=FutureWarning)\n"
     ]
    },
    {
     "data": {
      "text/plain": [
       "<sklearn.metrics._plot.confusion_matrix.ConfusionMatrixDisplay at 0x7f87f7fc8c10>"
      ]
     },
     "execution_count": 86,
     "metadata": {},
     "output_type": "execute_result"
    },
    {
     "data": {
      "image/png": "[encoded data removed]",
      "text/plain": [
       "<Figure size 432x288 with 2 Axes>"
      ]
     },
     "metadata": {
      "needs_background": "light"
     },
     "output_type": "display_data"
    }
   ],
   "source": [
    "plot_confusion_matrix(estimator=clf_rfB_us, X=X_validB, y_true=y_validB,\n",
    "                      normalize='true', cmap='Blues')"
   ]
  },
  {
   "cell_type": "code",
   "execution_count": 87,
   "id": "3d111551",
   "metadata": {
    "execution": {
     "iopub.execute_input": "2022-07-23T01:55:01.867215Z",
     "iopub.status.busy": "2022-07-23T01:55:01.866548Z",
     "iopub.status.idle": "2022-07-23T01:55:03.414610Z",
     "shell.execute_reply": "2022-07-23T01:55:03.413504Z"
    },
    "papermill": {
     "duration": 1.586264,
     "end_time": "2022-07-23T01:55:03.417462",
     "exception": false,
     "start_time": "2022-07-23T01:55:01.831198",
     "status": "completed"
    },
    "tags": []
   },
   "outputs": [
    {
     "name": "stdout",
     "output_type": "stream",
     "text": [
      "Accuracy: 85.4200146092038 %\n",
      "F1-Score: 0.7995970817721679\n"
     ]
    }
   ],
   "source": [
    "y_pred_rfB_us = clf_rfB_us.predict(X_testB)\n",
    "score_rfB_us = clf_rfB_us.score(X_testB, y_testB)\n",
    "f1_rfB_us = f1_score(y_testB, y_pred_rfB_us, average='macro')\n",
    "print ('Accuracy: '+str(score_rfB_us*100)+' %')\n",
    "print ('F1-Score: '+str(f1_rfB_us))"
   ]
  },
  {
   "cell_type": "code",
   "execution_count": 88,
   "id": "9f780201",
   "metadata": {
    "execution": {
     "iopub.execute_input": "2022-07-23T01:55:03.491654Z",
     "iopub.status.busy": "2022-07-23T01:55:03.491032Z",
     "iopub.status.idle": "2022-07-23T01:55:04.567415Z",
     "shell.execute_reply": "2022-07-23T01:55:04.566372Z"
    },
    "papermill": {
     "duration": 1.115829,
     "end_time": "2022-07-23T01:55:04.569575",
     "exception": false,
     "start_time": "2022-07-23T01:55:03.453746",
     "status": "completed"
    },
    "tags": []
   },
   "outputs": [
    {
     "name": "stderr",
     "output_type": "stream",
     "text": [
      "/opt/conda/lib/python3.7/site-packages/sklearn/utils/deprecation.py:87: FutureWarning: Function plot_confusion_matrix is deprecated; Function `plot_confusion_matrix` is deprecated in 1.0 and will be removed in 1.2. Use one of the class methods: ConfusionMatrixDisplay.from_predictions or ConfusionMatrixDisplay.from_estimator.\n",
      "  warnings.warn(msg, category=FutureWarning)\n"
     ]
    },
    {
     "data": {
      "text/plain": [
       "<sklearn.metrics._plot.confusion_matrix.ConfusionMatrixDisplay at 0x7f87f7e75fd0>"
      ]
     },
     "execution_count": 88,
     "metadata": {},
     "output_type": "execute_result"
    },
    {
     "data": {
      "image/png": "[encoded data removed]",
      "text/plain": [
       "<Figure size 432x288 with 2 Axes>"
      ]
     },
     "metadata": {
      "needs_background": "light"
     },
     "output_type": "display_data"
    }
   ],
   "source": [
    "plot_confusion_matrix(estimator=clf_rfB_us, X=X_testB, y_true=y_testB,\n",
    "                      normalize='true', cmap='Blues')"
   ]
  },
  {
   "cell_type": "markdown",
   "id": "8f6a7a73",
   "metadata": {
    "papermill": {
     "duration": 0.039149,
     "end_time": "2022-07-23T01:55:04.646372",
     "exception": false,
     "start_time": "2022-07-23T01:55:04.607223",
     "status": "completed"
    },
    "tags": []
   },
   "source": [
    "### XGBoost"
   ]
  },
  {
   "cell_type": "code",
   "execution_count": 89,
   "id": "f41f7004",
   "metadata": {
    "execution": {
     "iopub.execute_input": "2022-07-23T01:55:04.724623Z",
     "iopub.status.busy": "2022-07-23T01:55:04.724163Z",
     "iopub.status.idle": "2022-07-23T01:55:04.776702Z",
     "shell.execute_reply": "2022-07-23T01:55:04.775418Z"
    },
    "papermill": {
     "duration": 0.09553,
     "end_time": "2022-07-23T01:55:04.779361",
     "exception": false,
     "start_time": "2022-07-23T01:55:04.683831",
     "status": "completed"
    },
    "tags": []
   },
   "outputs": [
    {
     "name": "stderr",
     "output_type": "stream",
     "text": [
      "/opt/conda/lib/python3.7/site-packages/sklearn/preprocessing/_label.py:115: DataConversionWarning: A column-vector y was passed when a 1d array was expected. Please change the shape of y to (n_samples, ), for example using ravel().\n",
      "  y = column_or_1d(y, warn=True)\n"
     ]
    }
   ],
   "source": [
    "y_trainXGB_B_us = le.fit_transform(y_trainB_us)\n",
    "y_trainXGB_B = le.fit_transform(y_trainB)\n",
    "y_validXGB_B = le.fit_transform(y_validB)\n",
    "y_testXGB_B = le.fit_transform(y_testB)"
   ]
  },
  {
   "cell_type": "code",
   "execution_count": 90,
   "id": "79b2fed1",
   "metadata": {
    "execution": {
     "iopub.execute_input": "2022-07-23T01:55:04.861820Z",
     "iopub.status.busy": "2022-07-23T01:55:04.860908Z",
     "iopub.status.idle": "2022-07-23T02:03:37.287683Z",
     "shell.execute_reply": "2022-07-23T02:03:37.286562Z"
    },
    "papermill": {
     "duration": 512.504526,
     "end_time": "2022-07-23T02:03:37.324964",
     "exception": false,
     "start_time": "2022-07-23T01:55:04.820438",
     "status": "completed"
    },
    "tags": []
   },
   "outputs": [
    {
     "data": {
      "text/plain": [
       "XGBClassifier(base_score=0.5, booster='gbtree', callbacks=None,\n",
       "              colsample_bylevel=1, colsample_bynode=1, colsample_bytree=1,\n",
       "              early_stopping_rounds=None, enable_categorical=False,\n",
       "              eval_metric=None, gamma=0, gpu_id=-1, grow_policy='depthwise',\n",
       "              importance_type=None, interaction_constraints='',\n",
       "              learning_rate=0.300000012, max_bin=256, max_cat_to_onehot=4,\n",
       "              max_delta_step=0, max_depth=6, max_leaves=0, min_child_weight=1,\n",
       "              missing=nan, monotone_constraints='()', n_estimators=100,\n",
       "              n_jobs=0, num_parallel_tree=1, objective='multi:softprob',\n",
       "              predictor='auto', random_state=0, reg_alpha=0, ...)"
      ]
     },
     "execution_count": 90,
     "metadata": {},
     "output_type": "execute_result"
    }
   ],
   "source": [
    "xgbB_us = XGBClassifier(n_estimators=100)\n",
    "xgbB_us.fit(X_trainB_us, y_trainXGB_B_us)"
   ]
  },
  {
   "cell_type": "code",
   "execution_count": 91,
   "id": "49e2bfe1",
   "metadata": {
    "execution": {
     "iopub.execute_input": "2022-07-23T02:03:37.396222Z",
     "iopub.status.busy": "2022-07-23T02:03:37.395584Z",
     "iopub.status.idle": "2022-07-23T02:03:37.652204Z",
     "shell.execute_reply": "2022-07-23T02:03:37.650913Z"
    },
    "papermill": {
     "duration": 0.295875,
     "end_time": "2022-07-23T02:03:37.655532",
     "exception": false,
     "start_time": "2022-07-23T02:03:37.359657",
     "status": "completed"
    },
    "tags": []
   },
   "outputs": [
    {
     "name": "stdout",
     "output_type": "stream",
     "text": [
      "Accuracy: 83.72906045156591 %\n",
      "F1-Score: 0.7446289442809201\n"
     ]
    }
   ],
   "source": [
    "y_predXGB_B_us = xgbB_us.predict(X_validB)\n",
    "predictions_B_us = [round(value) for value in y_predXGB_B_us]\n",
    "score_xgb_B_us = accuracy_score(y_validXGB_B, predictions_B_us)\n",
    "f1_xgb_B_us = f1_score(y_validXGB_B, predictions_B_us, average='macro')\n",
    "print ('Accuracy: '+str(score_xgb_B_us*100)+' %')\n",
    "print ('F1-Score: '+str(f1_xgb_B_us))"
   ]
  },
  {
   "cell_type": "code",
   "execution_count": 92,
   "id": "9aaaca97",
   "metadata": {
    "execution": {
     "iopub.execute_input": "2022-07-23T02:03:37.728564Z",
     "iopub.status.busy": "2022-07-23T02:03:37.727810Z",
     "iopub.status.idle": "2022-07-23T02:03:38.134728Z",
     "shell.execute_reply": "2022-07-23T02:03:38.134012Z"
    },
    "papermill": {
     "duration": 0.44535,
     "end_time": "2022-07-23T02:03:38.136458",
     "exception": false,
     "start_time": "2022-07-23T02:03:37.691108",
     "status": "completed"
    },
    "tags": []
   },
   "outputs": [
    {
     "name": "stderr",
     "output_type": "stream",
     "text": [
      "/opt/conda/lib/python3.7/site-packages/sklearn/utils/deprecation.py:87: FutureWarning: Function plot_confusion_matrix is deprecated; Function `plot_confusion_matrix` is deprecated in 1.0 and will be removed in 1.2. Use one of the class methods: ConfusionMatrixDisplay.from_predictions or ConfusionMatrixDisplay.from_estimator.\n",
      "  warnings.warn(msg, category=FutureWarning)\n"
     ]
    },
    {
     "data": {
      "text/plain": [
       "<sklearn.metrics._plot.confusion_matrix.ConfusionMatrixDisplay at 0x7f87f7face50>"
      ]
     },
     "execution_count": 92,
     "metadata": {},
     "output_type": "execute_result"
    },
    {
     "data": {
      "image/png": "[encoded data removed]",
      "text/plain": [
       "<Figure size 432x288 with 2 Axes>"
      ]
     },
     "metadata": {
      "needs_background": "light"
     },
     "output_type": "display_data"
    }
   ],
   "source": [
    "plot_confusion_matrix(estimator=xgbB_us, X=X_validB, y_true=y_validXGB_B,\n",
    "                      normalize='true', cmap='Blues')"
   ]
  },
  {
   "cell_type": "code",
   "execution_count": 93,
   "id": "f91f2d1d",
   "metadata": {
    "execution": {
     "iopub.execute_input": "2022-07-23T02:03:38.210148Z",
     "iopub.status.busy": "2022-07-23T02:03:38.209371Z",
     "iopub.status.idle": "2022-07-23T02:03:38.459601Z",
     "shell.execute_reply": "2022-07-23T02:03:38.458222Z"
    },
    "papermill": {
     "duration": 0.289913,
     "end_time": "2022-07-23T02:03:38.462046",
     "exception": false,
     "start_time": "2022-07-23T02:03:38.172133",
     "status": "completed"
    },
    "tags": []
   },
   "outputs": [
    {
     "name": "stdout",
     "output_type": "stream",
     "text": [
      "Accuracy: 86.09569028487948 %\n",
      "F1-Score: 0.8095651287165513\n"
     ]
    }
   ],
   "source": [
    "y_predXGB_B_us = xgbB_us.predict(X_testB)\n",
    "predictions_B_us = [round(value) for value in y_predXGB_B_us]\n",
    "score_xgb_B_us = accuracy_score(y_testXGB_B, predictions_B_us)\n",
    "f1_xgb_B_us = f1_score(y_testXGB_B, predictions_B_us, average='macro')\n",
    "print ('Accuracy: '+str(score_xgb_B_us*100)+' %')\n",
    "print ('F1-Score: '+str(f1_xgb_B_us))"
   ]
  },
  {
   "cell_type": "code",
   "execution_count": 94,
   "id": "8f622efc",
   "metadata": {
    "execution": {
     "iopub.execute_input": "2022-07-23T02:03:38.535378Z",
     "iopub.status.busy": "2022-07-23T02:03:38.534366Z",
     "iopub.status.idle": "2022-07-23T02:03:38.942049Z",
     "shell.execute_reply": "2022-07-23T02:03:38.941167Z"
    },
    "papermill": {
     "duration": 0.446726,
     "end_time": "2022-07-23T02:03:38.944339",
     "exception": false,
     "start_time": "2022-07-23T02:03:38.497613",
     "status": "completed"
    },
    "tags": []
   },
   "outputs": [
    {
     "name": "stderr",
     "output_type": "stream",
     "text": [
      "/opt/conda/lib/python3.7/site-packages/sklearn/utils/deprecation.py:87: FutureWarning: Function plot_confusion_matrix is deprecated; Function `plot_confusion_matrix` is deprecated in 1.0 and will be removed in 1.2. Use one of the class methods: ConfusionMatrixDisplay.from_predictions or ConfusionMatrixDisplay.from_estimator.\n",
      "  warnings.warn(msg, category=FutureWarning)\n"
     ]
    },
    {
     "data": {
      "text/plain": [
       "<sklearn.metrics._plot.confusion_matrix.ConfusionMatrixDisplay at 0x7f87f7c69790>"
      ]
     },
     "execution_count": 94,
     "metadata": {},
     "output_type": "execute_result"
    },
    {
     "data": {
      "image/png": "[encoded data removed]",
      "text/plain": [
       "<Figure size 432x288 with 2 Axes>"
      ]
     },
     "metadata": {
      "needs_background": "light"
     },
     "output_type": "display_data"
    }
   ],
   "source": [
    "plot_confusion_matrix(estimator=xgbB_us, X=X_testB, y_true=y_testXGB_B,\n",
    "                      normalize='true', cmap='Blues')"
   ]
  },
  {
   "cell_type": "markdown",
   "id": "faf91e65",
   "metadata": {
    "papermill": {
     "duration": 0.03555,
     "end_time": "2022-07-23T02:03:39.016727",
     "exception": false,
     "start_time": "2022-07-23T02:03:38.981177",
     "status": "completed"
    },
    "tags": []
   },
   "source": [
    "## Random Undersampling"
   ]
  },
  {
   "cell_type": "code",
   "execution_count": 95,
   "id": "e333ecda",
   "metadata": {
    "execution": {
     "iopub.execute_input": "2022-07-23T02:03:39.091456Z",
     "iopub.status.busy": "2022-07-23T02:03:39.090622Z",
     "iopub.status.idle": "2022-07-23T02:03:39.095339Z",
     "shell.execute_reply": "2022-07-23T02:03:39.094559Z"
    },
    "papermill": {
     "duration": 0.044266,
     "end_time": "2022-07-23T02:03:39.097060",
     "exception": false,
     "start_time": "2022-07-23T02:03:39.052794",
     "status": "completed"
    },
    "tags": []
   },
   "outputs": [],
   "source": [
    "dict_os = {\n",
    "  \"eyebrow_raise\": 13140,\n",
    "  \"frown\": 13159,\n",
    "  \"neutral\": 12000 ,\n",
    "  \"smile\": 13578 ,\n",
    "  \"squeeze_eyes\": 13319 \n",
    "}"
   ]
  },
  {
   "cell_type": "code",
   "execution_count": 96,
   "id": "1e8d0ad5",
   "metadata": {
    "execution": {
     "iopub.execute_input": "2022-07-23T02:03:39.171074Z",
     "iopub.status.busy": "2022-07-23T02:03:39.170377Z",
     "iopub.status.idle": "2022-07-23T02:03:39.187063Z",
     "shell.execute_reply": "2022-07-23T02:03:39.185968Z"
    },
    "papermill": {
     "duration": 0.056121,
     "end_time": "2022-07-23T02:03:39.189150",
     "exception": false,
     "start_time": "2022-07-23T02:03:39.133029",
     "status": "completed"
    },
    "tags": []
   },
   "outputs": [
    {
     "data": {
      "text/plain": [
       "event        \n",
       "neutral          56524\n",
       "smile            13578\n",
       "squeeze_eyes     13319\n",
       "frown            13159\n",
       "eyebrow_raise    13140\n",
       "dtype: int64"
      ]
     },
     "execution_count": 96,
     "metadata": {},
     "output_type": "execute_result"
    }
   ],
   "source": [
    "y_trainB.value_counts()"
   ]
  },
  {
   "cell_type": "code",
   "execution_count": 97,
   "id": "edf9b403",
   "metadata": {
    "execution": {
     "iopub.execute_input": "2022-07-23T02:03:39.263204Z",
     "iopub.status.busy": "2022-07-23T02:03:39.262467Z",
     "iopub.status.idle": "2022-07-23T02:03:40.114606Z",
     "shell.execute_reply": "2022-07-23T02:03:40.113498Z"
    },
    "papermill": {
     "duration": 0.892352,
     "end_time": "2022-07-23T02:03:40.117245",
     "exception": false,
     "start_time": "2022-07-23T02:03:39.224893",
     "status": "completed"
    },
    "tags": []
   },
   "outputs": [],
   "source": [
    "undersample = RandomUnderSampler(sampling_strategy=dict_os, random_state=42)\n",
    "X_trainB_us, y_trainB_us = undersample.fit_resample(X_trainB, y_trainB)"
   ]
  },
  {
   "cell_type": "code",
   "execution_count": 98,
   "id": "949a8671",
   "metadata": {
    "execution": {
     "iopub.execute_input": "2022-07-23T02:03:40.191528Z",
     "iopub.status.busy": "2022-07-23T02:03:40.190641Z",
     "iopub.status.idle": "2022-07-23T02:03:40.203253Z",
     "shell.execute_reply": "2022-07-23T02:03:40.202177Z"
    },
    "papermill": {
     "duration": 0.051702,
     "end_time": "2022-07-23T02:03:40.205140",
     "exception": false,
     "start_time": "2022-07-23T02:03:40.153438",
     "status": "completed"
    },
    "tags": []
   },
   "outputs": [
    {
     "data": {
      "text/plain": [
       "smile            13578\n",
       "squeeze_eyes     13319\n",
       "frown            13159\n",
       "eyebrow_raise    13140\n",
       "neutral          12000\n",
       "Name: event, dtype: int64"
      ]
     },
     "execution_count": 98,
     "metadata": {},
     "output_type": "execute_result"
    }
   ],
   "source": [
    "y_trainB_us['event'].value_counts()"
   ]
  },
  {
   "cell_type": "markdown",
   "id": "d6437a30",
   "metadata": {
    "papermill": {
     "duration": 0.035934,
     "end_time": "2022-07-23T02:03:40.277070",
     "exception": false,
     "start_time": "2022-07-23T02:03:40.241136",
     "status": "completed"
    },
    "tags": []
   },
   "source": [
    "### Random Forest"
   ]
  },
  {
   "cell_type": "code",
   "execution_count": 99,
   "id": "11bb19a9",
   "metadata": {
    "execution": {
     "iopub.execute_input": "2022-07-23T02:03:40.351776Z",
     "iopub.status.busy": "2022-07-23T02:03:40.351164Z",
     "iopub.status.idle": "2022-07-23T02:06:22.701371Z",
     "shell.execute_reply": "2022-07-23T02:06:22.700165Z"
    },
    "papermill": {
     "duration": 162.427759,
     "end_time": "2022-07-23T02:06:22.740990",
     "exception": false,
     "start_time": "2022-07-23T02:03:40.313231",
     "status": "completed"
    },
    "tags": []
   },
   "outputs": [
    {
     "name": "stderr",
     "output_type": "stream",
     "text": [
      "/opt/conda/lib/python3.7/site-packages/ipykernel_launcher.py:2: DataConversionWarning: A column-vector y was passed when a 1d array was expected. Please change the shape of y to (n_samples,), for example using ravel().\n",
      "  \n"
     ]
    },
    {
     "data": {
      "text/plain": [
       "RandomForestClassifier(random_state=42)"
      ]
     },
     "execution_count": 99,
     "metadata": {},
     "output_type": "execute_result"
    }
   ],
   "source": [
    "clf_rfB_us = RandomForestClassifier(random_state=42)\n",
    "clf_rfB_us.fit(X_trainB_us, y_trainB_us)"
   ]
  },
  {
   "cell_type": "code",
   "execution_count": 100,
   "id": "b9da2af6",
   "metadata": {
    "execution": {
     "iopub.execute_input": "2022-07-23T02:06:22.817154Z",
     "iopub.status.busy": "2022-07-23T02:06:22.816372Z",
     "iopub.status.idle": "2022-07-23T02:06:24.371198Z",
     "shell.execute_reply": "2022-07-23T02:06:24.370032Z"
    },
    "papermill": {
     "duration": 1.595703,
     "end_time": "2022-07-23T02:06:24.373541",
     "exception": false,
     "start_time": "2022-07-23T02:06:22.777838",
     "status": "completed"
    },
    "tags": []
   },
   "outputs": [
    {
     "name": "stdout",
     "output_type": "stream",
     "text": [
      "Accuracy: 84.51201747997086 %\n",
      "F1-Score: 0.7550973814294464\n"
     ]
    }
   ],
   "source": [
    "y_pred_rfB_us = clf_rfB_us.predict(X_validB)\n",
    "score_rfB_us = clf_rfB_us.score(X_validB, y_validB)\n",
    "f1_rfB_us = f1_score(y_validB, y_pred_rfB_us, average='macro')\n",
    "print ('Accuracy: '+str(score_rfB_us*100)+' %')\n",
    "print ('F1-Score: '+str(f1_rfB_us))"
   ]
  },
  {
   "cell_type": "code",
   "execution_count": 101,
   "id": "520d7bcb",
   "metadata": {
    "execution": {
     "iopub.execute_input": "2022-07-23T02:06:24.448877Z",
     "iopub.status.busy": "2022-07-23T02:06:24.448122Z",
     "iopub.status.idle": "2022-07-23T02:06:25.484120Z",
     "shell.execute_reply": "2022-07-23T02:06:25.483119Z"
    },
    "papermill": {
     "duration": 1.076008,
     "end_time": "2022-07-23T02:06:25.486459",
     "exception": false,
     "start_time": "2022-07-23T02:06:24.410451",
     "status": "completed"
    },
    "tags": []
   },
   "outputs": [
    {
     "name": "stderr",
     "output_type": "stream",
     "text": [
      "/opt/conda/lib/python3.7/site-packages/sklearn/utils/deprecation.py:87: FutureWarning: Function plot_confusion_matrix is deprecated; Function `plot_confusion_matrix` is deprecated in 1.0 and will be removed in 1.2. Use one of the class methods: ConfusionMatrixDisplay.from_predictions or ConfusionMatrixDisplay.from_estimator.\n",
      "  warnings.warn(msg, category=FutureWarning)\n"
     ]
    },
    {
     "data": {
      "text/plain": [
       "<sklearn.metrics._plot.confusion_matrix.ConfusionMatrixDisplay at 0x7f87f7d70d50>"
      ]
     },
     "execution_count": 101,
     "metadata": {},
     "output_type": "execute_result"
    },
    {
     "data": {
      "image/png": "[encoded data removed]",
      "text/plain": [
       "<Figure size 432x288 with 2 Axes>"
      ]
     },
     "metadata": {
      "needs_background": "light"
     },
     "output_type": "display_data"
    }
   ],
   "source": [
    "plot_confusion_matrix(estimator=clf_rfB_us, X=X_validB, y_true=y_validB,\n",
    "                      normalize='true', cmap='Blues')"
   ]
  },
  {
   "cell_type": "code",
   "execution_count": 102,
   "id": "b0dcb7c8",
   "metadata": {
    "execution": {
     "iopub.execute_input": "2022-07-23T02:06:25.563325Z",
     "iopub.status.busy": "2022-07-23T02:06:25.562709Z",
     "iopub.status.idle": "2022-07-23T02:06:27.118584Z",
     "shell.execute_reply": "2022-07-23T02:06:27.117218Z"
    },
    "papermill": {
     "duration": 1.597126,
     "end_time": "2022-07-23T02:06:27.120794",
     "exception": false,
     "start_time": "2022-07-23T02:06:25.523668",
     "status": "completed"
    },
    "tags": []
   },
   "outputs": [
    {
     "name": "stdout",
     "output_type": "stream",
     "text": [
      "Accuracy: 84.36084733382032 %\n",
      "F1-Score: 0.7952090552153293\n"
     ]
    }
   ],
   "source": [
    "y_pred_rfB_us = clf_rfB_us.predict(X_testB)\n",
    "score_rfB_us = clf_rfB_us.score(X_testB, y_testB)\n",
    "f1_rfB_us = f1_score(y_testB, y_pred_rfB_us, average='macro')\n",
    "print ('Accuracy: '+str(score_rfB_us*100)+' %')\n",
    "print ('F1-Score: '+str(f1_rfB_us))"
   ]
  },
  {
   "cell_type": "code",
   "execution_count": 103,
   "id": "cf818cd0",
   "metadata": {
    "execution": {
     "iopub.execute_input": "2022-07-23T02:06:27.197244Z",
     "iopub.status.busy": "2022-07-23T02:06:27.196591Z",
     "iopub.status.idle": "2022-07-23T02:06:28.425342Z",
     "shell.execute_reply": "2022-07-23T02:06:28.424312Z"
    },
    "papermill": {
     "duration": 1.269306,
     "end_time": "2022-07-23T02:06:28.427257",
     "exception": false,
     "start_time": "2022-07-23T02:06:27.157951",
     "status": "completed"
    },
    "tags": []
   },
   "outputs": [
    {
     "name": "stderr",
     "output_type": "stream",
     "text": [
      "/opt/conda/lib/python3.7/site-packages/sklearn/utils/deprecation.py:87: FutureWarning: Function plot_confusion_matrix is deprecated; Function `plot_confusion_matrix` is deprecated in 1.0 and will be removed in 1.2. Use one of the class methods: ConfusionMatrixDisplay.from_predictions or ConfusionMatrixDisplay.from_estimator.\n",
      "  warnings.warn(msg, category=FutureWarning)\n"
     ]
    },
    {
     "data": {
      "text/plain": [
       "<sklearn.metrics._plot.confusion_matrix.ConfusionMatrixDisplay at 0x7f87f7b7b4d0>"
      ]
     },
     "execution_count": 103,
     "metadata": {},
     "output_type": "execute_result"
    },
    {
     "data": {
      "image/png": "[encoded data removed]",
      "text/plain": [
       "<Figure size 432x288 with 2 Axes>"
      ]
     },
     "metadata": {
      "needs_background": "light"
     },
     "output_type": "display_data"
    }
   ],
   "source": [
    "plot_confusion_matrix(estimator=clf_rfB_us, X=X_testB, y_true=y_testB,\n",
    "                      normalize='true', cmap='Blues')"
   ]
  },
  {
   "cell_type": "markdown",
   "id": "84d33749",
   "metadata": {
    "papermill": {
     "duration": 0.037756,
     "end_time": "2022-07-23T02:06:28.502691",
     "exception": false,
     "start_time": "2022-07-23T02:06:28.464935",
     "status": "completed"
    },
    "tags": []
   },
   "source": [
    "### XGBoost "
   ]
  },
  {
   "cell_type": "code",
   "execution_count": 104,
   "id": "0602fa89",
   "metadata": {
    "execution": {
     "iopub.execute_input": "2022-07-23T02:06:28.579853Z",
     "iopub.status.busy": "2022-07-23T02:06:28.579465Z",
     "iopub.status.idle": "2022-07-23T02:06:28.599086Z",
     "shell.execute_reply": "2022-07-23T02:06:28.597512Z"
    },
    "papermill": {
     "duration": 0.060601,
     "end_time": "2022-07-23T02:06:28.600997",
     "exception": false,
     "start_time": "2022-07-23T02:06:28.540396",
     "status": "completed"
    },
    "tags": []
   },
   "outputs": [
    {
     "name": "stderr",
     "output_type": "stream",
     "text": [
      "/opt/conda/lib/python3.7/site-packages/sklearn/preprocessing/_label.py:115: DataConversionWarning: A column-vector y was passed when a 1d array was expected. Please change the shape of y to (n_samples, ), for example using ravel().\n",
      "  y = column_or_1d(y, warn=True)\n"
     ]
    }
   ],
   "source": [
    "xgbB_us = XGBClassifier(n_estimators=100)\n",
    "le = LabelEncoder()\n",
    "y_trainXGB_B_us = le.fit_transform(y_trainB_us)"
   ]
  },
  {
   "cell_type": "code",
   "execution_count": 105,
   "id": "a0bf432a",
   "metadata": {
    "execution": {
     "iopub.execute_input": "2022-07-23T02:06:28.678692Z",
     "iopub.status.busy": "2022-07-23T02:06:28.678321Z",
     "iopub.status.idle": "2022-07-23T02:06:28.695109Z",
     "shell.execute_reply": "2022-07-23T02:06:28.694275Z"
    },
    "papermill": {
     "duration": 0.058366,
     "end_time": "2022-07-23T02:06:28.697044",
     "exception": false,
     "start_time": "2022-07-23T02:06:28.638678",
     "status": "completed"
    },
    "tags": []
   },
   "outputs": [],
   "source": [
    "y_validXGB_B = le.fit_transform(y_validB)\n",
    "y_testXGB_B = le.fit_transform(y_testB)"
   ]
  },
  {
   "cell_type": "code",
   "execution_count": 106,
   "id": "57a4b690",
   "metadata": {
    "execution": {
     "iopub.execute_input": "2022-07-23T02:06:28.775759Z",
     "iopub.status.busy": "2022-07-23T02:06:28.775117Z",
     "iopub.status.idle": "2022-07-23T02:18:43.584946Z",
     "shell.execute_reply": "2022-07-23T02:18:43.583910Z"
    },
    "papermill": {
     "duration": 734.889202,
     "end_time": "2022-07-23T02:18:43.625805",
     "exception": false,
     "start_time": "2022-07-23T02:06:28.736603",
     "status": "completed"
    },
    "tags": []
   },
   "outputs": [
    {
     "data": {
      "text/plain": [
       "XGBClassifier(base_score=0.5, booster='gbtree', callbacks=None,\n",
       "              colsample_bylevel=1, colsample_bynode=1, colsample_bytree=1,\n",
       "              early_stopping_rounds=None, enable_categorical=False,\n",
       "              eval_metric=None, gamma=0, gpu_id=-1, grow_policy='depthwise',\n",
       "              importance_type=None, interaction_constraints='',\n",
       "              learning_rate=0.300000012, max_bin=256, max_cat_to_onehot=4,\n",
       "              max_delta_step=0, max_depth=6, max_leaves=0, min_child_weight=1,\n",
       "              missing=nan, monotone_constraints='()', n_estimators=100,\n",
       "              n_jobs=0, num_parallel_tree=1, objective='multi:softprob',\n",
       "              predictor='auto', random_state=0, reg_alpha=0, ...)"
      ]
     },
     "execution_count": 106,
     "metadata": {},
     "output_type": "execute_result"
    }
   ],
   "source": [
    "xgbB_us.fit(X_trainB_us, y_trainXGB_B_us)"
   ]
  },
  {
   "cell_type": "code",
   "execution_count": 107,
   "id": "40d4c4c9",
   "metadata": {
    "execution": {
     "iopub.execute_input": "2022-07-23T02:18:43.702747Z",
     "iopub.status.busy": "2022-07-23T02:18:43.701987Z",
     "iopub.status.idle": "2022-07-23T02:18:43.970057Z",
     "shell.execute_reply": "2022-07-23T02:18:43.968514Z"
    },
    "papermill": {
     "duration": 0.309775,
     "end_time": "2022-07-23T02:18:43.973073",
     "exception": false,
     "start_time": "2022-07-23T02:18:43.663298",
     "status": "completed"
    },
    "tags": []
   },
   "outputs": [
    {
     "name": "stdout",
     "output_type": "stream",
     "text": [
      "Accuracy: 84.70502549162417 %\n",
      "F1-Score: 0.7612138668893453\n"
     ]
    }
   ],
   "source": [
    "y_predXGB_B_us = xgbB_us.predict(X_validB)\n",
    "predictions_B_us = [round(value) for value in y_predXGB_B_us]\n",
    "score_xgb_B_us = accuracy_score(y_validXGB_B, predictions_B_us)\n",
    "f1_xgb_B_us = f1_score(y_validXGB_B, predictions_B_us, average='macro')\n",
    "print ('Accuracy: '+str(score_xgb_B_us*100)+' %')\n",
    "print ('F1-Score: '+str(f1_xgb_B_us))"
   ]
  },
  {
   "cell_type": "code",
   "execution_count": 108,
   "id": "758184e0",
   "metadata": {
    "execution": {
     "iopub.execute_input": "2022-07-23T02:18:44.051570Z",
     "iopub.status.busy": "2022-07-23T02:18:44.050828Z",
     "iopub.status.idle": "2022-07-23T02:18:44.508377Z",
     "shell.execute_reply": "2022-07-23T02:18:44.506541Z"
    },
    "papermill": {
     "duration": 0.499056,
     "end_time": "2022-07-23T02:18:44.510640",
     "exception": false,
     "start_time": "2022-07-23T02:18:44.011584",
     "status": "completed"
    },
    "tags": []
   },
   "outputs": [
    {
     "name": "stderr",
     "output_type": "stream",
     "text": [
      "/opt/conda/lib/python3.7/site-packages/sklearn/utils/deprecation.py:87: FutureWarning: Function plot_confusion_matrix is deprecated; Function `plot_confusion_matrix` is deprecated in 1.0 and will be removed in 1.2. Use one of the class methods: ConfusionMatrixDisplay.from_predictions or ConfusionMatrixDisplay.from_estimator.\n",
      "  warnings.warn(msg, category=FutureWarning)\n"
     ]
    },
    {
     "data": {
      "text/plain": [
       "<sklearn.metrics._plot.confusion_matrix.ConfusionMatrixDisplay at 0x7f87f7a199d0>"
      ]
     },
     "execution_count": 108,
     "metadata": {},
     "output_type": "execute_result"
    },
    {
     "data": {
      "image/png": "[encoded data removed]",
      "text/plain": [
       "<Figure size 432x288 with 2 Axes>"
      ]
     },
     "metadata": {
      "needs_background": "light"
     },
     "output_type": "display_data"
    }
   ],
   "source": [
    "plot_confusion_matrix(estimator=xgbB_us, X=X_validB, y_true=y_validXGB_B,\n",
    "                      normalize='true', cmap='Blues')"
   ]
  },
  {
   "cell_type": "code",
   "execution_count": 109,
   "id": "f770d4c9",
   "metadata": {
    "execution": {
     "iopub.execute_input": "2022-07-23T02:18:44.590470Z",
     "iopub.status.busy": "2022-07-23T02:18:44.589917Z",
     "iopub.status.idle": "2022-07-23T02:18:44.840762Z",
     "shell.execute_reply": "2022-07-23T02:18:44.839331Z"
    },
    "papermill": {
     "duration": 0.29326,
     "end_time": "2022-07-23T02:18:44.843005",
     "exception": false,
     "start_time": "2022-07-23T02:18:44.549745",
     "status": "completed"
    },
    "tags": []
   },
   "outputs": [
    {
     "name": "stdout",
     "output_type": "stream",
     "text": [
      "Accuracy: 85.88020452885317 %\n",
      "F1-Score: 0.8204966787943249\n"
     ]
    }
   ],
   "source": [
    "y_predXGB_B_us = xgbB_us.predict(X_testB)\n",
    "predictions_B_us = [round(value) for value in y_predXGB_B_us]\n",
    "score_xgb_B_us = accuracy_score(y_testXGB_B, predictions_B_us)\n",
    "f1_xgb_B_us = f1_score(y_testXGB_B, predictions_B_us, average='macro')\n",
    "print ('Accuracy: '+str(score_xgb_B_us*100)+' %')\n",
    "print ('F1-Score: '+str(f1_xgb_B_us))"
   ]
  },
  {
   "cell_type": "code",
   "execution_count": 110,
   "id": "94e02c1d",
   "metadata": {
    "execution": {
     "iopub.execute_input": "2022-07-23T02:18:44.922322Z",
     "iopub.status.busy": "2022-07-23T02:18:44.921921Z",
     "iopub.status.idle": "2022-07-23T02:18:45.387383Z",
     "shell.execute_reply": "2022-07-23T02:18:45.386275Z"
    },
    "papermill": {
     "duration": 0.507542,
     "end_time": "2022-07-23T02:18:45.389337",
     "exception": false,
     "start_time": "2022-07-23T02:18:44.881795",
     "status": "completed"
    },
    "tags": []
   },
   "outputs": [
    {
     "name": "stderr",
     "output_type": "stream",
     "text": [
      "/opt/conda/lib/python3.7/site-packages/sklearn/utils/deprecation.py:87: FutureWarning: Function plot_confusion_matrix is deprecated; Function `plot_confusion_matrix` is deprecated in 1.0 and will be removed in 1.2. Use one of the class methods: ConfusionMatrixDisplay.from_predictions or ConfusionMatrixDisplay.from_estimator.\n",
      "  warnings.warn(msg, category=FutureWarning)\n"
     ]
    },
    {
     "data": {
      "text/plain": [
       "<sklearn.metrics._plot.confusion_matrix.ConfusionMatrixDisplay at 0x7f87f788fdd0>"
      ]
     },
     "execution_count": 110,
     "metadata": {},
     "output_type": "execute_result"
    },
    {
     "data": {
      "image/png": "[encoded data removed]",
      "text/plain": [
       "<Figure size 432x288 with 2 Axes>"
      ]
     },
     "metadata": {
      "needs_background": "light"
     },
     "output_type": "display_data"
    }
   ],
   "source": [
    "plot_confusion_matrix(estimator=xgbB_us, X=X_testB, y_true=y_testXGB_B,\n",
    "                      normalize='true', cmap='Blues')"
   ]
  },
  {
   "cell_type": "markdown",
   "id": "bea2ecb5",
   "metadata": {
    "papermill": {
     "duration": 0.039977,
     "end_time": "2022-07-23T02:18:45.469124",
     "exception": false,
     "start_time": "2022-07-23T02:18:45.429147",
     "status": "completed"
    },
    "tags": []
   },
   "source": [
    "## Oversampling"
   ]
  },
  {
   "cell_type": "code",
   "execution_count": 111,
   "id": "07013a14",
   "metadata": {
    "execution": {
     "iopub.execute_input": "2022-07-23T02:18:45.551253Z",
     "iopub.status.busy": "2022-07-23T02:18:45.550847Z",
     "iopub.status.idle": "2022-07-23T02:18:45.555020Z",
     "shell.execute_reply": "2022-07-23T02:18:45.554336Z"
    },
    "papermill": {
     "duration": 0.047054,
     "end_time": "2022-07-23T02:18:45.556999",
     "exception": false,
     "start_time": "2022-07-23T02:18:45.509945",
     "status": "completed"
    },
    "tags": []
   },
   "outputs": [],
   "source": [
    "from imblearn.over_sampling import SMOTE"
   ]
  },
  {
   "cell_type": "code",
   "execution_count": 112,
   "id": "a9557cc8",
   "metadata": {
    "execution": {
     "iopub.execute_input": "2022-07-23T02:18:45.638379Z",
     "iopub.status.busy": "2022-07-23T02:18:45.637673Z",
     "iopub.status.idle": "2022-07-23T02:18:45.654211Z",
     "shell.execute_reply": "2022-07-23T02:18:45.653345Z"
    },
    "papermill": {
     "duration": 0.059072,
     "end_time": "2022-07-23T02:18:45.656192",
     "exception": false,
     "start_time": "2022-07-23T02:18:45.597120",
     "status": "completed"
    },
    "tags": []
   },
   "outputs": [
    {
     "data": {
      "text/plain": [
       "event        \n",
       "neutral          56524\n",
       "smile            13578\n",
       "squeeze_eyes     13319\n",
       "frown            13159\n",
       "eyebrow_raise    13140\n",
       "dtype: int64"
      ]
     },
     "execution_count": 112,
     "metadata": {},
     "output_type": "execute_result"
    }
   ],
   "source": [
    "y_trainB.value_counts()"
   ]
  },
  {
   "cell_type": "code",
   "execution_count": 113,
   "id": "199c6d87",
   "metadata": {
    "execution": {
     "iopub.execute_input": "2022-07-23T02:18:45.737916Z",
     "iopub.status.busy": "2022-07-23T02:18:45.737223Z",
     "iopub.status.idle": "2022-07-23T02:18:45.742035Z",
     "shell.execute_reply": "2022-07-23T02:18:45.741351Z"
    },
    "papermill": {
     "duration": 0.048183,
     "end_time": "2022-07-23T02:18:45.743975",
     "exception": false,
     "start_time": "2022-07-23T02:18:45.695792",
     "status": "completed"
    },
    "tags": []
   },
   "outputs": [],
   "source": [
    "dict_os2 = {\n",
    "  \"eyebrow_raise\": 53834,\n",
    "  \"frown\": 54230,\n",
    "  \"neutral\": 56573 ,\n",
    "  \"smile\": 52374 ,\n",
    "  \"squeeze_eyes\": 53423 \n",
    "}"
   ]
  },
  {
   "cell_type": "code",
   "execution_count": 114,
   "id": "c5da9add",
   "metadata": {
    "execution": {
     "iopub.execute_input": "2022-07-23T02:18:45.825794Z",
     "iopub.status.busy": "2022-07-23T02:18:45.825064Z",
     "iopub.status.idle": "2022-07-23T02:20:14.580847Z",
     "shell.execute_reply": "2022-07-23T02:20:14.579679Z"
    },
    "papermill": {
     "duration": 88.840606,
     "end_time": "2022-07-23T02:20:14.624362",
     "exception": false,
     "start_time": "2022-07-23T02:18:45.783756",
     "status": "completed"
    },
    "tags": []
   },
   "outputs": [
    {
     "name": "stderr",
     "output_type": "stream",
     "text": [
      "/opt/conda/lib/python3.7/site-packages/imblearn/utils/_validation.py:300: UserWarning: After over-sampling, the number of samples (56573) in class neutral will be larger than the number of samples in the majority class (class #neutral -> 56524)\n",
      "  f\"After over-sampling, the number of samples ({n_samples})\"\n"
     ]
    },
    {
     "data": {
      "text/plain": [
       "event        \n",
       "neutral          56573\n",
       "frown            54230\n",
       "eyebrow_raise    53834\n",
       "squeeze_eyes     53423\n",
       "smile            52374\n",
       "dtype: int64"
      ]
     },
     "execution_count": 114,
     "metadata": {},
     "output_type": "execute_result"
    }
   ],
   "source": [
    "oversample = SMOTE(sampling_strategy=dict_os2, k_neighbors=5)\n",
    "X_trainB_os, y_trainB_os = oversample.fit_resample(X_trainB, y_trainB)\n",
    "y_trainB_os.value_counts()"
   ]
  },
  {
   "cell_type": "markdown",
   "id": "67b20042",
   "metadata": {
    "papermill": {
     "duration": 0.039886,
     "end_time": "2022-07-23T02:20:14.704423",
     "exception": false,
     "start_time": "2022-07-23T02:20:14.664537",
     "status": "completed"
    },
    "tags": []
   },
   "source": [
    "### Random Forest"
   ]
  },
  {
   "cell_type": "code",
   "execution_count": 115,
   "id": "93e6f18a",
   "metadata": {
    "execution": {
     "iopub.execute_input": "2022-07-23T02:20:14.785769Z",
     "iopub.status.busy": "2022-07-23T02:20:14.785014Z",
     "iopub.status.idle": "2022-07-23T02:34:58.082356Z",
     "shell.execute_reply": "2022-07-23T02:34:58.081310Z"
    },
    "papermill": {
     "duration": 883.38179,
     "end_time": "2022-07-23T02:34:58.125913",
     "exception": false,
     "start_time": "2022-07-23T02:20:14.744123",
     "status": "completed"
    },
    "tags": []
   },
   "outputs": [
    {
     "name": "stderr",
     "output_type": "stream",
     "text": [
      "/opt/conda/lib/python3.7/site-packages/ipykernel_launcher.py:2: DataConversionWarning: A column-vector y was passed when a 1d array was expected. Please change the shape of y to (n_samples,), for example using ravel().\n",
      "  \n"
     ]
    },
    {
     "data": {
      "text/plain": [
       "RandomForestClassifier(random_state=42)"
      ]
     },
     "execution_count": 115,
     "metadata": {},
     "output_type": "execute_result"
    }
   ],
   "source": [
    "clf_rfB_os = RandomForestClassifier(random_state=42)\n",
    "clf_rfB_os.fit(X_trainB_os, y_trainB_os)"
   ]
  },
  {
   "cell_type": "code",
   "execution_count": 116,
   "id": "8cc93079",
   "metadata": {
    "execution": {
     "iopub.execute_input": "2022-07-23T02:34:58.263652Z",
     "iopub.status.busy": "2022-07-23T02:34:58.262782Z",
     "iopub.status.idle": "2022-07-23T02:34:59.945485Z",
     "shell.execute_reply": "2022-07-23T02:34:59.944158Z"
    },
    "papermill": {
     "duration": 1.726068,
     "end_time": "2022-07-23T02:34:59.948275",
     "exception": false,
     "start_time": "2022-07-23T02:34:58.222207",
     "status": "completed"
    },
    "tags": []
   },
   "outputs": [
    {
     "name": "stdout",
     "output_type": "stream",
     "text": [
      "Accuracy: 84.58485069191552 %\n",
      "F1-Score: 0.7544923307875917\n"
     ]
    }
   ],
   "source": [
    "y_pred_rfB_os = clf_rfB_os.predict(X_validB)\n",
    "score_rfB_os = clf_rfB_os.score(X_validB, y_validB)\n",
    "f1_rfB_os = f1_score(y_validB, y_pred_rfB_os, average='macro')\n",
    "print ('Accuracy: '+str(score_rfB_os*100)+' %')\n",
    "print ('F1-Score: '+str(f1_rfB_os))"
   ]
  },
  {
   "cell_type": "code",
   "execution_count": 117,
   "id": "f811da91",
   "metadata": {
    "execution": {
     "iopub.execute_input": "2022-07-23T02:35:00.029367Z",
     "iopub.status.busy": "2022-07-23T02:35:00.028836Z",
     "iopub.status.idle": "2022-07-23T02:35:01.210056Z",
     "shell.execute_reply": "2022-07-23T02:35:01.209113Z"
    },
    "papermill": {
     "duration": 1.223198,
     "end_time": "2022-07-23T02:35:01.211955",
     "exception": false,
     "start_time": "2022-07-23T02:34:59.988757",
     "status": "completed"
    },
    "tags": []
   },
   "outputs": [
    {
     "name": "stderr",
     "output_type": "stream",
     "text": [
      "/opt/conda/lib/python3.7/site-packages/sklearn/utils/deprecation.py:87: FutureWarning: Function plot_confusion_matrix is deprecated; Function `plot_confusion_matrix` is deprecated in 1.0 and will be removed in 1.2. Use one of the class methods: ConfusionMatrixDisplay.from_predictions or ConfusionMatrixDisplay.from_estimator.\n",
      "  warnings.warn(msg, category=FutureWarning)\n"
     ]
    },
    {
     "data": {
      "text/plain": [
       "<sklearn.metrics._plot.confusion_matrix.ConfusionMatrixDisplay at 0x7f87f6b77610>"
      ]
     },
     "execution_count": 117,
     "metadata": {},
     "output_type": "execute_result"
    },
    {
     "data": {
      "image/png": "[encoded data removed]",
      "text/plain": [
       "<Figure size 432x288 with 2 Axes>"
      ]
     },
     "metadata": {
      "needs_background": "light"
     },
     "output_type": "display_data"
    }
   ],
   "source": [
    "plot_confusion_matrix(estimator=clf_rfB_os, X=X_validB, y_true=y_validB,\n",
    "                      normalize='true', cmap='Blues')"
   ]
  },
  {
   "cell_type": "code",
   "execution_count": 118,
   "id": "978bd7fc",
   "metadata": {
    "execution": {
     "iopub.execute_input": "2022-07-23T02:35:01.297174Z",
     "iopub.status.busy": "2022-07-23T02:35:01.296552Z",
     "iopub.status.idle": "2022-07-23T02:35:02.931310Z",
     "shell.execute_reply": "2022-07-23T02:35:02.929866Z"
    },
    "papermill": {
     "duration": 1.679227,
     "end_time": "2022-07-23T02:35:02.934196",
     "exception": false,
     "start_time": "2022-07-23T02:35:01.254969",
     "status": "completed"
    },
    "tags": []
   },
   "outputs": [
    {
     "name": "stdout",
     "output_type": "stream",
     "text": [
      "Accuracy: 84.95982468955442 %\n",
      "F1-Score: 0.7937620158605967\n"
     ]
    }
   ],
   "source": [
    "y_pred_rfB_os = clf_rfB_os.predict(X_testB)\n",
    "score_rfB_os = clf_rfB_os.score(X_testB, y_testB)\n",
    "f1_rfB_os = f1_score(y_testB, y_pred_rfB_os, average='macro')\n",
    "print ('Accuracy: '+str(score_rfB_os*100)+' %')\n",
    "print ('F1-Score: '+str(f1_rfB_os))"
   ]
  },
  {
   "cell_type": "code",
   "execution_count": 119,
   "id": "05d20e1d",
   "metadata": {
    "execution": {
     "iopub.execute_input": "2022-07-23T02:35:03.019457Z",
     "iopub.status.busy": "2022-07-23T02:35:03.018670Z",
     "iopub.status.idle": "2022-07-23T02:35:04.079606Z",
     "shell.execute_reply": "2022-07-23T02:35:04.078394Z"
    },
    "papermill": {
     "duration": 1.105809,
     "end_time": "2022-07-23T02:35:04.082695",
     "exception": false,
     "start_time": "2022-07-23T02:35:02.976886",
     "status": "completed"
    },
    "tags": []
   },
   "outputs": [
    {
     "name": "stderr",
     "output_type": "stream",
     "text": [
      "/opt/conda/lib/python3.7/site-packages/sklearn/utils/deprecation.py:87: FutureWarning: Function plot_confusion_matrix is deprecated; Function `plot_confusion_matrix` is deprecated in 1.0 and will be removed in 1.2. Use one of the class methods: ConfusionMatrixDisplay.from_predictions or ConfusionMatrixDisplay.from_estimator.\n",
      "  warnings.warn(msg, category=FutureWarning)\n"
     ]
    },
    {
     "data": {
      "text/plain": [
       "<sklearn.metrics._plot.confusion_matrix.ConfusionMatrixDisplay at 0x7f87f6b77550>"
      ]
     },
     "execution_count": 119,
     "metadata": {},
     "output_type": "execute_result"
    },
    {
     "data": {
      "image/png": "[encoded data removed]",
      "text/plain": [
       "<Figure size 432x288 with 2 Axes>"
      ]
     },
     "metadata": {
      "needs_background": "light"
     },
     "output_type": "display_data"
    }
   ],
   "source": [
    "plot_confusion_matrix(estimator=clf_rfB_os, X=X_testB, y_true=y_testB,\n",
    "                      normalize='true', cmap='Blues')"
   ]
  },
  {
   "cell_type": "markdown",
   "id": "bf4e4918",
   "metadata": {
    "papermill": {
     "duration": 0.040213,
     "end_time": "2022-07-23T02:35:04.164800",
     "exception": false,
     "start_time": "2022-07-23T02:35:04.124587",
     "status": "completed"
    },
    "tags": []
   },
   "source": [
    "### XGBoost"
   ]
  },
  {
   "cell_type": "code",
   "execution_count": 120,
   "id": "99b14119",
   "metadata": {
    "execution": {
     "iopub.execute_input": "2022-07-23T02:35:04.246495Z",
     "iopub.status.busy": "2022-07-23T02:35:04.246132Z",
     "iopub.status.idle": "2022-07-23T02:35:04.340702Z",
     "shell.execute_reply": "2022-07-23T02:35:04.339601Z"
    },
    "papermill": {
     "duration": 0.138078,
     "end_time": "2022-07-23T02:35:04.342852",
     "exception": false,
     "start_time": "2022-07-23T02:35:04.204774",
     "status": "completed"
    },
    "tags": []
   },
   "outputs": [
    {
     "name": "stderr",
     "output_type": "stream",
     "text": [
      "/opt/conda/lib/python3.7/site-packages/sklearn/preprocessing/_label.py:115: DataConversionWarning: A column-vector y was passed when a 1d array was expected. Please change the shape of y to (n_samples, ), for example using ravel().\n",
      "  y = column_or_1d(y, warn=True)\n"
     ]
    }
   ],
   "source": [
    "y_trainXGB_B_os = le.fit_transform(y_trainB_os)\n",
    "y_trainXGB_B = le.fit_transform(y_trainB)\n",
    "y_validXGB_B = le.fit_transform(y_validB)\n",
    "y_testXGB_B = le.fit_transform(y_testB)\n"
   ]
  },
  {
   "cell_type": "code",
   "execution_count": 121,
   "id": "3b2d560e",
   "metadata": {
    "execution": {
     "iopub.execute_input": "2022-07-23T02:35:04.426781Z",
     "iopub.status.busy": "2022-07-23T02:35:04.426052Z",
     "iopub.status.idle": "2022-07-23T03:30:26.714223Z",
     "shell.execute_reply": "2022-07-23T03:30:26.713155Z"
    },
    "papermill": {
     "duration": 3322.373718,
     "end_time": "2022-07-23T03:30:26.758063",
     "exception": false,
     "start_time": "2022-07-23T02:35:04.384345",
     "status": "completed"
    },
    "tags": []
   },
   "outputs": [
    {
     "data": {
      "text/plain": [
       "XGBClassifier(base_score=0.5, booster='gbtree', callbacks=None,\n",
       "              colsample_bylevel=1, colsample_bynode=1, colsample_bytree=1,\n",
       "              early_stopping_rounds=None, enable_categorical=False,\n",
       "              eval_metric=None, gamma=0, gpu_id=-1, grow_policy='depthwise',\n",
       "              importance_type=None, interaction_constraints='',\n",
       "              learning_rate=0.300000012, max_bin=256, max_cat_to_onehot=4,\n",
       "              max_delta_step=0, max_depth=6, max_leaves=0, min_child_weight=1,\n",
       "              missing=nan, monotone_constraints='()', n_estimators=100,\n",
       "              n_jobs=0, num_parallel_tree=1, objective='multi:softprob',\n",
       "              predictor='auto', random_state=0, reg_alpha=0, ...)"
      ]
     },
     "execution_count": 121,
     "metadata": {},
     "output_type": "execute_result"
    }
   ],
   "source": [
    "xgbB_os = XGBClassifier(n_estimators=100)\n",
    "xgbB_os.fit(X_trainB_os, y_trainXGB_B_os)"
   ]
  },
  {
   "cell_type": "code",
   "execution_count": 122,
   "id": "6cee5990",
   "metadata": {
    "execution": {
     "iopub.execute_input": "2022-07-23T03:30:26.843571Z",
     "iopub.status.busy": "2022-07-23T03:30:26.842643Z",
     "iopub.status.idle": "2022-07-23T03:30:27.094790Z",
     "shell.execute_reply": "2022-07-23T03:30:27.093581Z"
    },
    "papermill": {
     "duration": 0.298176,
     "end_time": "2022-07-23T03:30:27.097873",
     "exception": false,
     "start_time": "2022-07-23T03:30:26.799697",
     "status": "completed"
    },
    "tags": []
   },
   "outputs": [
    {
     "name": "stdout",
     "output_type": "stream",
     "text": [
      "Accuracy: 84.7414420975965 %\n",
      "F1-Score: 0.7669551397718503\n"
     ]
    }
   ],
   "source": [
    "y_predXGB_B_os = xgbB_os.predict(X_validB)\n",
    "predictions_B_os = [round(value) for value in y_predXGB_B_os]\n",
    "score_xgb_B_os = accuracy_score(y_validXGB_B, predictions_B_os)\n",
    "f1_xgb_B_os = f1_score(y_validXGB_B, predictions_B_os, average='macro')\n",
    "print ('Accuracy: '+str(score_xgb_B_os*100)+' %')\n",
    "print ('F1-Score: '+str(f1_xgb_B_os))"
   ]
  },
  {
   "cell_type": "code",
   "execution_count": 123,
   "id": "f9a8f66d",
   "metadata": {
    "execution": {
     "iopub.execute_input": "2022-07-23T03:30:27.185679Z",
     "iopub.status.busy": "2022-07-23T03:30:27.185300Z",
     "iopub.status.idle": "2022-07-23T03:30:27.590217Z",
     "shell.execute_reply": "2022-07-23T03:30:27.589474Z"
    },
    "papermill": {
     "duration": 0.449674,
     "end_time": "2022-07-23T03:30:27.592065",
     "exception": false,
     "start_time": "2022-07-23T03:30:27.142391",
     "status": "completed"
    },
    "tags": []
   },
   "outputs": [
    {
     "name": "stderr",
     "output_type": "stream",
     "text": [
      "/opt/conda/lib/python3.7/site-packages/sklearn/utils/deprecation.py:87: FutureWarning: Function plot_confusion_matrix is deprecated; Function `plot_confusion_matrix` is deprecated in 1.0 and will be removed in 1.2. Use one of the class methods: ConfusionMatrixDisplay.from_predictions or ConfusionMatrixDisplay.from_estimator.\n",
      "  warnings.warn(msg, category=FutureWarning)\n"
     ]
    },
    {
     "data": {
      "text/plain": [
       "<sklearn.metrics._plot.confusion_matrix.ConfusionMatrixDisplay at 0x7f87f77378d0>"
      ]
     },
     "execution_count": 123,
     "metadata": {},
     "output_type": "execute_result"
    },
    {
     "data": {
      "image/png": "[encoded data removed]",
      "text/plain": [
       "<Figure size 432x288 with 2 Axes>"
      ]
     },
     "metadata": {
      "needs_background": "light"
     },
     "output_type": "display_data"
    }
   ],
   "source": [
    "plot_confusion_matrix(estimator=xgbB_os, X=X_validB, y_true=y_validXGB_B,\n",
    "                      normalize='true', cmap='Blues')"
   ]
  },
  {
   "cell_type": "code",
   "execution_count": 124,
   "id": "9ba662c1",
   "metadata": {
    "execution": {
     "iopub.execute_input": "2022-07-23T03:30:27.679026Z",
     "iopub.status.busy": "2022-07-23T03:30:27.678014Z",
     "iopub.status.idle": "2022-07-23T03:30:27.927980Z",
     "shell.execute_reply": "2022-07-23T03:30:27.926670Z"
    },
    "papermill": {
     "duration": 0.29626,
     "end_time": "2022-07-23T03:30:27.930836",
     "exception": false,
     "start_time": "2022-07-23T03:30:27.634576",
     "status": "completed"
    },
    "tags": []
   },
   "outputs": [
    {
     "name": "stdout",
     "output_type": "stream",
     "text": [
      "Accuracy: 85.47114682249818 %\n",
      "F1-Score: 0.808767873325342\n"
     ]
    }
   ],
   "source": [
    "y_predXGB_B_os = xgbB_os.predict(X_testB)\n",
    "predictions_B_os = [round(value) for value in y_predXGB_B_os]\n",
    "score_xgb_B_os = accuracy_score(y_testXGB_B, predictions_B_os)\n",
    "f1_xgb_B_os = f1_score(y_testXGB_B, predictions_B_os, average='macro')\n",
    "print ('Accuracy: '+str(score_xgb_B_os*100)+' %')\n",
    "print ('F1-Score: '+str(f1_xgb_B_os))"
   ]
  },
  {
   "cell_type": "code",
   "execution_count": 125,
   "id": "dded57b1",
   "metadata": {
    "execution": {
     "iopub.execute_input": "2022-07-23T03:30:28.019136Z",
     "iopub.status.busy": "2022-07-23T03:30:28.018353Z",
     "iopub.status.idle": "2022-07-23T03:30:28.429120Z",
     "shell.execute_reply": "2022-07-23T03:30:28.428135Z"
    },
    "papermill": {
     "duration": 0.456732,
     "end_time": "2022-07-23T03:30:28.431151",
     "exception": false,
     "start_time": "2022-07-23T03:30:27.974419",
     "status": "completed"
    },
    "tags": []
   },
   "outputs": [
    {
     "name": "stderr",
     "output_type": "stream",
     "text": [
      "/opt/conda/lib/python3.7/site-packages/sklearn/utils/deprecation.py:87: FutureWarning: Function plot_confusion_matrix is deprecated; Function `plot_confusion_matrix` is deprecated in 1.0 and will be removed in 1.2. Use one of the class methods: ConfusionMatrixDisplay.from_predictions or ConfusionMatrixDisplay.from_estimator.\n",
      "  warnings.warn(msg, category=FutureWarning)\n"
     ]
    },
    {
     "data": {
      "text/plain": [
       "<sklearn.metrics._plot.confusion_matrix.ConfusionMatrixDisplay at 0x7f87f6a86550>"
      ]
     },
     "execution_count": 125,
     "metadata": {},
     "output_type": "execute_result"
    },
    {
     "data": {
      "image/png": "[encoded data removed]",
      "text/plain": [
       "<Figure size 432x288 with 2 Axes>"
      ]
     },
     "metadata": {
      "needs_background": "light"
     },
     "output_type": "display_data"
    }
   ],
   "source": [
    "plot_confusion_matrix(estimator=xgbB_os, X=X_testB, y_true=y_testXGB_B,\n",
    "                      normalize='true', cmap='Blues')"
   ]
  }
 ],
 "metadata": {
  "kernelspec": {
   "display_name": "Python 3",
   "language": "python",
   "name": "python3"
  },
  "language_info": {
   "codemirror_mode": {
    "name": "ipython",
    "version": 3
   },
   "file_extension": ".py",
   "mimetype": "text/x-python",
   "name": "python",
   "nbconvert_exporter": "python",
   "pygments_lexer": "ipython3",
   "version": "3.7.12"
  },
  "papermill": {
   "default_parameters": {},
   "duration": 10114.177454,
   "end_time": "2022-07-23T03:30:29.811291",
   "environment_variables": {},
   "exception": null,
   "input_path": "__notebook__.ipynb",
   "output_path": "__notebook__.ipynb",
   "parameters": {},
   "start_time": "2022-07-23T00:41:55.633837",
   "version": "2.3.4"
  }
 },
 "nbformat": 4,
 "nbformat_minor": 5
}
