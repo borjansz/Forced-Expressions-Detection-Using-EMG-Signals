{
 "cells": [
  {
   "cell_type": "code",
   "execution_count": 1,
   "id": "13a3e9ae",
   "metadata": {
    "_cell_guid": "b1076dfc-b9ad-4769-8c92-a6c4dae69d19",
    "_uuid": "8f2839f25d086af736a60e9eeb907d3b93b6e0e5",
    "execution": {
     "iopub.execute_input": "2022-07-25T18:30:47.876585Z",
     "iopub.status.busy": "2022-07-25T18:30:47.876182Z",
     "iopub.status.idle": "2022-07-25T18:30:47.909380Z",
     "shell.execute_reply": "2022-07-25T18:30:47.907716Z"
    },
    "papermill": {
     "duration": 0.051012,
     "end_time": "2022-07-25T18:30:47.912927",
     "exception": false,
     "start_time": "2022-07-25T18:30:47.861915",
     "status": "completed"
    },
    "tags": []
   },
   "outputs": [
    {
     "name": "stdout",
     "output_type": "stream",
     "text": [
      "/kaggle/input/participantstaska/Participant2.csv\n",
      "/kaggle/input/participantstaska/Participant17.csv\n",
      "/kaggle/input/participantstaska/Participant22.csv\n",
      "/kaggle/input/participantstaska/Participant18.csv\n",
      "/kaggle/input/participantstaska/Participant5.csv\n",
      "/kaggle/input/participantstaska/Participant3.csv\n",
      "/kaggle/input/participantstaska/Participant25.csv\n",
      "/kaggle/input/participantstaska/Participant4.csv\n",
      "/kaggle/input/participantstaska/Participant7.csv\n",
      "/kaggle/input/participantstaska/Participant15.csv\n",
      "/kaggle/input/participantstaska/Participant9.csv\n",
      "/kaggle/input/participantstaska/Participant14.csv\n",
      "/kaggle/input/participantstaska/Participant30.csv\n",
      "/kaggle/input/participantstaska/Participant20.csv\n",
      "/kaggle/input/participantstaska/Participant10.csv\n",
      "/kaggle/input/participantstaska/Participant27.csv\n",
      "/kaggle/input/participantstaska/Participant13.csv\n",
      "/kaggle/input/participantstaska/Participant1.csv\n",
      "/kaggle/input/participantstaska/Participant29.csv\n",
      "/kaggle/input/participantstaska/Participant19.csv\n",
      "/kaggle/input/participantstaska/Participant23.csv\n",
      "/kaggle/input/participantstaska/Participant6.csv\n",
      "/kaggle/input/participantstaska/Participant24.csv\n",
      "/kaggle/input/participantstaska/Participant21.csv\n",
      "/kaggle/input/participantstaska/Participant8.csv\n",
      "/kaggle/input/participantstaska/Participant16.csv\n",
      "/kaggle/input/participantstaska/Participant26.csv\n",
      "/kaggle/input/participantstaska/Participant12.csv\n",
      "/kaggle/input/participantstaska/Participant11.csv\n",
      "/kaggle/input/participantstaska/Participant28.csv\n"
     ]
    }
   ],
   "source": [
    "# This Python 3 environment comes with many helpful analytics libraries installed\n",
    "# It is defined by the kaggle/python Docker image: https://github.com/kaggle/docker-python\n",
    "# For example, here's several helpful packages to load\n",
    "\n",
    "import numpy as np # linear algebra\n",
    "import pandas as pd # data processing, CSV file I/O (e.g. pd.read_csv)\n",
    "\n",
    "# Input data files are available in the read-only \"../input/\" directory\n",
    "# For example, running this (by clicking run or pressing Shift+Enter) will list all files under the input directory\n",
    "\n",
    "import os\n",
    "for dirname, _, filenames in os.walk('/kaggle/input'):\n",
    "    for filename in filenames:\n",
    "        print(os.path.join(dirname, filename))\n",
    "\n",
    "# You can write up to 20GB to the current directory (/kaggle/working/) that gets preserved as output when you create a version using \"Save & Run All\" \n",
    "# You can also write temporary files to /kaggle/temp/, but they won't be saved outside of the current session"
   ]
  },
  {
   "cell_type": "code",
   "execution_count": 2,
   "id": "76d240ef",
   "metadata": {
    "execution": {
     "iopub.execute_input": "2022-07-25T18:30:47.929752Z",
     "iopub.status.busy": "2022-07-25T18:30:47.928911Z",
     "iopub.status.idle": "2022-07-25T18:30:50.027560Z",
     "shell.execute_reply": "2022-07-25T18:30:50.026263Z"
    },
    "papermill": {
     "duration": 2.109311,
     "end_time": "2022-07-25T18:30:50.029891",
     "exception": false,
     "start_time": "2022-07-25T18:30:47.920580",
     "status": "completed"
    },
    "tags": []
   },
   "outputs": [],
   "source": [
    "import matplotlib.pyplot as plt\n",
    "import numpy as np\n",
    "import pandas as pd\n",
    "import seaborn as sns\n",
    "from sklearn.model_selection import train_test_split\n",
    "from sklearn import tree\n",
    "\n",
    "from sklearn.feature_selection import SelectKBest\n",
    "from sklearn.feature_selection import f_classif\n",
    "from numpy import set_printoptions\n",
    "\n",
    "from sklearn.dummy import DummyClassifier\n",
    "from sklearn.metrics import f1_score\n",
    "from sklearn.metrics import plot_confusion_matrix\n",
    "\n",
    "from sklearn.ensemble import RandomForestClassifier\n",
    "\n",
    "from xgboost import XGBClassifier\n",
    "from sklearn.model_selection import cross_val_score\n",
    "from sklearn.preprocessing import LabelEncoder\n",
    "from sklearn.metrics import accuracy_score\n",
    "\n",
    "from sklearn.neighbors import KNeighborsClassifier\n",
    "from sklearn.metrics import DistanceMetric\n",
    "from sklearn.metrics import RocCurveDisplay\n",
    "\n",
    "\n",
    "%matplotlib inline"
   ]
  },
  {
   "cell_type": "code",
   "execution_count": 3,
   "id": "8027cd25",
   "metadata": {
    "execution": {
     "iopub.execute_input": "2022-07-25T18:30:50.045418Z",
     "iopub.status.busy": "2022-07-25T18:30:50.044992Z",
     "iopub.status.idle": "2022-07-25T18:30:50.050098Z",
     "shell.execute_reply": "2022-07-25T18:30:50.049026Z"
    },
    "papermill": {
     "duration": 0.015025,
     "end_time": "2022-07-25T18:30:50.051933",
     "exception": false,
     "start_time": "2022-07-25T18:30:50.036908",
     "status": "completed"
    },
    "tags": []
   },
   "outputs": [],
   "source": [
    "DF_listA= list()"
   ]
  },
  {
   "cell_type": "code",
   "execution_count": 4,
   "id": "036a4aaa",
   "metadata": {
    "execution": {
     "iopub.execute_input": "2022-07-25T18:30:50.068370Z",
     "iopub.status.busy": "2022-07-25T18:30:50.067791Z",
     "iopub.status.idle": "2022-07-25T18:31:06.884388Z",
     "shell.execute_reply": "2022-07-25T18:31:06.883262Z"
    },
    "papermill": {
     "duration": 16.828313,
     "end_time": "2022-07-25T18:31:06.887357",
     "exception": false,
     "start_time": "2022-07-25T18:30:50.059044",
     "status": "completed"
    },
    "tags": []
   },
   "outputs": [],
   "source": [
    "#Task A\n",
    "for i in range (0, 30):\n",
    "    DF_listA.insert(i, pd.read_csv('../input/participantstaska/Participant'+str(i+1)+'.csv') )\n"
   ]
  },
  {
   "cell_type": "code",
   "execution_count": 5,
   "id": "1e7ec106",
   "metadata": {
    "execution": {
     "iopub.execute_input": "2022-07-25T18:31:06.911612Z",
     "iopub.status.busy": "2022-07-25T18:31:06.910340Z",
     "iopub.status.idle": "2022-07-25T18:31:06.916786Z",
     "shell.execute_reply": "2022-07-25T18:31:06.915698Z"
    },
    "papermill": {
     "duration": 0.021207,
     "end_time": "2022-07-25T18:31:06.919604",
     "exception": false,
     "start_time": "2022-07-25T18:31:06.898397",
     "status": "completed"
    },
    "tags": []
   },
   "outputs": [],
   "source": [
    "training_subjects = np.array([1, 4, 5, 7, 9, 10, 11, 14, 2, 16, 17, 19, 21, 22, 23, 24, 26, 27, 29, 30])\n",
    "validation_subjects = np.array([3, 6, 12, 20, 25])\n",
    "test_subjects = np.array([15,8,13,18,28])"
   ]
  },
  {
   "cell_type": "code",
   "execution_count": 6,
   "id": "058a4aca",
   "metadata": {
    "execution": {
     "iopub.execute_input": "2022-07-25T18:31:06.943653Z",
     "iopub.status.busy": "2022-07-25T18:31:06.943296Z",
     "iopub.status.idle": "2022-07-25T18:31:06.948221Z",
     "shell.execute_reply": "2022-07-25T18:31:06.947067Z"
    },
    "papermill": {
     "duration": 0.019564,
     "end_time": "2022-07-25T18:31:06.950400",
     "exception": false,
     "start_time": "2022-07-25T18:31:06.930836",
     "status": "completed"
    },
    "tags": []
   },
   "outputs": [],
   "source": [
    "DF_train = list()\n",
    "DF_validation = list()\n",
    "DF_test = list()\n",
    "k=0"
   ]
  },
  {
   "cell_type": "code",
   "execution_count": 7,
   "id": "da05f5aa",
   "metadata": {
    "execution": {
     "iopub.execute_input": "2022-07-25T18:31:06.975310Z",
     "iopub.status.busy": "2022-07-25T18:31:06.974913Z",
     "iopub.status.idle": "2022-07-25T18:31:06.983251Z",
     "shell.execute_reply": "2022-07-25T18:31:06.981663Z"
    },
    "papermill": {
     "duration": 0.024018,
     "end_time": "2022-07-25T18:31:06.985691",
     "exception": false,
     "start_time": "2022-07-25T18:31:06.961673",
     "status": "completed"
    },
    "tags": []
   },
   "outputs": [],
   "source": [
    "k=0\n",
    "\n",
    "for i in training_subjects:\n",
    "    DF_train.insert(k, DF_listA[i-1])\n",
    "    k=k+1\n",
    "    \n",
    "k=0\n",
    "for i in validation_subjects:\n",
    "    DF_validation.insert(k, DF_listA[i-1])\n",
    "    k=k+1\n",
    "    \n",
    "k=0\n",
    "for i in test_subjects:\n",
    "    DF_test.insert(k, DF_listA[i-1])\n",
    "    k=k+1"
   ]
  },
  {
   "cell_type": "code",
   "execution_count": 8,
   "id": "4115a990",
   "metadata": {
    "execution": {
     "iopub.execute_input": "2022-07-25T18:31:07.010509Z",
     "iopub.status.busy": "2022-07-25T18:31:07.010115Z",
     "iopub.status.idle": "2022-07-25T18:31:07.149807Z",
     "shell.execute_reply": "2022-07-25T18:31:07.148109Z"
    },
    "papermill": {
     "duration": 0.154743,
     "end_time": "2022-07-25T18:31:07.152532",
     "exception": false,
     "start_time": "2022-07-25T18:31:06.997789",
     "status": "completed"
    },
    "tags": []
   },
   "outputs": [],
   "source": [
    "trainData = pd.concat(DF_train, ignore_index=True)\n",
    "validData = pd.concat(DF_validation, ignore_index=True)\n",
    "testData = pd.concat (DF_test, ignore_index=True)\n",
    "\n",
    "X_train = trainData.drop(['event'], axis=1)\n",
    "y_train = pd.DataFrame(trainData.iloc[:,-1])\n",
    "\n",
    "X_valid = validData.drop(['event'], axis=1)\n",
    "y_valid = pd.DataFrame(validData.iloc[:,-1])\n",
    "\n",
    "X_test = testData.drop(['event'], axis=1)\n",
    "y_test = pd.DataFrame(testData.iloc[:,-1])"
   ]
  },
  {
   "cell_type": "code",
   "execution_count": 9,
   "id": "0ec1bb01",
   "metadata": {
    "execution": {
     "iopub.execute_input": "2022-07-25T18:31:07.168845Z",
     "iopub.status.busy": "2022-07-25T18:31:07.168461Z",
     "iopub.status.idle": "2022-07-25T18:31:07.221021Z",
     "shell.execute_reply": "2022-07-25T18:31:07.220107Z"
    },
    "papermill": {
     "duration": 0.06329,
     "end_time": "2022-07-25T18:31:07.222786",
     "exception": false,
     "start_time": "2022-07-25T18:31:07.159496",
     "status": "completed"
    },
    "tags": []
   },
   "outputs": [
    {
     "data": {
      "text/html": [
       "<div>\n",
       "<style scoped>\n",
       "    .dataframe tbody tr th:only-of-type {\n",
       "        vertical-align: middle;\n",
       "    }\n",
       "\n",
       "    .dataframe tbody tr th {\n",
       "        vertical-align: top;\n",
       "    }\n",
       "\n",
       "    .dataframe thead th {\n",
       "        text-align: right;\n",
       "    }\n",
       "</style>\n",
       "<table border=\"1\" class=\"dataframe\">\n",
       "  <thead>\n",
       "    <tr style=\"text-align: right;\">\n",
       "      <th></th>\n",
       "      <th>0_iav</th>\n",
       "      <th>0_aac</th>\n",
       "      <th>0_ar1</th>\n",
       "      <th>0_ar2</th>\n",
       "      <th>0_ar3</th>\n",
       "      <th>0_ar4</th>\n",
       "      <th>0_cc1</th>\n",
       "      <th>0_cc2</th>\n",
       "      <th>0_cc3</th>\n",
       "      <th>0_cc4</th>\n",
       "      <th>...</th>\n",
       "      <th>6_wl</th>\n",
       "      <th>6_mnf</th>\n",
       "      <th>6_mdf</th>\n",
       "      <th>6_pkf</th>\n",
       "      <th>6_mnp</th>\n",
       "      <th>6_ttp</th>\n",
       "      <th>6_vcf</th>\n",
       "      <th>6_psr</th>\n",
       "      <th>6_ohm</th>\n",
       "      <th>6_maxx</th>\n",
       "    </tr>\n",
       "  </thead>\n",
       "  <tbody>\n",
       "    <tr>\n",
       "      <th>0</th>\n",
       "      <td>0.000239</td>\n",
       "      <td>1.638807e-08</td>\n",
       "      <td>-0.792585</td>\n",
       "      <td>3.046877</td>\n",
       "      <td>-4.630699</td>\n",
       "      <td>3.376406</td>\n",
       "      <td>0.792585</td>\n",
       "      <td>-4.254332</td>\n",
       "      <td>-15.069834</td>\n",
       "      <td>72.946410</td>\n",
       "      <td>...</td>\n",
       "      <td>4.945138e-08</td>\n",
       "      <td>886.323611</td>\n",
       "      <td>1034.24</td>\n",
       "      <td>1034.24</td>\n",
       "      <td>9.515519e-19</td>\n",
       "      <td>2.388395e-16</td>\n",
       "      <td>95944.576112</td>\n",
       "      <td>95944.576112</td>\n",
       "      <td>1.059308</td>\n",
       "      <td>1.410458e-08</td>\n",
       "    </tr>\n",
       "    <tr>\n",
       "      <th>1</th>\n",
       "      <td>0.000238</td>\n",
       "      <td>1.670549e-08</td>\n",
       "      <td>-0.793107</td>\n",
       "      <td>3.050583</td>\n",
       "      <td>-4.634412</td>\n",
       "      <td>3.376935</td>\n",
       "      <td>0.793107</td>\n",
       "      <td>-4.260304</td>\n",
       "      <td>-15.109591</td>\n",
       "      <td>73.159224</td>\n",
       "      <td>...</td>\n",
       "      <td>-1.205618e-07</td>\n",
       "      <td>888.641711</td>\n",
       "      <td>1034.24</td>\n",
       "      <td>1034.24</td>\n",
       "      <td>9.559702e-19</td>\n",
       "      <td>2.399485e-16</td>\n",
       "      <td>94691.414013</td>\n",
       "      <td>94691.414013</td>\n",
       "      <td>1.058258</td>\n",
       "      <td>1.394538e-08</td>\n",
       "    </tr>\n",
       "    <tr>\n",
       "      <th>2</th>\n",
       "      <td>0.000281</td>\n",
       "      <td>2.506824e-07</td>\n",
       "      <td>0.323033</td>\n",
       "      <td>0.045824</td>\n",
       "      <td>-0.210550</td>\n",
       "      <td>0.538019</td>\n",
       "      <td>-0.323033</td>\n",
       "      <td>-0.038422</td>\n",
       "      <td>0.202461</td>\n",
       "      <td>-0.701410</td>\n",
       "      <td>...</td>\n",
       "      <td>-1.124187e-06</td>\n",
       "      <td>1155.245887</td>\n",
       "      <td>931.84</td>\n",
       "      <td>921.60</td>\n",
       "      <td>2.461759e-16</td>\n",
       "      <td>6.179016e-14</td>\n",
       "      <td>313782.431824</td>\n",
       "      <td>313782.431824</td>\n",
       "      <td>1.111357</td>\n",
       "      <td>1.382204e-08</td>\n",
       "    </tr>\n",
       "    <tr>\n",
       "      <th>3</th>\n",
       "      <td>0.000311</td>\n",
       "      <td>4.572766e-07</td>\n",
       "      <td>0.122728</td>\n",
       "      <td>0.126412</td>\n",
       "      <td>-0.278373</td>\n",
       "      <td>0.423509</td>\n",
       "      <td>-0.122728</td>\n",
       "      <td>-0.118655</td>\n",
       "      <td>0.245343</td>\n",
       "      <td>-0.579366</td>\n",
       "      <td>...</td>\n",
       "      <td>5.161915e-07</td>\n",
       "      <td>1002.328750</td>\n",
       "      <td>870.40</td>\n",
       "      <td>829.44</td>\n",
       "      <td>5.192087e-16</td>\n",
       "      <td>1.303214e-13</td>\n",
       "      <td>286343.037756</td>\n",
       "      <td>286343.037756</td>\n",
       "      <td>1.133585</td>\n",
       "      <td>1.653350e-08</td>\n",
       "    </tr>\n",
       "    <tr>\n",
       "      <th>4</th>\n",
       "      <td>0.000360</td>\n",
       "      <td>7.049527e-07</td>\n",
       "      <td>0.027009</td>\n",
       "      <td>-0.045968</td>\n",
       "      <td>-0.347643</td>\n",
       "      <td>0.309458</td>\n",
       "      <td>-0.027009</td>\n",
       "      <td>0.045347</td>\n",
       "      <td>0.363407</td>\n",
       "      <td>-0.478147</td>\n",
       "      <td>...</td>\n",
       "      <td>-3.383773e-06</td>\n",
       "      <td>970.723874</td>\n",
       "      <td>829.44</td>\n",
       "      <td>829.44</td>\n",
       "      <td>7.944146e-16</td>\n",
       "      <td>1.993981e-13</td>\n",
       "      <td>272824.385121</td>\n",
       "      <td>272824.385121</td>\n",
       "      <td>1.135574</td>\n",
       "      <td>3.522982e-08</td>\n",
       "    </tr>\n",
       "    <tr>\n",
       "      <th>...</th>\n",
       "      <td>...</td>\n",
       "      <td>...</td>\n",
       "      <td>...</td>\n",
       "      <td>...</td>\n",
       "      <td>...</td>\n",
       "      <td>...</td>\n",
       "      <td>...</td>\n",
       "      <td>...</td>\n",
       "      <td>...</td>\n",
       "      <td>...</td>\n",
       "      <td>...</td>\n",
       "      <td>...</td>\n",
       "      <td>...</td>\n",
       "      <td>...</td>\n",
       "      <td>...</td>\n",
       "      <td>...</td>\n",
       "      <td>...</td>\n",
       "      <td>...</td>\n",
       "      <td>...</td>\n",
       "      <td>...</td>\n",
       "      <td>...</td>\n",
       "    </tr>\n",
       "    <tr>\n",
       "      <th>82905</th>\n",
       "      <td>0.000504</td>\n",
       "      <td>1.184610e-06</td>\n",
       "      <td>-0.297024</td>\n",
       "      <td>0.056971</td>\n",
       "      <td>-0.411560</td>\n",
       "      <td>0.441620</td>\n",
       "      <td>0.297024</td>\n",
       "      <td>-0.065432</td>\n",
       "      <td>0.384630</td>\n",
       "      <td>-0.696410</td>\n",
       "      <td>...</td>\n",
       "      <td>9.424264e-08</td>\n",
       "      <td>1023.941779</td>\n",
       "      <td>808.96</td>\n",
       "      <td>665.60</td>\n",
       "      <td>7.869060e-16</td>\n",
       "      <td>1.975134e-13</td>\n",
       "      <td>284152.223524</td>\n",
       "      <td>284152.223524</td>\n",
       "      <td>1.127395</td>\n",
       "      <td>2.016640e-07</td>\n",
       "    </tr>\n",
       "    <tr>\n",
       "      <th>82906</th>\n",
       "      <td>0.000498</td>\n",
       "      <td>1.178461e-06</td>\n",
       "      <td>-0.305266</td>\n",
       "      <td>0.030499</td>\n",
       "      <td>-0.378019</td>\n",
       "      <td>0.416893</td>\n",
       "      <td>0.305266</td>\n",
       "      <td>-0.035154</td>\n",
       "      <td>0.364730</td>\n",
       "      <td>-0.644973</td>\n",
       "      <td>...</td>\n",
       "      <td>8.154012e-07</td>\n",
       "      <td>1040.448261</td>\n",
       "      <td>839.68</td>\n",
       "      <td>686.08</td>\n",
       "      <td>7.519051e-16</td>\n",
       "      <td>1.887282e-13</td>\n",
       "      <td>277509.642353</td>\n",
       "      <td>277509.642353</td>\n",
       "      <td>1.120871</td>\n",
       "      <td>2.099560e-07</td>\n",
       "    </tr>\n",
       "    <tr>\n",
       "      <th>82907</th>\n",
       "      <td>0.000499</td>\n",
       "      <td>1.175803e-06</td>\n",
       "      <td>-0.285564</td>\n",
       "      <td>0.032826</td>\n",
       "      <td>-0.416912</td>\n",
       "      <td>0.432850</td>\n",
       "      <td>0.285564</td>\n",
       "      <td>-0.037512</td>\n",
       "      <td>0.401273</td>\n",
       "      <td>-0.693386</td>\n",
       "      <td>...</td>\n",
       "      <td>9.710916e-07</td>\n",
       "      <td>1028.636803</td>\n",
       "      <td>819.20</td>\n",
       "      <td>655.36</td>\n",
       "      <td>7.231145e-16</td>\n",
       "      <td>1.815017e-13</td>\n",
       "      <td>275298.523356</td>\n",
       "      <td>275298.523356</td>\n",
       "      <td>1.122579</td>\n",
       "      <td>2.135731e-07</td>\n",
       "    </tr>\n",
       "    <tr>\n",
       "      <th>82908</th>\n",
       "      <td>0.000501</td>\n",
       "      <td>1.202677e-06</td>\n",
       "      <td>-0.224705</td>\n",
       "      <td>-0.049706</td>\n",
       "      <td>-0.336067</td>\n",
       "      <td>0.390123</td>\n",
       "      <td>0.224705</td>\n",
       "      <td>0.055291</td>\n",
       "      <td>0.354649</td>\n",
       "      <td>-0.597657</td>\n",
       "      <td>...</td>\n",
       "      <td>1.094896e-06</td>\n",
       "      <td>1073.117623</td>\n",
       "      <td>921.60</td>\n",
       "      <td>583.68</td>\n",
       "      <td>5.418681e-16</td>\n",
       "      <td>1.360089e-13</td>\n",
       "      <td>279936.187093</td>\n",
       "      <td>279936.187093</td>\n",
       "      <td>1.114939</td>\n",
       "      <td>1.448899e-07</td>\n",
       "    </tr>\n",
       "    <tr>\n",
       "      <th>82909</th>\n",
       "      <td>0.000489</td>\n",
       "      <td>1.174515e-06</td>\n",
       "      <td>-0.196698</td>\n",
       "      <td>-0.041954</td>\n",
       "      <td>-0.347760</td>\n",
       "      <td>0.349996</td>\n",
       "      <td>0.196698</td>\n",
       "      <td>0.046080</td>\n",
       "      <td>0.363784</td>\n",
       "      <td>-0.540981</td>\n",
       "      <td>...</td>\n",
       "      <td>-2.777547e-06</td>\n",
       "      <td>1028.661240</td>\n",
       "      <td>880.64</td>\n",
       "      <td>727.04</td>\n",
       "      <td>6.815127e-16</td>\n",
       "      <td>1.710597e-13</td>\n",
       "      <td>274076.876351</td>\n",
       "      <td>274076.876351</td>\n",
       "      <td>1.122059</td>\n",
       "      <td>1.560547e-07</td>\n",
       "    </tr>\n",
       "  </tbody>\n",
       "</table>\n",
       "<p>82910 rows × 238 columns</p>\n",
       "</div>"
      ],
      "text/plain": [
       "          0_iav         0_aac     0_ar1     0_ar2     0_ar3     0_ar4  \\\n",
       "0      0.000239  1.638807e-08 -0.792585  3.046877 -4.630699  3.376406   \n",
       "1      0.000238  1.670549e-08 -0.793107  3.050583 -4.634412  3.376935   \n",
       "2      0.000281  2.506824e-07  0.323033  0.045824 -0.210550  0.538019   \n",
       "3      0.000311  4.572766e-07  0.122728  0.126412 -0.278373  0.423509   \n",
       "4      0.000360  7.049527e-07  0.027009 -0.045968 -0.347643  0.309458   \n",
       "...         ...           ...       ...       ...       ...       ...   \n",
       "82905  0.000504  1.184610e-06 -0.297024  0.056971 -0.411560  0.441620   \n",
       "82906  0.000498  1.178461e-06 -0.305266  0.030499 -0.378019  0.416893   \n",
       "82907  0.000499  1.175803e-06 -0.285564  0.032826 -0.416912  0.432850   \n",
       "82908  0.000501  1.202677e-06 -0.224705 -0.049706 -0.336067  0.390123   \n",
       "82909  0.000489  1.174515e-06 -0.196698 -0.041954 -0.347760  0.349996   \n",
       "\n",
       "          0_cc1     0_cc2      0_cc3      0_cc4  ...          6_wl  \\\n",
       "0      0.792585 -4.254332 -15.069834  72.946410  ...  4.945138e-08   \n",
       "1      0.793107 -4.260304 -15.109591  73.159224  ... -1.205618e-07   \n",
       "2     -0.323033 -0.038422   0.202461  -0.701410  ... -1.124187e-06   \n",
       "3     -0.122728 -0.118655   0.245343  -0.579366  ...  5.161915e-07   \n",
       "4     -0.027009  0.045347   0.363407  -0.478147  ... -3.383773e-06   \n",
       "...         ...       ...        ...        ...  ...           ...   \n",
       "82905  0.297024 -0.065432   0.384630  -0.696410  ...  9.424264e-08   \n",
       "82906  0.305266 -0.035154   0.364730  -0.644973  ...  8.154012e-07   \n",
       "82907  0.285564 -0.037512   0.401273  -0.693386  ...  9.710916e-07   \n",
       "82908  0.224705  0.055291   0.354649  -0.597657  ...  1.094896e-06   \n",
       "82909  0.196698  0.046080   0.363784  -0.540981  ... -2.777547e-06   \n",
       "\n",
       "             6_mnf    6_mdf    6_pkf         6_mnp         6_ttp  \\\n",
       "0       886.323611  1034.24  1034.24  9.515519e-19  2.388395e-16   \n",
       "1       888.641711  1034.24  1034.24  9.559702e-19  2.399485e-16   \n",
       "2      1155.245887   931.84   921.60  2.461759e-16  6.179016e-14   \n",
       "3      1002.328750   870.40   829.44  5.192087e-16  1.303214e-13   \n",
       "4       970.723874   829.44   829.44  7.944146e-16  1.993981e-13   \n",
       "...            ...      ...      ...           ...           ...   \n",
       "82905  1023.941779   808.96   665.60  7.869060e-16  1.975134e-13   \n",
       "82906  1040.448261   839.68   686.08  7.519051e-16  1.887282e-13   \n",
       "82907  1028.636803   819.20   655.36  7.231145e-16  1.815017e-13   \n",
       "82908  1073.117623   921.60   583.68  5.418681e-16  1.360089e-13   \n",
       "82909  1028.661240   880.64   727.04  6.815127e-16  1.710597e-13   \n",
       "\n",
       "               6_vcf          6_psr     6_ohm        6_maxx  \n",
       "0       95944.576112   95944.576112  1.059308  1.410458e-08  \n",
       "1       94691.414013   94691.414013  1.058258  1.394538e-08  \n",
       "2      313782.431824  313782.431824  1.111357  1.382204e-08  \n",
       "3      286343.037756  286343.037756  1.133585  1.653350e-08  \n",
       "4      272824.385121  272824.385121  1.135574  3.522982e-08  \n",
       "...              ...            ...       ...           ...  \n",
       "82905  284152.223524  284152.223524  1.127395  2.016640e-07  \n",
       "82906  277509.642353  277509.642353  1.120871  2.099560e-07  \n",
       "82907  275298.523356  275298.523356  1.122579  2.135731e-07  \n",
       "82908  279936.187093  279936.187093  1.114939  1.448899e-07  \n",
       "82909  274076.876351  274076.876351  1.122059  1.560547e-07  \n",
       "\n",
       "[82910 rows x 238 columns]"
      ]
     },
     "execution_count": 9,
     "metadata": {},
     "output_type": "execute_result"
    }
   ],
   "source": [
    "X_train"
   ]
  },
  {
   "cell_type": "markdown",
   "id": "4b54a166",
   "metadata": {
    "papermill": {
     "duration": 0.006904,
     "end_time": "2022-07-25T18:31:07.237268",
     "exception": false,
     "start_time": "2022-07-25T18:31:07.230364",
     "status": "completed"
    },
    "tags": []
   },
   "source": [
    "# Standardization of the Data"
   ]
  },
  {
   "cell_type": "code",
   "execution_count": 10,
   "id": "c6a55f01",
   "metadata": {
    "execution": {
     "iopub.execute_input": "2022-07-25T18:31:07.253454Z",
     "iopub.status.busy": "2022-07-25T18:31:07.253127Z",
     "iopub.status.idle": "2022-07-25T18:31:07.256627Z",
     "shell.execute_reply": "2022-07-25T18:31:07.255781Z"
    },
    "papermill": {
     "duration": 0.014151,
     "end_time": "2022-07-25T18:31:07.258856",
     "exception": false,
     "start_time": "2022-07-25T18:31:07.244705",
     "status": "completed"
    },
    "tags": []
   },
   "outputs": [],
   "source": [
    "from sklearn.preprocessing import StandardScaler\n",
    "DF_listAstd = list()"
   ]
  },
  {
   "cell_type": "code",
   "execution_count": 11,
   "id": "c3d0851b",
   "metadata": {
    "execution": {
     "iopub.execute_input": "2022-07-25T18:31:07.283861Z",
     "iopub.status.busy": "2022-07-25T18:31:07.283486Z",
     "iopub.status.idle": "2022-07-25T18:31:07.378501Z",
     "shell.execute_reply": "2022-07-25T18:31:07.377484Z"
    },
    "papermill": {
     "duration": 0.110222,
     "end_time": "2022-07-25T18:31:07.380673",
     "exception": false,
     "start_time": "2022-07-25T18:31:07.270451",
     "status": "completed"
    },
    "tags": []
   },
   "outputs": [],
   "source": [
    "for i in range (0, 30):\n",
    "    DF_listAstd.insert (i, DF_listA[i].drop(['event'], axis=1))"
   ]
  },
  {
   "cell_type": "code",
   "execution_count": 12,
   "id": "584db88a",
   "metadata": {
    "execution": {
     "iopub.execute_input": "2022-07-25T18:31:07.405642Z",
     "iopub.status.busy": "2022-07-25T18:31:07.405269Z",
     "iopub.status.idle": "2022-07-25T18:31:07.410865Z",
     "shell.execute_reply": "2022-07-25T18:31:07.409259Z"
    },
    "papermill": {
     "duration": 0.021359,
     "end_time": "2022-07-25T18:31:07.413636",
     "exception": false,
     "start_time": "2022-07-25T18:31:07.392277",
     "status": "completed"
    },
    "tags": []
   },
   "outputs": [],
   "source": [
    "names= DF_listAstd[1].columns"
   ]
  },
  {
   "cell_type": "code",
   "execution_count": 13,
   "id": "ee595685",
   "metadata": {
    "execution": {
     "iopub.execute_input": "2022-07-25T18:31:07.430383Z",
     "iopub.status.busy": "2022-07-25T18:31:07.429964Z",
     "iopub.status.idle": "2022-07-25T18:31:07.935603Z",
     "shell.execute_reply": "2022-07-25T18:31:07.934250Z"
    },
    "papermill": {
     "duration": 0.517443,
     "end_time": "2022-07-25T18:31:07.938552",
     "exception": false,
     "start_time": "2022-07-25T18:31:07.421109",
     "status": "completed"
    },
    "tags": []
   },
   "outputs": [],
   "source": [
    "scale= StandardScaler()\n",
    "for i in range (0, 30):\n",
    "    DF_listAstd[i]=scale.fit_transform(DF_listAstd[i])\n",
    "    DF_listAstd[i]=pd.DataFrame(DF_listAstd[i], columns=names)"
   ]
  },
  {
   "cell_type": "code",
   "execution_count": 14,
   "id": "000c7aea",
   "metadata": {
    "execution": {
     "iopub.execute_input": "2022-07-25T18:31:07.963487Z",
     "iopub.status.busy": "2022-07-25T18:31:07.963081Z",
     "iopub.status.idle": "2022-07-25T18:31:07.969492Z",
     "shell.execute_reply": "2022-07-25T18:31:07.968181Z"
    },
    "papermill": {
     "duration": 0.022403,
     "end_time": "2022-07-25T18:31:07.972306",
     "exception": false,
     "start_time": "2022-07-25T18:31:07.949903",
     "status": "completed"
    },
    "tags": []
   },
   "outputs": [],
   "source": [
    "DF_train_std = list()\n",
    "DF_valid_std = list()\n",
    "DF_test_std = list()"
   ]
  },
  {
   "cell_type": "code",
   "execution_count": 15,
   "id": "0578c57f",
   "metadata": {
    "execution": {
     "iopub.execute_input": "2022-07-25T18:31:07.997929Z",
     "iopub.status.busy": "2022-07-25T18:31:07.997428Z",
     "iopub.status.idle": "2022-07-25T18:31:08.003880Z",
     "shell.execute_reply": "2022-07-25T18:31:08.002430Z"
    },
    "papermill": {
     "duration": 0.022391,
     "end_time": "2022-07-25T18:31:08.006853",
     "exception": false,
     "start_time": "2022-07-25T18:31:07.984462",
     "status": "completed"
    },
    "tags": []
   },
   "outputs": [],
   "source": [
    "k=0\n",
    "\n",
    "for i in training_subjects:\n",
    "    DF_train_std.insert(k, DF_listAstd[i-1])\n",
    "    k=k+1\n",
    "\n",
    "k=0\n",
    "    \n",
    "for i in validation_subjects:\n",
    "    DF_valid_std.insert(k, DF_listAstd[i-1])\n",
    "    k=k+1\n",
    "k=0\n",
    "\n",
    "for i in test_subjects:\n",
    "    DF_test_std.insert(k, DF_listAstd[i-1])\n",
    "    k=k+1"
   ]
  },
  {
   "cell_type": "code",
   "execution_count": 16,
   "id": "ba5819d2",
   "metadata": {
    "execution": {
     "iopub.execute_input": "2022-07-25T18:31:08.032016Z",
     "iopub.status.busy": "2022-07-25T18:31:08.031574Z",
     "iopub.status.idle": "2022-07-25T18:31:08.100645Z",
     "shell.execute_reply": "2022-07-25T18:31:08.099407Z"
    },
    "papermill": {
     "duration": 0.084328,
     "end_time": "2022-07-25T18:31:08.102813",
     "exception": false,
     "start_time": "2022-07-25T18:31:08.018485",
     "status": "completed"
    },
    "tags": []
   },
   "outputs": [],
   "source": [
    "X_train_std = pd.concat(DF_train_std, ignore_index=True)\n",
    "X_valid_std = pd.concat(DF_valid_std, ignore_index=True)\n",
    "X_test_std = pd.concat (DF_test_std, ignore_index=True)"
   ]
  },
  {
   "cell_type": "code",
   "execution_count": 17,
   "id": "5796cc37",
   "metadata": {
    "execution": {
     "iopub.execute_input": "2022-07-25T18:31:08.120539Z",
     "iopub.status.busy": "2022-07-25T18:31:08.119672Z",
     "iopub.status.idle": "2022-07-25T18:31:08.128769Z",
     "shell.execute_reply": "2022-07-25T18:31:08.126750Z"
    },
    "papermill": {
     "duration": 0.021435,
     "end_time": "2022-07-25T18:31:08.131418",
     "exception": false,
     "start_time": "2022-07-25T18:31:08.109983",
     "status": "completed"
    },
    "tags": []
   },
   "outputs": [],
   "source": [
    "X_train=X_train_std\n",
    "X_valid=X_valid_std\n",
    "X_test=X_test_std"
   ]
  },
  {
   "cell_type": "markdown",
   "id": "ea58a854",
   "metadata": {
    "papermill": {
     "duration": 0.007141,
     "end_time": "2022-07-25T18:31:08.146320",
     "exception": false,
     "start_time": "2022-07-25T18:31:08.139179",
     "status": "completed"
    },
    "tags": []
   },
   "source": [
    "# Oversampling"
   ]
  },
  {
   "cell_type": "code",
   "execution_count": 18,
   "id": "905b87bc",
   "metadata": {
    "execution": {
     "iopub.execute_input": "2022-07-25T18:31:08.164740Z",
     "iopub.status.busy": "2022-07-25T18:31:08.163208Z",
     "iopub.status.idle": "2022-07-25T18:31:08.330979Z",
     "shell.execute_reply": "2022-07-25T18:31:08.329425Z"
    },
    "papermill": {
     "duration": 0.180074,
     "end_time": "2022-07-25T18:31:08.333872",
     "exception": false,
     "start_time": "2022-07-25T18:31:08.153798",
     "status": "completed"
    },
    "tags": []
   },
   "outputs": [],
   "source": [
    "from imblearn.over_sampling import SMOTE"
   ]
  },
  {
   "cell_type": "code",
   "execution_count": 19,
   "id": "ba19102f",
   "metadata": {
    "execution": {
     "iopub.execute_input": "2022-07-25T18:31:08.361594Z",
     "iopub.status.busy": "2022-07-25T18:31:08.361225Z",
     "iopub.status.idle": "2022-07-25T18:31:08.366723Z",
     "shell.execute_reply": "2022-07-25T18:31:08.365690Z"
    },
    "papermill": {
     "duration": 0.02317,
     "end_time": "2022-07-25T18:31:08.369080",
     "exception": false,
     "start_time": "2022-07-25T18:31:08.345910",
     "status": "completed"
    },
    "tags": []
   },
   "outputs": [],
   "source": [
    "dict_os = {\n",
    "  \"eyebrow_raise\": 48834,\n",
    "  \"frown\": 44230,\n",
    "  \"neutral\": 51773 ,\n",
    "  \"smile\": 42374 ,\n",
    "  \"squeeze_eyes\": 43423 \n",
    "}"
   ]
  },
  {
   "cell_type": "code",
   "execution_count": 20,
   "id": "04974961",
   "metadata": {
    "execution": {
     "iopub.execute_input": "2022-07-25T18:31:08.395453Z",
     "iopub.status.busy": "2022-07-25T18:31:08.394279Z",
     "iopub.status.idle": "2022-07-25T18:31:08.399616Z",
     "shell.execute_reply": "2022-07-25T18:31:08.398478Z"
    },
    "papermill": {
     "duration": 0.020834,
     "end_time": "2022-07-25T18:31:08.401722",
     "exception": false,
     "start_time": "2022-07-25T18:31:08.380888",
     "status": "completed"
    },
    "tags": []
   },
   "outputs": [],
   "source": [
    "oversample = SMOTE(sampling_strategy=dict_os, k_neighbors=5)"
   ]
  },
  {
   "cell_type": "code",
   "execution_count": 21,
   "id": "43d6023c",
   "metadata": {
    "execution": {
     "iopub.execute_input": "2022-07-25T18:31:08.427101Z",
     "iopub.status.busy": "2022-07-25T18:31:08.426767Z",
     "iopub.status.idle": "2022-07-25T18:31:14.675121Z",
     "shell.execute_reply": "2022-07-25T18:31:14.673298Z"
    },
    "papermill": {
     "duration": 6.264109,
     "end_time": "2022-07-25T18:31:14.677804",
     "exception": false,
     "start_time": "2022-07-25T18:31:08.413695",
     "status": "completed"
    },
    "tags": []
   },
   "outputs": [],
   "source": [
    "X_train, y_train = oversample.fit_resample(X_train, y_train)\n"
   ]
  },
  {
   "cell_type": "code",
   "execution_count": 22,
   "id": "3516760d",
   "metadata": {
    "execution": {
     "iopub.execute_input": "2022-07-25T18:31:14.695916Z",
     "iopub.status.busy": "2022-07-25T18:31:14.695518Z",
     "iopub.status.idle": "2022-07-25T18:31:14.741529Z",
     "shell.execute_reply": "2022-07-25T18:31:14.740251Z"
    },
    "papermill": {
     "duration": 0.058386,
     "end_time": "2022-07-25T18:31:14.744358",
     "exception": false,
     "start_time": "2022-07-25T18:31:14.685972",
     "status": "completed"
    },
    "tags": []
   },
   "outputs": [
    {
     "data": {
      "text/plain": [
       "event        \n",
       "neutral          51773\n",
       "eyebrow_raise    48834\n",
       "frown            44230\n",
       "squeeze_eyes     43423\n",
       "smile            42374\n",
       "dtype: int64"
      ]
     },
     "execution_count": 22,
     "metadata": {},
     "output_type": "execute_result"
    }
   ],
   "source": [
    "y_train.value_counts()\n"
   ]
  },
  {
   "cell_type": "markdown",
   "id": "a59fa3c0",
   "metadata": {
    "papermill": {
     "duration": 0.01143,
     "end_time": "2022-07-25T18:31:14.767709",
     "exception": false,
     "start_time": "2022-07-25T18:31:14.756279",
     "status": "completed"
    },
    "tags": []
   },
   "source": [
    "# Hyperparameter Optimization"
   ]
  },
  {
   "cell_type": "code",
   "execution_count": 23,
   "id": "d7a9f8ef",
   "metadata": {
    "execution": {
     "iopub.execute_input": "2022-07-25T18:31:14.792885Z",
     "iopub.status.busy": "2022-07-25T18:31:14.792504Z",
     "iopub.status.idle": "2022-07-25T18:31:14.797091Z",
     "shell.execute_reply": "2022-07-25T18:31:14.796343Z"
    },
    "papermill": {
     "duration": 0.019301,
     "end_time": "2022-07-25T18:31:14.799045",
     "exception": false,
     "start_time": "2022-07-25T18:31:14.779744",
     "status": "completed"
    },
    "tags": []
   },
   "outputs": [],
   "source": [
    "from sklearn.model_selection import RandomizedSearchCV\n",
    "from sklearn.metrics import accuracy_score"
   ]
  },
  {
   "cell_type": "code",
   "execution_count": 24,
   "id": "fea8534a",
   "metadata": {
    "execution": {
     "iopub.execute_input": "2022-07-25T18:31:14.825110Z",
     "iopub.status.busy": "2022-07-25T18:31:14.824560Z",
     "iopub.status.idle": "2022-07-25T18:31:14.830296Z",
     "shell.execute_reply": "2022-07-25T18:31:14.829036Z"
    },
    "papermill": {
     "duration": 0.021523,
     "end_time": "2022-07-25T18:31:14.832660",
     "exception": false,
     "start_time": "2022-07-25T18:31:14.811137",
     "status": "completed"
    },
    "tags": []
   },
   "outputs": [],
   "source": [
    "params = {'bootstrap': [True, False],\n",
    " 'max_depth': [5, 10, 15, 30, None],\n",
    " 'max_features': ['auto', 'sqrt'],\n",
    " 'min_samples_leaf': [1, 2, 4],\n",
    " 'min_samples_split': [2, 5, 10],\n",
    " 'n_estimators': [75, 150, 200, 300, 400]}"
   ]
  },
  {
   "cell_type": "code",
   "execution_count": 25,
   "id": "44ae778d",
   "metadata": {
    "execution": {
     "iopub.execute_input": "2022-07-25T18:31:14.857996Z",
     "iopub.status.busy": "2022-07-25T18:31:14.857656Z",
     "iopub.status.idle": "2022-07-25T18:31:14.862623Z",
     "shell.execute_reply": "2022-07-25T18:31:14.861269Z"
    },
    "papermill": {
     "duration": 0.020371,
     "end_time": "2022-07-25T18:31:14.864943",
     "exception": false,
     "start_time": "2022-07-25T18:31:14.844572",
     "status": "completed"
    },
    "tags": []
   },
   "outputs": [],
   "source": [
    "clf_rf=RandomForestClassifier()"
   ]
  },
  {
   "cell_type": "code",
   "execution_count": 26,
   "id": "6442a25e",
   "metadata": {
    "execution": {
     "iopub.execute_input": "2022-07-25T18:31:14.891689Z",
     "iopub.status.busy": "2022-07-25T18:31:14.891315Z",
     "iopub.status.idle": "2022-07-25T18:31:14.897749Z",
     "shell.execute_reply": "2022-07-25T18:31:14.896480Z"
    },
    "papermill": {
     "duration": 0.022277,
     "end_time": "2022-07-25T18:31:14.900022",
     "exception": false,
     "start_time": "2022-07-25T18:31:14.877745",
     "status": "completed"
    },
    "tags": []
   },
   "outputs": [],
   "source": [
    "rs_model=RandomizedSearchCV(estimator=clf_rf, param_distributions=params,n_iter=5,scoring='accuracy',n_jobs=-1,cv=3,verbose=3, random_state=42)"
   ]
  },
  {
   "cell_type": "code",
   "execution_count": 27,
   "id": "0a314ed6",
   "metadata": {
    "execution": {
     "iopub.execute_input": "2022-07-25T18:31:14.926624Z",
     "iopub.status.busy": "2022-07-25T18:31:14.926234Z",
     "iopub.status.idle": "2022-07-25T19:19:34.255798Z",
     "shell.execute_reply": "2022-07-25T19:19:34.253481Z"
    },
    "papermill": {
     "duration": 2899.361584,
     "end_time": "2022-07-25T19:19:34.273990",
     "exception": false,
     "start_time": "2022-07-25T18:31:14.912406",
     "status": "completed"
    },
    "tags": []
   },
   "outputs": [
    {
     "name": "stdout",
     "output_type": "stream",
     "text": [
      "Fitting 3 folds for each of 5 candidates, totalling 15 fits\n",
      "[CV 3/3] END bootstrap=True, max_depth=10, max_features=auto, min_samples_leaf=1, min_samples_split=10, n_estimators=200;, score=0.822 total time=10.5min\n",
      "[CV 2/3] END bootstrap=False, max_depth=None, max_features=sqrt, min_samples_leaf=1, min_samples_split=5, n_estimators=75;, score=0.831 total time=11.8min\n",
      "[CV 3/3] END bootstrap=True, max_depth=30, max_features=auto, min_samples_leaf=1, min_samples_split=2, n_estimators=75;, score=0.800 total time= 7.1min\n"
     ]
    },
    {
     "name": "stderr",
     "output_type": "stream",
     "text": [
      "/opt/conda/lib/python3.7/site-packages/sklearn/model_selection/_validation.py:680: DataConversionWarning: A column-vector y was passed when a 1d array was expected. Please change the shape of y to (n_samples,), for example using ravel().\n",
      "  estimator.fit(X_train, y_train, **fit_params)\n",
      "/opt/conda/lib/python3.7/site-packages/sklearn/model_selection/_validation.py:680: DataConversionWarning: A column-vector y was passed when a 1d array was expected. Please change the shape of y to (n_samples,), for example using ravel().\n",
      "  estimator.fit(X_train, y_train, **fit_params)\n",
      "/opt/conda/lib/python3.7/site-packages/sklearn/model_selection/_validation.py:680: DataConversionWarning: A column-vector y was passed when a 1d array was expected. Please change the shape of y to (n_samples,), for example using ravel().\n",
      "  estimator.fit(X_train, y_train, **fit_params)\n",
      "/opt/conda/lib/python3.7/site-packages/sklearn/model_selection/_search.py:926: DataConversionWarning: A column-vector y was passed when a 1d array was expected. Please change the shape of y to (n_samples,), for example using ravel().\n",
      "  self.best_estimator_.fit(X, y, **fit_params)\n",
      "/opt/conda/lib/python3.7/site-packages/sklearn/model_selection/_validation.py:680: DataConversionWarning: A column-vector y was passed when a 1d array was expected. Please change the shape of y to (n_samples,), for example using ravel().\n",
      "  estimator.fit(X_train, y_train, **fit_params)\n",
      "/opt/conda/lib/python3.7/site-packages/sklearn/model_selection/_validation.py:680: DataConversionWarning: A column-vector y was passed when a 1d array was expected. Please change the shape of y to (n_samples,), for example using ravel().\n",
      "  estimator.fit(X_train, y_train, **fit_params)\n",
      "/opt/conda/lib/python3.7/site-packages/sklearn/model_selection/_validation.py:680: DataConversionWarning: A column-vector y was passed when a 1d array was expected. Please change the shape of y to (n_samples,), for example using ravel().\n",
      "  estimator.fit(X_train, y_train, **fit_params)\n",
      "/opt/conda/lib/python3.7/site-packages/sklearn/model_selection/_validation.py:680: DataConversionWarning: A column-vector y was passed when a 1d array was expected. Please change the shape of y to (n_samples,), for example using ravel().\n",
      "  estimator.fit(X_train, y_train, **fit_params)\n"
     ]
    },
    {
     "name": "stdout",
     "output_type": "stream",
     "text": [
      "[CV 2/3] END bootstrap=True, max_depth=10, max_features=auto, min_samples_leaf=1, min_samples_split=10, n_estimators=200;, score=0.868 total time=10.1min\n",
      "[CV 3/3] END bootstrap=True, max_depth=None, max_features=sqrt, min_samples_leaf=4, min_samples_split=2, n_estimators=75;, score=0.798 total time= 7.0min\n",
      "[CV 1/3] END bootstrap=True, max_depth=30, max_features=auto, min_samples_leaf=1, min_samples_split=2, n_estimators=75;, score=0.820 total time= 7.0min\n",
      "[CV 1/3] END bootstrap=True, max_depth=10, max_features=auto, min_samples_leaf=2, min_samples_split=2, n_estimators=150;, score=0.871 total time= 7.7min\n",
      "[CV 1/3] END bootstrap=True, max_depth=None, max_features=sqrt, min_samples_leaf=4, min_samples_split=2, n_estimators=75;, score=0.824 total time= 7.3min\n",
      "[CV 2/3] END bootstrap=True, max_depth=None, max_features=sqrt, min_samples_leaf=4, min_samples_split=2, n_estimators=75;, score=0.847 total time= 6.7min\n",
      "[CV 3/3] END bootstrap=False, max_depth=None, max_features=sqrt, min_samples_leaf=1, min_samples_split=5, n_estimators=75;, score=0.800 total time=12.0min\n",
      "[CV 2/3] END bootstrap=True, max_depth=10, max_features=auto, min_samples_leaf=2, min_samples_split=2, n_estimators=150;, score=0.865 total time= 7.2min\n"
     ]
    },
    {
     "name": "stderr",
     "output_type": "stream",
     "text": [
      "/opt/conda/lib/python3.7/site-packages/sklearn/model_selection/_validation.py:680: DataConversionWarning: A column-vector y was passed when a 1d array was expected. Please change the shape of y to (n_samples,), for example using ravel().\n",
      "  estimator.fit(X_train, y_train, **fit_params)\n",
      "/opt/conda/lib/python3.7/site-packages/sklearn/model_selection/_validation.py:680: DataConversionWarning: A column-vector y was passed when a 1d array was expected. Please change the shape of y to (n_samples,), for example using ravel().\n",
      "  estimator.fit(X_train, y_train, **fit_params)\n",
      "/opt/conda/lib/python3.7/site-packages/sklearn/model_selection/_validation.py:680: DataConversionWarning: A column-vector y was passed when a 1d array was expected. Please change the shape of y to (n_samples,), for example using ravel().\n",
      "  estimator.fit(X_train, y_train, **fit_params)\n",
      "/opt/conda/lib/python3.7/site-packages/sklearn/model_selection/_validation.py:680: DataConversionWarning: A column-vector y was passed when a 1d array was expected. Please change the shape of y to (n_samples,), for example using ravel().\n",
      "  estimator.fit(X_train, y_train, **fit_params)\n",
      "/opt/conda/lib/python3.7/site-packages/sklearn/model_selection/_validation.py:680: DataConversionWarning: A column-vector y was passed when a 1d array was expected. Please change the shape of y to (n_samples,), for example using ravel().\n",
      "  estimator.fit(X_train, y_train, **fit_params)\n",
      "/opt/conda/lib/python3.7/site-packages/sklearn/model_selection/_validation.py:680: DataConversionWarning: A column-vector y was passed when a 1d array was expected. Please change the shape of y to (n_samples,), for example using ravel().\n",
      "  estimator.fit(X_train, y_train, **fit_params)\n",
      "/opt/conda/lib/python3.7/site-packages/sklearn/model_selection/_validation.py:680: DataConversionWarning: A column-vector y was passed when a 1d array was expected. Please change the shape of y to (n_samples,), for example using ravel().\n",
      "  estimator.fit(X_train, y_train, **fit_params)\n",
      "/opt/conda/lib/python3.7/site-packages/sklearn/model_selection/_validation.py:680: DataConversionWarning: A column-vector y was passed when a 1d array was expected. Please change the shape of y to (n_samples,), for example using ravel().\n",
      "  estimator.fit(X_train, y_train, **fit_params)\n"
     ]
    },
    {
     "name": "stdout",
     "output_type": "stream",
     "text": [
      "[CV 1/3] END bootstrap=True, max_depth=10, max_features=auto, min_samples_leaf=1, min_samples_split=10, n_estimators=200;, score=0.869 total time=10.3min\n",
      "[CV 1/3] END bootstrap=False, max_depth=None, max_features=sqrt, min_samples_leaf=1, min_samples_split=5, n_estimators=75;, score=0.817 total time=11.2min\n",
      "[CV 2/3] END bootstrap=True, max_depth=30, max_features=auto, min_samples_leaf=1, min_samples_split=2, n_estimators=75;, score=0.840 total time= 6.7min\n",
      "[CV 3/3] END bootstrap=True, max_depth=10, max_features=auto, min_samples_leaf=2, min_samples_split=2, n_estimators=150;, score=0.823 total time= 6.6min\n"
     ]
    },
    {
     "data": {
      "text/plain": [
       "RandomizedSearchCV(cv=3, estimator=RandomForestClassifier(), n_iter=5,\n",
       "                   n_jobs=-1,\n",
       "                   param_distributions={'bootstrap': [True, False],\n",
       "                                        'max_depth': [5, 10, 15, 30, None],\n",
       "                                        'max_features': ['auto', 'sqrt'],\n",
       "                                        'min_samples_leaf': [1, 2, 4],\n",
       "                                        'min_samples_split': [2, 5, 10],\n",
       "                                        'n_estimators': [75, 150, 200, 300,\n",
       "                                                         400]},\n",
       "                   random_state=42, scoring='accuracy', verbose=3)"
      ]
     },
     "execution_count": 27,
     "metadata": {},
     "output_type": "execute_result"
    }
   ],
   "source": [
    "rs_model.fit(X_train, y_train)"
   ]
  },
  {
   "cell_type": "code",
   "execution_count": 28,
   "id": "ccff6a32",
   "metadata": {
    "execution": {
     "iopub.execute_input": "2022-07-25T19:19:34.302286Z",
     "iopub.status.busy": "2022-07-25T19:19:34.301880Z",
     "iopub.status.idle": "2022-07-25T19:19:34.311114Z",
     "shell.execute_reply": "2022-07-25T19:19:34.309923Z"
    },
    "papermill": {
     "duration": 0.027596,
     "end_time": "2022-07-25T19:19:34.314452",
     "exception": false,
     "start_time": "2022-07-25T19:19:34.286856",
     "status": "completed"
    },
    "tags": []
   },
   "outputs": [
    {
     "data": {
      "text/plain": [
       "RandomForestClassifier(max_depth=10, min_samples_split=10, n_estimators=200)"
      ]
     },
     "execution_count": 28,
     "metadata": {},
     "output_type": "execute_result"
    }
   ],
   "source": [
    "rs_model.best_estimator_"
   ]
  },
  {
   "cell_type": "code",
   "execution_count": 29,
   "id": "e5e32491",
   "metadata": {
    "execution": {
     "iopub.execute_input": "2022-07-25T19:19:34.343284Z",
     "iopub.status.busy": "2022-07-25T19:19:34.342867Z",
     "iopub.status.idle": "2022-07-25T19:19:35.814505Z",
     "shell.execute_reply": "2022-07-25T19:19:35.813365Z"
    },
    "papermill": {
     "duration": 1.488961,
     "end_time": "2022-07-25T19:19:35.817070",
     "exception": false,
     "start_time": "2022-07-25T19:19:34.328109",
     "status": "completed"
    },
    "tags": []
   },
   "outputs": [
    {
     "name": "stdout",
     "output_type": "stream",
     "text": [
      "Accuracy: 81.87340479836651 %\n",
      "F1-Score: 0.7369123922844345\n"
     ]
    }
   ],
   "source": [
    "y_pred_rf = rs_model.best_estimator_.predict(X_valid)\n",
    "score_rf = rs_model.best_estimator_.score(X_valid, y_valid)\n",
    "f1_rf = f1_score(y_valid, y_pred_rf, average='macro')\n",
    "print ('Accuracy: '+str(score_rf*100)+' %')\n",
    "print ('F1-Score: '+str(f1_rf))"
   ]
  },
  {
   "cell_type": "code",
   "execution_count": 30,
   "id": "7bed8dbe",
   "metadata": {
    "execution": {
     "iopub.execute_input": "2022-07-25T19:19:35.847023Z",
     "iopub.status.busy": "2022-07-25T19:19:35.846696Z",
     "iopub.status.idle": "2022-07-25T19:19:36.981801Z",
     "shell.execute_reply": "2022-07-25T19:19:36.980657Z"
    },
    "papermill": {
     "duration": 1.152849,
     "end_time": "2022-07-25T19:19:36.984438",
     "exception": false,
     "start_time": "2022-07-25T19:19:35.831589",
     "status": "completed"
    },
    "tags": []
   },
   "outputs": [
    {
     "name": "stderr",
     "output_type": "stream",
     "text": [
      "/opt/conda/lib/python3.7/site-packages/sklearn/utils/deprecation.py:87: FutureWarning: Function plot_confusion_matrix is deprecated; Function `plot_confusion_matrix` is deprecated in 1.0 and will be removed in 1.2. Use one of the class methods: ConfusionMatrixDisplay.from_predictions or ConfusionMatrixDisplay.from_estimator.\n",
      "  warnings.warn(msg, category=FutureWarning)\n"
     ]
    },
    {
     "data": {
      "text/plain": [
       "<sklearn.metrics._plot.confusion_matrix.ConfusionMatrixDisplay at 0x7f4c04a5ddd0>"
      ]
     },
     "execution_count": 30,
     "metadata": {},
     "output_type": "execute_result"
    },
    {
     "data": {
      "image/png": "[encoded data removed]",
      "text/plain": [
       "<Figure size 432x288 with 2 Axes>"
      ]
     },
     "metadata": {
      "needs_background": "light"
     },
     "output_type": "display_data"
    }
   ],
   "source": [
    "plot_confusion_matrix(estimator=rs_model.best_estimator_, X=X_valid, y_true=y_valid,\n",
    "                      normalize='true', cmap='Blues')"
   ]
  },
  {
   "cell_type": "code",
   "execution_count": 31,
   "id": "e5df4106",
   "metadata": {
    "execution": {
     "iopub.execute_input": "2022-07-25T19:19:37.014564Z",
     "iopub.status.busy": "2022-07-25T19:19:37.014245Z",
     "iopub.status.idle": "2022-07-25T19:19:38.080214Z",
     "shell.execute_reply": "2022-07-25T19:19:38.077988Z"
    },
    "papermill": {
     "duration": 1.084695,
     "end_time": "2022-07-25T19:19:38.083228",
     "exception": false,
     "start_time": "2022-07-25T19:19:36.998533",
     "status": "completed"
    },
    "tags": []
   },
   "outputs": [
    {
     "name": "stdout",
     "output_type": "stream",
     "text": [
      "Accuracy: 86.97900665642602 %\n",
      "F1-Score: 0.8293278461795506\n"
     ]
    }
   ],
   "source": [
    "y_pred_rf = rs_model.best_estimator_.predict(X_test)\n",
    "score_rf = rs_model.best_estimator_.score(X_test, y_test)\n",
    "f1_rf = f1_score(y_test, y_pred_rf, average='macro')\n",
    "print ('Accuracy: '+str(score_rf*100)+' %')\n",
    "print ('F1-Score: '+str(f1_rf))"
   ]
  },
  {
   "cell_type": "code",
   "execution_count": 32,
   "id": "b30b9b6a",
   "metadata": {
    "execution": {
     "iopub.execute_input": "2022-07-25T19:19:38.114103Z",
     "iopub.status.busy": "2022-07-25T19:19:38.113687Z",
     "iopub.status.idle": "2022-07-25T19:19:39.182878Z",
     "shell.execute_reply": "2022-07-25T19:19:39.181140Z"
    },
    "papermill": {
     "duration": 1.087567,
     "end_time": "2022-07-25T19:19:39.185281",
     "exception": false,
     "start_time": "2022-07-25T19:19:38.097714",
     "status": "completed"
    },
    "tags": []
   },
   "outputs": [
    {
     "name": "stderr",
     "output_type": "stream",
     "text": [
      "/opt/conda/lib/python3.7/site-packages/sklearn/utils/deprecation.py:87: FutureWarning: Function plot_confusion_matrix is deprecated; Function `plot_confusion_matrix` is deprecated in 1.0 and will be removed in 1.2. Use one of the class methods: ConfusionMatrixDisplay.from_predictions or ConfusionMatrixDisplay.from_estimator.\n",
      "  warnings.warn(msg, category=FutureWarning)\n"
     ]
    },
    {
     "data": {
      "text/plain": [
       "<sklearn.metrics._plot.confusion_matrix.ConfusionMatrixDisplay at 0x7f4c04a8ef10>"
      ]
     },
     "execution_count": 32,
     "metadata": {},
     "output_type": "execute_result"
    },
    {
     "data": {
      "image/png": "[encoded data removed]",
      "text/plain": [
       "<Figure size 432x288 with 2 Axes>"
      ]
     },
     "metadata": {
      "needs_background": "light"
     },
     "output_type": "display_data"
    }
   ],
   "source": [
    "plot_confusion_matrix(estimator=rs_model.best_estimator_, X=X_test, y_true=y_test,\n",
    "                      normalize='true', cmap='Blues')"
   ]
  }
 ],
 "metadata": {
  "kernelspec": {
   "display_name": "Python 3",
   "language": "python",
   "name": "python3"
  },
  "language_info": {
   "codemirror_mode": {
    "name": "ipython",
    "version": 3
   },
   "file_extension": ".py",
   "mimetype": "text/x-python",
   "name": "python",
   "nbconvert_exporter": "python",
   "pygments_lexer": "ipython3",
   "version": "3.7.12"
  },
  "papermill": {
   "default_parameters": {},
   "duration": 2946.088051,
   "end_time": "2022-07-25T19:19:41.831158",
   "environment_variables": {},
   "exception": null,
   "input_path": "__notebook__.ipynb",
   "output_path": "__notebook__.ipynb",
   "parameters": {},
   "start_time": "2022-07-25T18:30:35.743107",
   "version": "2.3.4"
  }
 },
 "nbformat": 4,
 "nbformat_minor": 5
}
