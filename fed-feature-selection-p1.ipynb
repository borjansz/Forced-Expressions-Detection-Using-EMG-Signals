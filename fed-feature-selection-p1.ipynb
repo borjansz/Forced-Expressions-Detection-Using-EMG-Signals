{
 "cells": [
  {
   "cell_type": "code",
   "execution_count": 1,
   "id": "92cb1f18",
   "metadata": {
    "_cell_guid": "b1076dfc-b9ad-4769-8c92-a6c4dae69d19",
    "_uuid": "8f2839f25d086af736a60e9eeb907d3b93b6e0e5",
    "execution": {
     "iopub.execute_input": "2022-07-29T14:23:50.201000Z",
     "iopub.status.busy": "2022-07-29T14:23:50.199356Z",
     "iopub.status.idle": "2022-07-29T14:23:50.231453Z",
     "shell.execute_reply": "2022-07-29T14:23:50.230246Z"
    },
    "papermill": {
     "duration": 0.049741,
     "end_time": "2022-07-29T14:23:50.235558",
     "exception": false,
     "start_time": "2022-07-29T14:23:50.185817",
     "status": "completed"
    },
    "tags": []
   },
   "outputs": [
    {
     "name": "stdout",
     "output_type": "stream",
     "text": [
      "/kaggle/input/participantstaskb/Participant2.csv\n",
      "/kaggle/input/participantstaskb/Participant17.csv\n",
      "/kaggle/input/participantstaskb/Participant22.csv\n",
      "/kaggle/input/participantstaskb/Participant18.csv\n",
      "/kaggle/input/participantstaskb/Participant5.csv\n",
      "/kaggle/input/participantstaskb/Participant3.csv\n",
      "/kaggle/input/participantstaskb/Participant25.csv\n",
      "/kaggle/input/participantstaskb/Participant4.csv\n",
      "/kaggle/input/participantstaskb/Participant7.csv\n",
      "/kaggle/input/participantstaskb/Participant15.csv\n",
      "/kaggle/input/participantstaskb/Participant9.csv\n",
      "/kaggle/input/participantstaskb/Participant14.csv\n",
      "/kaggle/input/participantstaskb/Participant30.csv\n",
      "/kaggle/input/participantstaskb/Participant20.csv\n",
      "/kaggle/input/participantstaskb/Participant10.csv\n",
      "/kaggle/input/participantstaskb/Participant27.csv\n",
      "/kaggle/input/participantstaskb/Participant13.csv\n",
      "/kaggle/input/participantstaskb/Participant1.csv\n",
      "/kaggle/input/participantstaskb/Participant29.csv\n",
      "/kaggle/input/participantstaskb/Participant19.csv\n",
      "/kaggle/input/participantstaskb/Participant23.csv\n",
      "/kaggle/input/participantstaskb/Participant6.csv\n",
      "/kaggle/input/participantstaskb/Participant24.csv\n",
      "/kaggle/input/participantstaskb/Participant21.csv\n",
      "/kaggle/input/participantstaskb/Participant8.csv\n",
      "/kaggle/input/participantstaskb/Participant16.csv\n",
      "/kaggle/input/participantstaskb/Participant26.csv\n",
      "/kaggle/input/participantstaskb/Participant12.csv\n",
      "/kaggle/input/participantstaskb/Participant11.csv\n",
      "/kaggle/input/participantstaskb/Participant28.csv\n",
      "/kaggle/input/participantstaska/Participant2.csv\n",
      "/kaggle/input/participantstaska/Participant17.csv\n",
      "/kaggle/input/participantstaska/Participant22.csv\n",
      "/kaggle/input/participantstaska/Participant18.csv\n",
      "/kaggle/input/participantstaska/Participant5.csv\n",
      "/kaggle/input/participantstaska/Participant3.csv\n",
      "/kaggle/input/participantstaska/Participant25.csv\n",
      "/kaggle/input/participantstaska/Participant4.csv\n",
      "/kaggle/input/participantstaska/Participant7.csv\n",
      "/kaggle/input/participantstaska/Participant15.csv\n",
      "/kaggle/input/participantstaska/Participant9.csv\n",
      "/kaggle/input/participantstaska/Participant14.csv\n",
      "/kaggle/input/participantstaska/Participant30.csv\n",
      "/kaggle/input/participantstaska/Participant20.csv\n",
      "/kaggle/input/participantstaska/Participant10.csv\n",
      "/kaggle/input/participantstaska/Participant27.csv\n",
      "/kaggle/input/participantstaska/Participant13.csv\n",
      "/kaggle/input/participantstaska/Participant1.csv\n",
      "/kaggle/input/participantstaska/Participant29.csv\n",
      "/kaggle/input/participantstaska/Participant19.csv\n",
      "/kaggle/input/participantstaska/Participant23.csv\n",
      "/kaggle/input/participantstaska/Participant6.csv\n",
      "/kaggle/input/participantstaska/Participant24.csv\n",
      "/kaggle/input/participantstaska/Participant21.csv\n",
      "/kaggle/input/participantstaska/Participant8.csv\n",
      "/kaggle/input/participantstaska/Participant16.csv\n",
      "/kaggle/input/participantstaska/Participant26.csv\n",
      "/kaggle/input/participantstaska/Participant12.csv\n",
      "/kaggle/input/participantstaska/Participant11.csv\n",
      "/kaggle/input/participantstaska/Participant28.csv\n"
     ]
    }
   ],
   "source": [
    "# This Python 3 environment comes with many helpful analytics libraries installed\n",
    "# It is defined by the kaggle/python Docker image: https://github.com/kaggle/docker-python\n",
    "# For example, here's several helpful packages to load\n",
    "\n",
    "import numpy as np # linear algebra\n",
    "import pandas as pd # data processing, CSV file I/O (e.g. pd.read_csv)\n",
    "\n",
    "# Input data files are available in the read-only \"../input/\" directory\n",
    "# For example, running this (by clicking run or pressing Shift+Enter) will list all files under the input directory\n",
    "\n",
    "import os\n",
    "for dirname, _, filenames in os.walk('/kaggle/input'):\n",
    "    for filename in filenames:\n",
    "        print(os.path.join(dirname, filename))\n",
    "\n",
    "# You can write up to 20GB to the current directory (/kaggle/working/) that gets preserved as output when you create a version using \"Save & Run All\" \n",
    "# You can also write temporary files to /kaggle/temp/, but they won't be saved outside of the current session"
   ]
  },
  {
   "cell_type": "code",
   "execution_count": 2,
   "id": "dd91153d",
   "metadata": {
    "execution": {
     "iopub.execute_input": "2022-07-29T14:23:50.260145Z",
     "iopub.status.busy": "2022-07-29T14:23:50.259304Z",
     "iopub.status.idle": "2022-07-29T14:23:52.209580Z",
     "shell.execute_reply": "2022-07-29T14:23:52.208457Z"
    },
    "papermill": {
     "duration": 1.966346,
     "end_time": "2022-07-29T14:23:52.213156",
     "exception": false,
     "start_time": "2022-07-29T14:23:50.246810",
     "status": "completed"
    },
    "tags": []
   },
   "outputs": [],
   "source": [
    "import matplotlib.pyplot as plt\n",
    "import numpy as np\n",
    "import pandas as pd\n",
    "import seaborn as sns\n",
    "from sklearn.model_selection import train_test_split\n",
    "from sklearn import tree\n",
    "\n",
    "from sklearn.feature_selection import SelectKBest\n",
    "from sklearn.feature_selection import f_classif\n",
    "from numpy import set_printoptions\n",
    "\n",
    "from sklearn.dummy import DummyClassifier\n",
    "from sklearn.metrics import f1_score\n",
    "from sklearn.metrics import plot_confusion_matrix\n",
    "\n",
    "from sklearn.ensemble import RandomForestClassifier\n",
    "\n",
    "from xgboost import XGBClassifier\n",
    "from sklearn.model_selection import cross_val_score\n",
    "from sklearn.preprocessing import LabelEncoder\n",
    "from sklearn.metrics import accuracy_score\n",
    "\n",
    "from sklearn.neighbors import KNeighborsClassifier\n",
    "from sklearn.metrics import DistanceMetric\n",
    "from sklearn.metrics import RocCurveDisplay\n",
    "\n",
    "\n",
    "%matplotlib inline"
   ]
  },
  {
   "cell_type": "code",
   "execution_count": 3,
   "id": "88548261",
   "metadata": {
    "execution": {
     "iopub.execute_input": "2022-07-29T14:23:52.236311Z",
     "iopub.status.busy": "2022-07-29T14:23:52.234999Z",
     "iopub.status.idle": "2022-07-29T14:24:29.739817Z",
     "shell.execute_reply": "2022-07-29T14:24:29.737840Z"
    },
    "papermill": {
     "duration": 37.519296,
     "end_time": "2022-07-29T14:24:29.742814",
     "exception": false,
     "start_time": "2022-07-29T14:23:52.223518",
     "status": "completed"
    },
    "tags": []
   },
   "outputs": [
    {
     "name": "stdout",
     "output_type": "stream",
     "text": [
      "Collecting cr-features\r\n",
      "  Downloading cr-features-0.1.7.tar.gz (74 kB)\r\n",
      "\u001b[2K     \u001b[90m━━━━━━━━━━━━━━━━━━━━━━━━━━━━━━━━━━━━━━━\u001b[0m \u001b[32m74.9/74.9 kB\u001b[0m \u001b[31m278.2 kB/s\u001b[0m eta \u001b[36m0:00:00\u001b[0m\r\n",
      "\u001b[?25h  Installing build dependencies ... \u001b[?25l-\b \b\\\b \b|\b \b/\b \b-\b \b\\\b \bdone\r\n",
      "\u001b[?25h  Getting requirements to build wheel ... \u001b[?25l-\b \bdone\r\n",
      "\u001b[?25h  Preparing metadata (pyproject.toml) ... \u001b[?25l-\b \bdone\r\n",
      "\u001b[?25hRequirement already satisfied: scikit-learn in /opt/conda/lib/python3.7/site-packages (from cr-features) (1.0.2)\r\n",
      "Requirement already satisfied: tqdm in /opt/conda/lib/python3.7/site-packages (from cr-features) (4.64.0)\r\n",
      "Requirement already satisfied: hmmlearn in /opt/conda/lib/python3.7/site-packages (from cr-features) (0.2.7)\r\n",
      "Requirement already satisfied: PyWavelets in /opt/conda/lib/python3.7/site-packages (from cr-features) (1.3.0)\r\n",
      "Requirement already satisfied: scipy in /opt/conda/lib/python3.7/site-packages (from cr-features) (1.7.3)\r\n",
      "Collecting biosppy\r\n",
      "  Downloading biosppy-0.8.0.tar.gz (1.5 MB)\r\n",
      "\u001b[2K     \u001b[90m━━━━━━━━━━━━━━━━━━━━━━━━━━━━━━━━━━━━━━━━\u001b[0m \u001b[32m1.5/1.5 MB\u001b[0m \u001b[31m2.1 MB/s\u001b[0m eta \u001b[36m0:00:00\u001b[0m\r\n",
      "\u001b[?25h  Preparing metadata (setup.py) ... \u001b[?25l-\b \bdone\r\n",
      "\u001b[?25hRequirement already satisfied: pandas in /opt/conda/lib/python3.7/site-packages (from cr-features) (1.3.5)\r\n",
      "Collecting PeakUtils\r\n",
      "  Downloading PeakUtils-1.3.3-py3-none-any.whl (7.7 kB)\r\n",
      "Requirement already satisfied: numpy in /opt/conda/lib/python3.7/site-packages (from cr-features) (1.21.6)\r\n",
      "Requirement already satisfied: bidict in /opt/conda/lib/python3.7/site-packages (from biosppy->cr-features) (0.22.0)\r\n",
      "Requirement already satisfied: h5py in /opt/conda/lib/python3.7/site-packages (from biosppy->cr-features) (3.7.0)\r\n",
      "Requirement already satisfied: matplotlib in /opt/conda/lib/python3.7/site-packages (from biosppy->cr-features) (3.5.2)\r\n",
      "Requirement already satisfied: shortuuid in /opt/conda/lib/python3.7/site-packages (from biosppy->cr-features) (1.0.9)\r\n",
      "Requirement already satisfied: six in /opt/conda/lib/python3.7/site-packages (from biosppy->cr-features) (1.16.0)\r\n",
      "Requirement already satisfied: joblib in /opt/conda/lib/python3.7/site-packages (from biosppy->cr-features) (1.0.1)\r\n",
      "Requirement already satisfied: opencv-python in /opt/conda/lib/python3.7/site-packages (from biosppy->cr-features) (4.5.4.60)\r\n",
      "Requirement already satisfied: threadpoolctl>=2.0.0 in /opt/conda/lib/python3.7/site-packages (from scikit-learn->cr-features) (3.1.0)\r\n",
      "Requirement already satisfied: python-dateutil>=2.7.3 in /opt/conda/lib/python3.7/site-packages (from pandas->cr-features) (2.8.2)\r\n",
      "Requirement already satisfied: pytz>=2017.3 in /opt/conda/lib/python3.7/site-packages (from pandas->cr-features) (2022.1)\r\n",
      "Requirement already satisfied: pillow>=6.2.0 in /opt/conda/lib/python3.7/site-packages (from matplotlib->biosppy->cr-features) (9.1.1)\r\n",
      "Requirement already satisfied: packaging>=20.0 in /opt/conda/lib/python3.7/site-packages (from matplotlib->biosppy->cr-features) (21.3)\r\n",
      "Requirement already satisfied: cycler>=0.10 in /opt/conda/lib/python3.7/site-packages (from matplotlib->biosppy->cr-features) (0.11.0)\r\n",
      "Requirement already satisfied: kiwisolver>=1.0.1 in /opt/conda/lib/python3.7/site-packages (from matplotlib->biosppy->cr-features) (1.4.3)\r\n",
      "Requirement already satisfied: pyparsing>=2.2.1 in /opt/conda/lib/python3.7/site-packages (from matplotlib->biosppy->cr-features) (3.0.9)\r\n",
      "Requirement already satisfied: fonttools>=4.22.0 in /opt/conda/lib/python3.7/site-packages (from matplotlib->biosppy->cr-features) (4.33.3)\r\n",
      "Requirement already satisfied: typing-extensions in /opt/conda/lib/python3.7/site-packages (from kiwisolver>=1.0.1->matplotlib->biosppy->cr-features) (4.1.1)\r\n",
      "Building wheels for collected packages: cr-features, biosppy\r\n",
      "  Building wheel for cr-features (pyproject.toml) ... \u001b[?25l-\b \bdone\r\n",
      "\u001b[?25h  Created wheel for cr-features: filename=cr_features-0.1.7-py3-none-any.whl size=80471 sha256=8fb6db5e593058cbfa191c0ee6b73e9aa15cdfcfd67673b0ee32f98f9247c625\r\n",
      "  Stored in directory: /root/.cache/pip/wheels/1c/01/7c/3ec5b298ec711e408fa1829be8cbb5a1ae762add0cb4e8c8c6\r\n",
      "  Building wheel for biosppy (setup.py) ... \u001b[?25l-\b \b\\\b \bdone\r\n",
      "\u001b[?25h  Created wheel for biosppy: filename=biosppy-0.8.0-py2.py3-none-any.whl size=100176 sha256=bd0355bf193231648e91507592da780d20611eabcafc72392b5226274e0bf115\r\n",
      "  Stored in directory: /root/.cache/pip/wheels/32/17/9d/77adbf0db713546eaa1c7a1480b2dce91fa724a133115dc20c\r\n",
      "Successfully built cr-features biosppy\r\n",
      "Installing collected packages: PeakUtils, biosppy, cr-features\r\n",
      "Successfully installed PeakUtils-1.3.3 biosppy-0.8.0 cr-features-0.1.7\r\n",
      "\u001b[33mWARNING: Running pip as the 'root' user can result in broken permissions and conflicting behaviour with the system package manager. It is recommended to use a virtual environment instead: https://pip.pypa.io/warnings/venv\u001b[0m\u001b[33m\r\n",
      "\u001b[0mNote: you may need to restart the kernel to use updated packages.\n"
     ]
    }
   ],
   "source": [
    "pip install cr-features"
   ]
  },
  {
   "cell_type": "code",
   "execution_count": 4,
   "id": "79805940",
   "metadata": {
    "execution": {
     "iopub.execute_input": "2022-07-29T14:24:29.773758Z",
     "iopub.status.busy": "2022-07-29T14:24:29.773306Z",
     "iopub.status.idle": "2022-07-29T14:24:29.865958Z",
     "shell.execute_reply": "2022-07-29T14:24:29.864678Z"
    },
    "papermill": {
     "duration": 0.111177,
     "end_time": "2022-07-29T14:24:29.868612",
     "exception": false,
     "start_time": "2022-07-29T14:24:29.757435",
     "status": "completed"
    },
    "tags": []
   },
   "outputs": [],
   "source": [
    "from cr_features.pipeline_functions import hmm_smooth, three_step_fs"
   ]
  },
  {
   "cell_type": "code",
   "execution_count": 5,
   "id": "0ee01cd8",
   "metadata": {
    "execution": {
     "iopub.execute_input": "2022-07-29T14:24:29.900968Z",
     "iopub.status.busy": "2022-07-29T14:24:29.900539Z",
     "iopub.status.idle": "2022-07-29T14:24:29.905947Z",
     "shell.execute_reply": "2022-07-29T14:24:29.904610Z"
    },
    "papermill": {
     "duration": 0.023821,
     "end_time": "2022-07-29T14:24:29.908296",
     "exception": false,
     "start_time": "2022-07-29T14:24:29.884475",
     "status": "completed"
    },
    "tags": []
   },
   "outputs": [],
   "source": [
    "DF_listA= list()\n",
    "DF_listB = list()"
   ]
  },
  {
   "cell_type": "code",
   "execution_count": 6,
   "id": "40e8453b",
   "metadata": {
    "execution": {
     "iopub.execute_input": "2022-07-29T14:24:29.938039Z",
     "iopub.status.busy": "2022-07-29T14:24:29.937623Z",
     "iopub.status.idle": "2022-07-29T14:25:04.477803Z",
     "shell.execute_reply": "2022-07-29T14:25:04.476598Z"
    },
    "papermill": {
     "duration": 34.558618,
     "end_time": "2022-07-29T14:25:04.480853",
     "exception": false,
     "start_time": "2022-07-29T14:24:29.922235",
     "status": "completed"
    },
    "tags": []
   },
   "outputs": [],
   "source": [
    "#Task A\n",
    "for i in range (0, 30):\n",
    "    DF_listA.insert(i, pd.read_csv('../input/participantstaska/Participant'+str(i+1)+'.csv') )\n",
    "\n",
    "#Task B\n",
    "for i in range (0, 30):\n",
    "    DF_listB.insert(i, pd.read_csv('../input/participantstaskb/Participant'+str(i+1)+'.csv') )"
   ]
  },
  {
   "cell_type": "code",
   "execution_count": 7,
   "id": "e4e35197",
   "metadata": {
    "execution": {
     "iopub.execute_input": "2022-07-29T14:25:04.510418Z",
     "iopub.status.busy": "2022-07-29T14:25:04.509987Z",
     "iopub.status.idle": "2022-07-29T14:25:04.517387Z",
     "shell.execute_reply": "2022-07-29T14:25:04.516339Z"
    },
    "papermill": {
     "duration": 0.025052,
     "end_time": "2022-07-29T14:25:04.519735",
     "exception": false,
     "start_time": "2022-07-29T14:25:04.494683",
     "status": "completed"
    },
    "tags": []
   },
   "outputs": [],
   "source": [
    "training_subjects = np.array([1, 4, 5, 7, 9, 10, 11, 14, 2, 16, 17, 19, 21, 22, 23, 24, 26, 27, 29, 30])\n",
    "validation_subjects = np.array([3, 6, 12, 20, 25])\n",
    "test_subjects = np.array([15,8,13,18,28])"
   ]
  },
  {
   "cell_type": "code",
   "execution_count": 8,
   "id": "854c5a51",
   "metadata": {
    "execution": {
     "iopub.execute_input": "2022-07-29T14:25:04.550131Z",
     "iopub.status.busy": "2022-07-29T14:25:04.549697Z",
     "iopub.status.idle": "2022-07-29T14:25:04.556741Z",
     "shell.execute_reply": "2022-07-29T14:25:04.554860Z"
    },
    "papermill": {
     "duration": 0.025902,
     "end_time": "2022-07-29T14:25:04.559468",
     "exception": false,
     "start_time": "2022-07-29T14:25:04.533566",
     "status": "completed"
    },
    "tags": []
   },
   "outputs": [],
   "source": [
    "#Task A\n",
    "DF_train = list()\n",
    "DF_validation = list()\n",
    "DF_test = list()\n",
    "\n",
    "#Task B\n",
    "DF_trainB = list()\n",
    "DF_validationB = list()\n",
    "DF_testB = list()\n",
    "k=0"
   ]
  },
  {
   "cell_type": "code",
   "execution_count": 9,
   "id": "cc2572d2",
   "metadata": {
    "execution": {
     "iopub.execute_input": "2022-07-29T14:25:04.601407Z",
     "iopub.status.busy": "2022-07-29T14:25:04.600590Z",
     "iopub.status.idle": "2022-07-29T14:25:04.609524Z",
     "shell.execute_reply": "2022-07-29T14:25:04.608041Z"
    },
    "papermill": {
     "duration": 0.033567,
     "end_time": "2022-07-29T14:25:04.612604",
     "exception": false,
     "start_time": "2022-07-29T14:25:04.579037",
     "status": "completed"
    },
    "tags": []
   },
   "outputs": [],
   "source": [
    "#Task A\n",
    "k=0\n",
    "\n",
    "for i in training_subjects:\n",
    "    DF_train.insert(k, DF_listA[i-1])\n",
    "    k=k+1\n",
    "\n",
    "#Task B\n",
    "k=0\n",
    "\n",
    "for i in training_subjects:\n",
    "    DF_trainB.insert(k, DF_listB[i-1])\n",
    "    k=k+1"
   ]
  },
  {
   "cell_type": "code",
   "execution_count": 10,
   "id": "7f54770f",
   "metadata": {
    "execution": {
     "iopub.execute_input": "2022-07-29T14:25:04.644555Z",
     "iopub.status.busy": "2022-07-29T14:25:04.644140Z",
     "iopub.status.idle": "2022-07-29T14:25:04.651065Z",
     "shell.execute_reply": "2022-07-29T14:25:04.649920Z"
    },
    "papermill": {
     "duration": 0.02522,
     "end_time": "2022-07-29T14:25:04.653879",
     "exception": false,
     "start_time": "2022-07-29T14:25:04.628659",
     "status": "completed"
    },
    "tags": []
   },
   "outputs": [],
   "source": [
    "#Task A\n",
    "k=0\n",
    "for i in validation_subjects:\n",
    "    DF_validation.insert(k, DF_listA[i-1])\n",
    "    k=k+1\n",
    "\n",
    "#Task B\n",
    "k=0\n",
    "for i in validation_subjects:\n",
    "    DF_validationB.insert(k, DF_listB[i-1])\n",
    "    k=k+1"
   ]
  },
  {
   "cell_type": "code",
   "execution_count": 11,
   "id": "857d1333",
   "metadata": {
    "execution": {
     "iopub.execute_input": "2022-07-29T14:25:04.683811Z",
     "iopub.status.busy": "2022-07-29T14:25:04.682940Z",
     "iopub.status.idle": "2022-07-29T14:25:04.689821Z",
     "shell.execute_reply": "2022-07-29T14:25:04.688529Z"
    },
    "papermill": {
     "duration": 0.024449,
     "end_time": "2022-07-29T14:25:04.692231",
     "exception": false,
     "start_time": "2022-07-29T14:25:04.667782",
     "status": "completed"
    },
    "tags": []
   },
   "outputs": [],
   "source": [
    "#Task A\n",
    "k=0\n",
    "for i in test_subjects:\n",
    "    DF_test.insert(k, DF_listA[i-1])\n",
    "    k=k+1\n",
    "\n",
    "#Task B\n",
    "k=0\n",
    "for i in test_subjects:\n",
    "    DF_testB.insert(k, DF_listB[i-1])\n",
    "    k=k+1"
   ]
  },
  {
   "cell_type": "code",
   "execution_count": 12,
   "id": "c51d5793",
   "metadata": {
    "execution": {
     "iopub.execute_input": "2022-07-29T14:25:04.722068Z",
     "iopub.status.busy": "2022-07-29T14:25:04.721623Z",
     "iopub.status.idle": "2022-07-29T14:25:05.388643Z",
     "shell.execute_reply": "2022-07-29T14:25:05.386969Z"
    },
    "papermill": {
     "duration": 0.685704,
     "end_time": "2022-07-29T14:25:05.391783",
     "exception": false,
     "start_time": "2022-07-29T14:25:04.706079",
     "status": "completed"
    },
    "tags": []
   },
   "outputs": [],
   "source": [
    "#Task A\n",
    "trainData = pd.concat(DF_train, ignore_index=True)\n",
    "validData = pd.concat(DF_validation, ignore_index=True)\n",
    "testData = pd.concat (DF_test, ignore_index=True)\n",
    "\n",
    "X_train = trainData.drop(['event'], axis=1)\n",
    "y_train = pd.DataFrame(trainData.iloc[:,-1])\n",
    "\n",
    "X_valid = validData.drop(['event'], axis=1)\n",
    "y_valid = pd.DataFrame(validData.iloc[:,-1])\n",
    "\n",
    "X_test = testData.drop(['event'], axis=1)\n",
    "y_test = pd.DataFrame(testData.iloc[:,-1])\n",
    "\n",
    "\n",
    "\n",
    "#Task B\n",
    "trainDataB = pd.concat(DF_trainB, ignore_index=True)\n",
    "validDataB = pd.concat(DF_validationB, ignore_index=True)\n",
    "testDataB = pd.concat (DF_testB, ignore_index=True)\n",
    "\n",
    "X_trainB = trainDataB.drop(['event'], axis=1)\n",
    "y_trainB = pd.DataFrame(trainDataB.iloc[:,-1])\n",
    "\n",
    "X_validB = validDataB.drop(['event'], axis=1)\n",
    "y_validB = pd.DataFrame(validDataB.iloc[:,-1])\n",
    "\n",
    "X_testB = testDataB.drop(['event'], axis=1)\n",
    "y_testB = pd.DataFrame(testDataB.iloc[:,-1])"
   ]
  },
  {
   "cell_type": "code",
   "execution_count": 13,
   "id": "4ab68c9f",
   "metadata": {
    "execution": {
     "iopub.execute_input": "2022-07-29T14:25:05.421951Z",
     "iopub.status.busy": "2022-07-29T14:25:05.421525Z",
     "iopub.status.idle": "2022-07-29T14:25:05.427222Z",
     "shell.execute_reply": "2022-07-29T14:25:05.425818Z"
    },
    "papermill": {
     "duration": 0.024144,
     "end_time": "2022-07-29T14:25:05.430215",
     "exception": false,
     "start_time": "2022-07-29T14:25:05.406071",
     "status": "completed"
    },
    "tags": []
   },
   "outputs": [],
   "source": [
    "from sklearn.preprocessing import StandardScaler\n",
    "DF_listAstd = list()"
   ]
  },
  {
   "cell_type": "code",
   "execution_count": 14,
   "id": "76ba9480",
   "metadata": {
    "execution": {
     "iopub.execute_input": "2022-07-29T14:25:05.461373Z",
     "iopub.status.busy": "2022-07-29T14:25:05.460346Z",
     "iopub.status.idle": "2022-07-29T14:25:05.645258Z",
     "shell.execute_reply": "2022-07-29T14:25:05.644281Z"
    },
    "papermill": {
     "duration": 0.20247,
     "end_time": "2022-07-29T14:25:05.647794",
     "exception": false,
     "start_time": "2022-07-29T14:25:05.445324",
     "status": "completed"
    },
    "tags": []
   },
   "outputs": [],
   "source": [
    "for i in range (0, 30):\n",
    "    DF_listAstd.insert (i, DF_listA[i].drop(['event'], axis=1))"
   ]
  },
  {
   "cell_type": "code",
   "execution_count": 15,
   "id": "10a66c18",
   "metadata": {
    "execution": {
     "iopub.execute_input": "2022-07-29T14:25:05.677492Z",
     "iopub.status.busy": "2022-07-29T14:25:05.676863Z",
     "iopub.status.idle": "2022-07-29T14:25:05.681929Z",
     "shell.execute_reply": "2022-07-29T14:25:05.680813Z"
    },
    "papermill": {
     "duration": 0.02286,
     "end_time": "2022-07-29T14:25:05.684454",
     "exception": false,
     "start_time": "2022-07-29T14:25:05.661594",
     "status": "completed"
    },
    "tags": []
   },
   "outputs": [],
   "source": [
    "names= DF_listAstd[1].columns"
   ]
  },
  {
   "cell_type": "code",
   "execution_count": 16,
   "id": "67bd57ef",
   "metadata": {
    "execution": {
     "iopub.execute_input": "2022-07-29T14:25:05.715090Z",
     "iopub.status.busy": "2022-07-29T14:25:05.714271Z",
     "iopub.status.idle": "2022-07-29T14:25:06.454740Z",
     "shell.execute_reply": "2022-07-29T14:25:06.453525Z"
    },
    "papermill": {
     "duration": 0.759802,
     "end_time": "2022-07-29T14:25:06.457960",
     "exception": false,
     "start_time": "2022-07-29T14:25:05.698158",
     "status": "completed"
    },
    "tags": []
   },
   "outputs": [],
   "source": [
    "scale= StandardScaler()\n",
    "for i in range (0, 30):\n",
    "    DF_listAstd[i]=scale.fit_transform(DF_listAstd[i])\n",
    "    DF_listAstd[i]=pd.DataFrame(DF_listAstd[i], columns=names)"
   ]
  },
  {
   "cell_type": "code",
   "execution_count": 17,
   "id": "dde43e9b",
   "metadata": {
    "execution": {
     "iopub.execute_input": "2022-07-29T14:25:06.487778Z",
     "iopub.status.busy": "2022-07-29T14:25:06.487357Z",
     "iopub.status.idle": "2022-07-29T14:25:06.492912Z",
     "shell.execute_reply": "2022-07-29T14:25:06.491632Z"
    },
    "papermill": {
     "duration": 0.023121,
     "end_time": "2022-07-29T14:25:06.495405",
     "exception": false,
     "start_time": "2022-07-29T14:25:06.472284",
     "status": "completed"
    },
    "tags": []
   },
   "outputs": [],
   "source": [
    "DF_train_std = list()\n",
    "DF_valid_std = list()\n",
    "DF_test_std = list()"
   ]
  },
  {
   "cell_type": "code",
   "execution_count": 18,
   "id": "740ee742",
   "metadata": {
    "execution": {
     "iopub.execute_input": "2022-07-29T14:25:06.526694Z",
     "iopub.status.busy": "2022-07-29T14:25:06.526307Z",
     "iopub.status.idle": "2022-07-29T14:25:06.533865Z",
     "shell.execute_reply": "2022-07-29T14:25:06.532497Z"
    },
    "papermill": {
     "duration": 0.02735,
     "end_time": "2022-07-29T14:25:06.536419",
     "exception": false,
     "start_time": "2022-07-29T14:25:06.509069",
     "status": "completed"
    },
    "tags": []
   },
   "outputs": [],
   "source": [
    "k=0\n",
    "\n",
    "for i in training_subjects:\n",
    "    DF_train_std.insert(k, DF_listAstd[i-1])\n",
    "    k=k+1\n",
    "\n",
    "k=0\n",
    "    \n",
    "for i in validation_subjects:\n",
    "    DF_valid_std.insert(k, DF_listAstd[i-1])\n",
    "    k=k+1\n",
    "k=0\n",
    "\n",
    "for i in test_subjects:\n",
    "    DF_test_std.insert(k, DF_listAstd[i-1])\n",
    "    k=k+1"
   ]
  },
  {
   "cell_type": "code",
   "execution_count": 19,
   "id": "3bba03db",
   "metadata": {
    "execution": {
     "iopub.execute_input": "2022-07-29T14:25:06.566856Z",
     "iopub.status.busy": "2022-07-29T14:25:06.566160Z",
     "iopub.status.idle": "2022-07-29T14:25:06.706155Z",
     "shell.execute_reply": "2022-07-29T14:25:06.704947Z"
    },
    "papermill": {
     "duration": 0.158589,
     "end_time": "2022-07-29T14:25:06.708891",
     "exception": false,
     "start_time": "2022-07-29T14:25:06.550302",
     "status": "completed"
    },
    "tags": []
   },
   "outputs": [],
   "source": [
    "X_train_std = pd.concat(DF_train_std, ignore_index=True)\n",
    "X_valid_std = pd.concat(DF_valid_std, ignore_index=True)\n",
    "X_test_std = pd.concat (DF_test_std, ignore_index=True)"
   ]
  },
  {
   "cell_type": "code",
   "execution_count": 20,
   "id": "6d55257a",
   "metadata": {
    "execution": {
     "iopub.execute_input": "2022-07-29T14:25:06.739884Z",
     "iopub.status.busy": "2022-07-29T14:25:06.738686Z",
     "iopub.status.idle": "2022-07-29T14:25:06.747275Z",
     "shell.execute_reply": "2022-07-29T14:25:06.745451Z"
    },
    "papermill": {
     "duration": 0.027733,
     "end_time": "2022-07-29T14:25:06.750370",
     "exception": false,
     "start_time": "2022-07-29T14:25:06.722637",
     "status": "completed"
    },
    "tags": []
   },
   "outputs": [],
   "source": [
    "X_train=X_train_std\n",
    "X_valid=X_valid_std\n",
    "X_test=X_test_std\n"
   ]
  },
  {
   "cell_type": "markdown",
   "id": "66a17391",
   "metadata": {
    "papermill": {
     "duration": 0.01385,
     "end_time": "2022-07-29T14:25:06.777936",
     "exception": false,
     "start_time": "2022-07-29T14:25:06.764086",
     "status": "completed"
    },
    "tags": []
   },
   "source": [
    "# Training the model"
   ]
  },
  {
   "cell_type": "code",
   "execution_count": 21,
   "id": "1f972174",
   "metadata": {
    "execution": {
     "iopub.execute_input": "2022-07-29T14:25:06.807391Z",
     "iopub.status.busy": "2022-07-29T14:25:06.806953Z",
     "iopub.status.idle": "2022-07-29T14:25:06.881115Z",
     "shell.execute_reply": "2022-07-29T14:25:06.879238Z"
    },
    "papermill": {
     "duration": 0.092459,
     "end_time": "2022-07-29T14:25:06.884203",
     "exception": false,
     "start_time": "2022-07-29T14:25:06.791744",
     "status": "completed"
    },
    "tags": []
   },
   "outputs": [],
   "source": [
    "from imblearn.over_sampling import SMOTE"
   ]
  },
  {
   "cell_type": "code",
   "execution_count": 22,
   "id": "b010255b",
   "metadata": {
    "execution": {
     "iopub.execute_input": "2022-07-29T14:25:06.914141Z",
     "iopub.status.busy": "2022-07-29T14:25:06.913728Z",
     "iopub.status.idle": "2022-07-29T14:25:06.919090Z",
     "shell.execute_reply": "2022-07-29T14:25:06.917684Z"
    },
    "papermill": {
     "duration": 0.02336,
     "end_time": "2022-07-29T14:25:06.921800",
     "exception": false,
     "start_time": "2022-07-29T14:25:06.898440",
     "status": "completed"
    },
    "tags": []
   },
   "outputs": [],
   "source": [
    "dict_os = {\n",
    "  \"eyebrow_raise\": 48834,\n",
    "  \"frown\": 44230,\n",
    "  \"neutral\": 51773 ,\n",
    "  \"smile\": 42374 ,\n",
    "  \"squeeze_eyes\": 43423 \n",
    "}"
   ]
  },
  {
   "cell_type": "code",
   "execution_count": 23,
   "id": "bfc2ea16",
   "metadata": {
    "execution": {
     "iopub.execute_input": "2022-07-29T14:25:06.951578Z",
     "iopub.status.busy": "2022-07-29T14:25:06.951186Z",
     "iopub.status.idle": "2022-07-29T14:25:06.957287Z",
     "shell.execute_reply": "2022-07-29T14:25:06.955910Z"
    },
    "papermill": {
     "duration": 0.024524,
     "end_time": "2022-07-29T14:25:06.959981",
     "exception": false,
     "start_time": "2022-07-29T14:25:06.935457",
     "status": "completed"
    },
    "tags": []
   },
   "outputs": [],
   "source": [
    "oversample3 = SMOTE(sampling_strategy=dict_os, k_neighbors=5, random_state=1)"
   ]
  },
  {
   "cell_type": "code",
   "execution_count": 24,
   "id": "91a85cda",
   "metadata": {
    "execution": {
     "iopub.execute_input": "2022-07-29T14:25:06.989660Z",
     "iopub.status.busy": "2022-07-29T14:25:06.989294Z",
     "iopub.status.idle": "2022-07-29T14:25:16.937860Z",
     "shell.execute_reply": "2022-07-29T14:25:16.933680Z"
    },
    "papermill": {
     "duration": 9.976005,
     "end_time": "2022-07-29T14:25:16.950093",
     "exception": false,
     "start_time": "2022-07-29T14:25:06.974088",
     "status": "completed"
    },
    "tags": []
   },
   "outputs": [],
   "source": [
    " X_train, y_train = oversample3.fit_resample(X_train, y_train)"
   ]
  },
  {
   "cell_type": "code",
   "execution_count": 25,
   "id": "7201316a",
   "metadata": {
    "execution": {
     "iopub.execute_input": "2022-07-29T14:25:16.986931Z",
     "iopub.status.busy": "2022-07-29T14:25:16.985944Z",
     "iopub.status.idle": "2022-07-29T14:25:16.994487Z",
     "shell.execute_reply": "2022-07-29T14:25:16.993060Z"
    },
    "papermill": {
     "duration": 0.028571,
     "end_time": "2022-07-29T14:25:16.997437",
     "exception": false,
     "start_time": "2022-07-29T14:25:16.968866",
     "status": "completed"
    },
    "tags": []
   },
   "outputs": [],
   "source": [
    "clf_rf_us = RandomForestClassifier(n_estimators=100, random_state=42)"
   ]
  },
  {
   "cell_type": "markdown",
   "id": "b6444598",
   "metadata": {
    "papermill": {
     "duration": 0.013342,
     "end_time": "2022-07-29T14:25:17.025123",
     "exception": false,
     "start_time": "2022-07-29T14:25:17.011781",
     "status": "completed"
    },
    "tags": []
   },
   "source": [
    "# Feature Selection algorithm"
   ]
  },
  {
   "cell_type": "code",
   "execution_count": 26,
   "id": "c5f979ec",
   "metadata": {
    "execution": {
     "iopub.execute_input": "2022-07-29T14:25:17.057382Z",
     "iopub.status.busy": "2022-07-29T14:25:17.056453Z",
     "iopub.status.idle": "2022-07-29T17:59:58.876564Z",
     "shell.execute_reply": "2022-07-29T17:59:58.873193Z"
    },
    "papermill": {
     "duration": 12881.840855,
     "end_time": "2022-07-29T17:59:58.880537",
     "exception": false,
     "start_time": "2022-07-29T14:25:17.039682",
     "status": "completed"
    },
    "tags": []
   },
   "outputs": [
    {
     "name": "stderr",
     "output_type": "stream",
     "text": [
      "/opt/conda/lib/python3.7/site-packages/sklearn/utils/validation.py:993: DataConversionWarning: A column-vector y was passed when a 1d array was expected. Please change the shape of y to (n_samples, ), for example using ravel().\n",
      "  y = column_or_1d(y, warn=True)\n",
      "/opt/conda/lib/python3.7/site-packages/cr_features/pipeline_functions.py:107: DataConversionWarning: A column-vector y was passed when a 1d array was expected. Please change the shape of y to (n_samples,), for example using ravel().\n",
      "  classifier.fit(x_train_temp, y_train)\n",
      "/opt/conda/lib/python3.7/site-packages/cr_features/pipeline_functions.py:107: DataConversionWarning: A column-vector y was passed when a 1d array was expected. Please change the shape of y to (n_samples,), for example using ravel().\n",
      "  classifier.fit(x_train_temp, y_train)\n",
      "/opt/conda/lib/python3.7/site-packages/cr_features/pipeline_functions.py:107: DataConversionWarning: A column-vector y was passed when a 1d array was expected. Please change the shape of y to (n_samples,), for example using ravel().\n",
      "  classifier.fit(x_train_temp, y_train)\n",
      "/opt/conda/lib/python3.7/site-packages/cr_features/pipeline_functions.py:107: DataConversionWarning: A column-vector y was passed when a 1d array was expected. Please change the shape of y to (n_samples,), for example using ravel().\n",
      "  classifier.fit(x_train_temp, y_train)\n",
      "/opt/conda/lib/python3.7/site-packages/cr_features/pipeline_functions.py:107: DataConversionWarning: A column-vector y was passed when a 1d array was expected. Please change the shape of y to (n_samples,), for example using ravel().\n",
      "  classifier.fit(x_train_temp, y_train)\n",
      "/opt/conda/lib/python3.7/site-packages/cr_features/pipeline_functions.py:107: DataConversionWarning: A column-vector y was passed when a 1d array was expected. Please change the shape of y to (n_samples,), for example using ravel().\n",
      "  classifier.fit(x_train_temp, y_train)\n",
      "/opt/conda/lib/python3.7/site-packages/cr_features/pipeline_functions.py:107: DataConversionWarning: A column-vector y was passed when a 1d array was expected. Please change the shape of y to (n_samples,), for example using ravel().\n",
      "  classifier.fit(x_train_temp, y_train)\n",
      "/opt/conda/lib/python3.7/site-packages/cr_features/pipeline_functions.py:107: DataConversionWarning: A column-vector y was passed when a 1d array was expected. Please change the shape of y to (n_samples,), for example using ravel().\n",
      "  classifier.fit(x_train_temp, y_train)\n",
      "/opt/conda/lib/python3.7/site-packages/cr_features/pipeline_functions.py:107: DataConversionWarning: A column-vector y was passed when a 1d array was expected. Please change the shape of y to (n_samples,), for example using ravel().\n",
      "  classifier.fit(x_train_temp, y_train)\n",
      "/opt/conda/lib/python3.7/site-packages/cr_features/pipeline_functions.py:107: DataConversionWarning: A column-vector y was passed when a 1d array was expected. Please change the shape of y to (n_samples,), for example using ravel().\n",
      "  classifier.fit(x_train_temp, y_train)\n",
      "/opt/conda/lib/python3.7/site-packages/cr_features/pipeline_functions.py:107: DataConversionWarning: A column-vector y was passed when a 1d array was expected. Please change the shape of y to (n_samples,), for example using ravel().\n",
      "  classifier.fit(x_train_temp, y_train)\n",
      "/opt/conda/lib/python3.7/site-packages/cr_features/pipeline_functions.py:107: DataConversionWarning: A column-vector y was passed when a 1d array was expected. Please change the shape of y to (n_samples,), for example using ravel().\n",
      "  classifier.fit(x_train_temp, y_train)\n",
      "/opt/conda/lib/python3.7/site-packages/cr_features/pipeline_functions.py:107: DataConversionWarning: A column-vector y was passed when a 1d array was expected. Please change the shape of y to (n_samples,), for example using ravel().\n",
      "  classifier.fit(x_train_temp, y_train)\n",
      "/opt/conda/lib/python3.7/site-packages/cr_features/pipeline_functions.py:107: DataConversionWarning: A column-vector y was passed when a 1d array was expected. Please change the shape of y to (n_samples,), for example using ravel().\n",
      "  classifier.fit(x_train_temp, y_train)\n",
      "/opt/conda/lib/python3.7/site-packages/cr_features/pipeline_functions.py:107: DataConversionWarning: A column-vector y was passed when a 1d array was expected. Please change the shape of y to (n_samples,), for example using ravel().\n",
      "  classifier.fit(x_train_temp, y_train)\n",
      "/opt/conda/lib/python3.7/site-packages/cr_features/pipeline_functions.py:107: DataConversionWarning: A column-vector y was passed when a 1d array was expected. Please change the shape of y to (n_samples,), for example using ravel().\n",
      "  classifier.fit(x_train_temp, y_train)\n",
      "/opt/conda/lib/python3.7/site-packages/cr_features/pipeline_functions.py:107: DataConversionWarning: A column-vector y was passed when a 1d array was expected. Please change the shape of y to (n_samples,), for example using ravel().\n",
      "  classifier.fit(x_train_temp, y_train)\n",
      "/opt/conda/lib/python3.7/site-packages/cr_features/pipeline_functions.py:107: DataConversionWarning: A column-vector y was passed when a 1d array was expected. Please change the shape of y to (n_samples,), for example using ravel().\n",
      "  classifier.fit(x_train_temp, y_train)\n",
      "/opt/conda/lib/python3.7/site-packages/cr_features/pipeline_functions.py:107: DataConversionWarning: A column-vector y was passed when a 1d array was expected. Please change the shape of y to (n_samples,), for example using ravel().\n",
      "  classifier.fit(x_train_temp, y_train)\n",
      "/opt/conda/lib/python3.7/site-packages/cr_features/pipeline_functions.py:107: DataConversionWarning: A column-vector y was passed when a 1d array was expected. Please change the shape of y to (n_samples,), for example using ravel().\n",
      "  classifier.fit(x_train_temp, y_train)\n",
      "/opt/conda/lib/python3.7/site-packages/cr_features/pipeline_functions.py:107: DataConversionWarning: A column-vector y was passed when a 1d array was expected. Please change the shape of y to (n_samples,), for example using ravel().\n",
      "  classifier.fit(x_train_temp, y_train)\n",
      "/opt/conda/lib/python3.7/site-packages/cr_features/pipeline_functions.py:107: DataConversionWarning: A column-vector y was passed when a 1d array was expected. Please change the shape of y to (n_samples,), for example using ravel().\n",
      "  classifier.fit(x_train_temp, y_train)\n",
      "/opt/conda/lib/python3.7/site-packages/cr_features/pipeline_functions.py:107: DataConversionWarning: A column-vector y was passed when a 1d array was expected. Please change the shape of y to (n_samples,), for example using ravel().\n",
      "  classifier.fit(x_train_temp, y_train)\n",
      "/opt/conda/lib/python3.7/site-packages/cr_features/pipeline_functions.py:107: DataConversionWarning: A column-vector y was passed when a 1d array was expected. Please change the shape of y to (n_samples,), for example using ravel().\n",
      "  classifier.fit(x_train_temp, y_train)\n",
      "/opt/conda/lib/python3.7/site-packages/cr_features/pipeline_functions.py:107: DataConversionWarning: A column-vector y was passed when a 1d array was expected. Please change the shape of y to (n_samples,), for example using ravel().\n",
      "  classifier.fit(x_train_temp, y_train)\n",
      "/opt/conda/lib/python3.7/site-packages/cr_features/pipeline_functions.py:107: DataConversionWarning: A column-vector y was passed when a 1d array was expected. Please change the shape of y to (n_samples,), for example using ravel().\n",
      "  classifier.fit(x_train_temp, y_train)\n",
      "/opt/conda/lib/python3.7/site-packages/cr_features/pipeline_functions.py:107: DataConversionWarning: A column-vector y was passed when a 1d array was expected. Please change the shape of y to (n_samples,), for example using ravel().\n",
      "  classifier.fit(x_train_temp, y_train)\n",
      "/opt/conda/lib/python3.7/site-packages/cr_features/pipeline_functions.py:107: DataConversionWarning: A column-vector y was passed when a 1d array was expected. Please change the shape of y to (n_samples,), for example using ravel().\n",
      "  classifier.fit(x_train_temp, y_train)\n",
      "/opt/conda/lib/python3.7/site-packages/cr_features/pipeline_functions.py:107: DataConversionWarning: A column-vector y was passed when a 1d array was expected. Please change the shape of y to (n_samples,), for example using ravel().\n",
      "  classifier.fit(x_train_temp, y_train)\n",
      "/opt/conda/lib/python3.7/site-packages/cr_features/pipeline_functions.py:107: DataConversionWarning: A column-vector y was passed when a 1d array was expected. Please change the shape of y to (n_samples,), for example using ravel().\n",
      "  classifier.fit(x_train_temp, y_train)\n",
      "/opt/conda/lib/python3.7/site-packages/cr_features/pipeline_functions.py:107: DataConversionWarning: A column-vector y was passed when a 1d array was expected. Please change the shape of y to (n_samples,), for example using ravel().\n",
      "  classifier.fit(x_train_temp, y_train)\n",
      "/opt/conda/lib/python3.7/site-packages/cr_features/pipeline_functions.py:107: DataConversionWarning: A column-vector y was passed when a 1d array was expected. Please change the shape of y to (n_samples,), for example using ravel().\n",
      "  classifier.fit(x_train_temp, y_train)\n",
      "/opt/conda/lib/python3.7/site-packages/cr_features/pipeline_functions.py:107: DataConversionWarning: A column-vector y was passed when a 1d array was expected. Please change the shape of y to (n_samples,), for example using ravel().\n",
      "  classifier.fit(x_train_temp, y_train)\n",
      "/opt/conda/lib/python3.7/site-packages/cr_features/pipeline_functions.py:107: DataConversionWarning: A column-vector y was passed when a 1d array was expected. Please change the shape of y to (n_samples,), for example using ravel().\n",
      "  classifier.fit(x_train_temp, y_train)\n",
      "/opt/conda/lib/python3.7/site-packages/cr_features/pipeline_functions.py:107: DataConversionWarning: A column-vector y was passed when a 1d array was expected. Please change the shape of y to (n_samples,), for example using ravel().\n",
      "  classifier.fit(x_train_temp, y_train)\n",
      "/opt/conda/lib/python3.7/site-packages/cr_features/pipeline_functions.py:107: DataConversionWarning: A column-vector y was passed when a 1d array was expected. Please change the shape of y to (n_samples,), for example using ravel().\n",
      "  classifier.fit(x_train_temp, y_train)\n",
      "/opt/conda/lib/python3.7/site-packages/cr_features/pipeline_functions.py:107: DataConversionWarning: A column-vector y was passed when a 1d array was expected. Please change the shape of y to (n_samples,), for example using ravel().\n",
      "  classifier.fit(x_train_temp, y_train)\n",
      "/opt/conda/lib/python3.7/site-packages/cr_features/pipeline_functions.py:107: DataConversionWarning: A column-vector y was passed when a 1d array was expected. Please change the shape of y to (n_samples,), for example using ravel().\n",
      "  classifier.fit(x_train_temp, y_train)\n",
      "/opt/conda/lib/python3.7/site-packages/cr_features/pipeline_functions.py:107: DataConversionWarning: A column-vector y was passed when a 1d array was expected. Please change the shape of y to (n_samples,), for example using ravel().\n",
      "  classifier.fit(x_train_temp, y_train)\n",
      "/opt/conda/lib/python3.7/site-packages/cr_features/pipeline_functions.py:107: DataConversionWarning: A column-vector y was passed when a 1d array was expected. Please change the shape of y to (n_samples,), for example using ravel().\n",
      "  classifier.fit(x_train_temp, y_train)\n",
      "/opt/conda/lib/python3.7/site-packages/cr_features/pipeline_functions.py:107: DataConversionWarning: A column-vector y was passed when a 1d array was expected. Please change the shape of y to (n_samples,), for example using ravel().\n",
      "  classifier.fit(x_train_temp, y_train)\n",
      "/opt/conda/lib/python3.7/site-packages/cr_features/pipeline_functions.py:107: DataConversionWarning: A column-vector y was passed when a 1d array was expected. Please change the shape of y to (n_samples,), for example using ravel().\n",
      "  classifier.fit(x_train_temp, y_train)\n",
      "/opt/conda/lib/python3.7/site-packages/cr_features/pipeline_functions.py:107: DataConversionWarning: A column-vector y was passed when a 1d array was expected. Please change the shape of y to (n_samples,), for example using ravel().\n",
      "  classifier.fit(x_train_temp, y_train)\n",
      "/opt/conda/lib/python3.7/site-packages/cr_features/pipeline_functions.py:107: DataConversionWarning: A column-vector y was passed when a 1d array was expected. Please change the shape of y to (n_samples,), for example using ravel().\n",
      "  classifier.fit(x_train_temp, y_train)\n",
      "/opt/conda/lib/python3.7/site-packages/cr_features/pipeline_functions.py:107: DataConversionWarning: A column-vector y was passed when a 1d array was expected. Please change the shape of y to (n_samples,), for example using ravel().\n",
      "  classifier.fit(x_train_temp, y_train)\n",
      "/opt/conda/lib/python3.7/site-packages/cr_features/pipeline_functions.py:107: DataConversionWarning: A column-vector y was passed when a 1d array was expected. Please change the shape of y to (n_samples,), for example using ravel().\n",
      "  classifier.fit(x_train_temp, y_train)\n",
      "/opt/conda/lib/python3.7/site-packages/cr_features/pipeline_functions.py:107: DataConversionWarning: A column-vector y was passed when a 1d array was expected. Please change the shape of y to (n_samples,), for example using ravel().\n",
      "  classifier.fit(x_train_temp, y_train)\n",
      "/opt/conda/lib/python3.7/site-packages/cr_features/pipeline_functions.py:107: DataConversionWarning: A column-vector y was passed when a 1d array was expected. Please change the shape of y to (n_samples,), for example using ravel().\n",
      "  classifier.fit(x_train_temp, y_train)\n",
      "/opt/conda/lib/python3.7/site-packages/cr_features/pipeline_functions.py:107: DataConversionWarning: A column-vector y was passed when a 1d array was expected. Please change the shape of y to (n_samples,), for example using ravel().\n",
      "  classifier.fit(x_train_temp, y_train)\n",
      "/opt/conda/lib/python3.7/site-packages/cr_features/pipeline_functions.py:107: DataConversionWarning: A column-vector y was passed when a 1d array was expected. Please change the shape of y to (n_samples,), for example using ravel().\n",
      "  classifier.fit(x_train_temp, y_train)\n",
      "/opt/conda/lib/python3.7/site-packages/cr_features/pipeline_functions.py:107: DataConversionWarning: A column-vector y was passed when a 1d array was expected. Please change the shape of y to (n_samples,), for example using ravel().\n",
      "  classifier.fit(x_train_temp, y_train)\n",
      "/opt/conda/lib/python3.7/site-packages/cr_features/pipeline_functions.py:107: DataConversionWarning: A column-vector y was passed when a 1d array was expected. Please change the shape of y to (n_samples,), for example using ravel().\n",
      "  classifier.fit(x_train_temp, y_train)\n",
      "/opt/conda/lib/python3.7/site-packages/cr_features/pipeline_functions.py:107: DataConversionWarning: A column-vector y was passed when a 1d array was expected. Please change the shape of y to (n_samples,), for example using ravel().\n",
      "  classifier.fit(x_train_temp, y_train)\n",
      "/opt/conda/lib/python3.7/site-packages/cr_features/pipeline_functions.py:107: DataConversionWarning: A column-vector y was passed when a 1d array was expected. Please change the shape of y to (n_samples,), for example using ravel().\n",
      "  classifier.fit(x_train_temp, y_train)\n",
      "/opt/conda/lib/python3.7/site-packages/cr_features/pipeline_functions.py:107: DataConversionWarning: A column-vector y was passed when a 1d array was expected. Please change the shape of y to (n_samples,), for example using ravel().\n",
      "  classifier.fit(x_train_temp, y_train)\n",
      "/opt/conda/lib/python3.7/site-packages/cr_features/pipeline_functions.py:107: DataConversionWarning: A column-vector y was passed when a 1d array was expected. Please change the shape of y to (n_samples,), for example using ravel().\n",
      "  classifier.fit(x_train_temp, y_train)\n",
      "/opt/conda/lib/python3.7/site-packages/cr_features/pipeline_functions.py:107: DataConversionWarning: A column-vector y was passed when a 1d array was expected. Please change the shape of y to (n_samples,), for example using ravel().\n",
      "  classifier.fit(x_train_temp, y_train)\n",
      "/opt/conda/lib/python3.7/site-packages/cr_features/pipeline_functions.py:107: DataConversionWarning: A column-vector y was passed when a 1d array was expected. Please change the shape of y to (n_samples,), for example using ravel().\n",
      "  classifier.fit(x_train_temp, y_train)\n",
      "/opt/conda/lib/python3.7/site-packages/cr_features/pipeline_functions.py:107: DataConversionWarning: A column-vector y was passed when a 1d array was expected. Please change the shape of y to (n_samples,), for example using ravel().\n",
      "  classifier.fit(x_train_temp, y_train)\n",
      "/opt/conda/lib/python3.7/site-packages/cr_features/pipeline_functions.py:107: DataConversionWarning: A column-vector y was passed when a 1d array was expected. Please change the shape of y to (n_samples,), for example using ravel().\n",
      "  classifier.fit(x_train_temp, y_train)\n",
      "/opt/conda/lib/python3.7/site-packages/cr_features/pipeline_functions.py:107: DataConversionWarning: A column-vector y was passed when a 1d array was expected. Please change the shape of y to (n_samples,), for example using ravel().\n",
      "  classifier.fit(x_train_temp, y_train)\n",
      "/opt/conda/lib/python3.7/site-packages/cr_features/pipeline_functions.py:107: DataConversionWarning: A column-vector y was passed when a 1d array was expected. Please change the shape of y to (n_samples,), for example using ravel().\n",
      "  classifier.fit(x_train_temp, y_train)\n",
      "/opt/conda/lib/python3.7/site-packages/cr_features/pipeline_functions.py:107: DataConversionWarning: A column-vector y was passed when a 1d array was expected. Please change the shape of y to (n_samples,), for example using ravel().\n",
      "  classifier.fit(x_train_temp, y_train)\n",
      "/opt/conda/lib/python3.7/site-packages/cr_features/pipeline_functions.py:107: DataConversionWarning: A column-vector y was passed when a 1d array was expected. Please change the shape of y to (n_samples,), for example using ravel().\n",
      "  classifier.fit(x_train_temp, y_train)\n",
      "/opt/conda/lib/python3.7/site-packages/cr_features/pipeline_functions.py:107: DataConversionWarning: A column-vector y was passed when a 1d array was expected. Please change the shape of y to (n_samples,), for example using ravel().\n",
      "  classifier.fit(x_train_temp, y_train)\n",
      "/opt/conda/lib/python3.7/site-packages/cr_features/pipeline_functions.py:107: DataConversionWarning: A column-vector y was passed when a 1d array was expected. Please change the shape of y to (n_samples,), for example using ravel().\n",
      "  classifier.fit(x_train_temp, y_train)\n",
      "/opt/conda/lib/python3.7/site-packages/cr_features/pipeline_functions.py:107: DataConversionWarning: A column-vector y was passed when a 1d array was expected. Please change the shape of y to (n_samples,), for example using ravel().\n",
      "  classifier.fit(x_train_temp, y_train)\n"
     ]
    }
   ],
   "source": [
    "features_selected = three_step_fs(X_train, y_train, X_valid, y_valid,\n",
    "                                  clf_rf_us, base_cutoff=200, correlation_threshold=0.9,verbose=False)"
   ]
  },
  {
   "cell_type": "code",
   "execution_count": 27,
   "id": "a33d23f1",
   "metadata": {
    "execution": {
     "iopub.execute_input": "2022-07-29T17:59:58.923360Z",
     "iopub.status.busy": "2022-07-29T17:59:58.922770Z",
     "iopub.status.idle": "2022-07-29T17:59:58.943260Z",
     "shell.execute_reply": "2022-07-29T17:59:58.941967Z"
    },
    "papermill": {
     "duration": 0.045438,
     "end_time": "2022-07-29T17:59:58.945912",
     "exception": false,
     "start_time": "2022-07-29T17:59:58.900474",
     "status": "completed"
    },
    "tags": []
   },
   "outputs": [
    {
     "data": {
      "text/plain": [
       "62"
      ]
     },
     "execution_count": 27,
     "metadata": {},
     "output_type": "execute_result"
    }
   ],
   "source": [
    "len(features_selected)"
   ]
  },
  {
   "cell_type": "code",
   "execution_count": 28,
   "id": "6de5de06",
   "metadata": {
    "execution": {
     "iopub.execute_input": "2022-07-29T17:59:58.986799Z",
     "iopub.status.busy": "2022-07-29T17:59:58.985997Z",
     "iopub.status.idle": "2022-07-29T18:04:47.124289Z",
     "shell.execute_reply": "2022-07-29T18:04:47.123034Z"
    },
    "papermill": {
     "duration": 288.181644,
     "end_time": "2022-07-29T18:04:47.146730",
     "exception": false,
     "start_time": "2022-07-29T17:59:58.965086",
     "status": "completed"
    },
    "tags": []
   },
   "outputs": [
    {
     "name": "stderr",
     "output_type": "stream",
     "text": [
      "/opt/conda/lib/python3.7/site-packages/ipykernel_launcher.py:1: DataConversionWarning: A column-vector y was passed when a 1d array was expected. Please change the shape of y to (n_samples,), for example using ravel().\n",
      "  \"\"\"Entry point for launching an IPython kernel.\n"
     ]
    },
    {
     "data": {
      "text/plain": [
       "RandomForestClassifier(random_state=42)"
      ]
     },
     "execution_count": 28,
     "metadata": {},
     "output_type": "execute_result"
    }
   ],
   "source": [
    "clf_rf_us.fit(X_train[features_selected], y_train)"
   ]
  },
  {
   "cell_type": "code",
   "execution_count": 29,
   "id": "340fb593",
   "metadata": {
    "execution": {
     "iopub.execute_input": "2022-07-29T18:04:47.187547Z",
     "iopub.status.busy": "2022-07-29T18:04:47.187139Z",
     "iopub.status.idle": "2022-07-29T18:04:48.037140Z",
     "shell.execute_reply": "2022-07-29T18:04:48.035644Z"
    },
    "papermill": {
     "duration": 0.87379,
     "end_time": "2022-07-29T18:04:48.040000",
     "exception": false,
     "start_time": "2022-07-29T18:04:47.166210",
     "status": "completed"
    },
    "tags": []
   },
   "outputs": [
    {
     "name": "stdout",
     "output_type": "stream",
     "text": [
      "Accuracy: 86.84075780849975 %\n",
      "F1-Score: 0.8155756602097849\n"
     ]
    }
   ],
   "source": [
    "predictions = clf_rf_us.predict(X_test[features_selected])\n",
    "score_rf_us = accuracy_score(y_test, predictions)\n",
    "f1_rf_us = f1_score(y_test, predictions, average='macro')\n",
    "\n",
    "print ('Accuracy: '+str(score_rf_us*100)+' %')\n",
    "print ('F1-Score: '+str(f1_rf_us))"
   ]
  },
  {
   "cell_type": "code",
   "execution_count": 30,
   "id": "47053752",
   "metadata": {
    "execution": {
     "iopub.execute_input": "2022-07-29T18:04:48.081175Z",
     "iopub.status.busy": "2022-07-29T18:04:48.080299Z",
     "iopub.status.idle": "2022-07-29T18:04:49.232470Z",
     "shell.execute_reply": "2022-07-29T18:04:49.231117Z"
    },
    "papermill": {
     "duration": 1.175807,
     "end_time": "2022-07-29T18:04:49.235194",
     "exception": false,
     "start_time": "2022-07-29T18:04:48.059387",
     "status": "completed"
    },
    "tags": []
   },
   "outputs": [
    {
     "name": "stderr",
     "output_type": "stream",
     "text": [
      "/opt/conda/lib/python3.7/site-packages/sklearn/utils/deprecation.py:87: FutureWarning: Function plot_confusion_matrix is deprecated; Function `plot_confusion_matrix` is deprecated in 1.0 and will be removed in 1.2. Use one of the class methods: ConfusionMatrixDisplay.from_predictions or ConfusionMatrixDisplay.from_estimator.\n",
      "  warnings.warn(msg, category=FutureWarning)\n"
     ]
    },
    {
     "data": {
      "text/plain": [
       "<sklearn.metrics._plot.confusion_matrix.ConfusionMatrixDisplay at 0x7f4b842bcb10>"
      ]
     },
     "execution_count": 30,
     "metadata": {},
     "output_type": "execute_result"
    },
    {
     "data": {
      "image/png": "[encoded data removed]",
      "text/plain": [
       "<Figure size 432x288 with 2 Axes>"
      ]
     },
     "metadata": {
      "needs_background": "light"
     },
     "output_type": "display_data"
    }
   ],
   "source": [
    "plot_confusion_matrix(estimator=clf_rf_us, X=X_test[features_selected], y_true=y_test,\n",
    "                      normalize='true', cmap='Blues')"
   ]
  },
  {
   "cell_type": "markdown",
   "id": "c2c3d7b2",
   "metadata": {
    "papermill": {
     "duration": 0.019676,
     "end_time": "2022-07-29T18:04:49.275326",
     "exception": false,
     "start_time": "2022-07-29T18:04:49.255650",
     "status": "completed"
    },
    "tags": []
   },
   "source": [
    "<br>"
   ]
  },
  {
   "cell_type": "code",
   "execution_count": 31,
   "id": "0a98a88c",
   "metadata": {
    "execution": {
     "iopub.execute_input": "2022-07-29T18:04:49.317226Z",
     "iopub.status.busy": "2022-07-29T18:04:49.316817Z",
     "iopub.status.idle": "2022-07-29T21:10:17.436333Z",
     "shell.execute_reply": "2022-07-29T21:10:17.432830Z"
    },
    "papermill": {
     "duration": 11128.144673,
     "end_time": "2022-07-29T21:10:17.439925",
     "exception": false,
     "start_time": "2022-07-29T18:04:49.295252",
     "status": "completed"
    },
    "tags": []
   },
   "outputs": [
    {
     "name": "stderr",
     "output_type": "stream",
     "text": [
      "/opt/conda/lib/python3.7/site-packages/sklearn/utils/validation.py:993: DataConversionWarning: A column-vector y was passed when a 1d array was expected. Please change the shape of y to (n_samples, ), for example using ravel().\n",
      "  y = column_or_1d(y, warn=True)\n",
      "/opt/conda/lib/python3.7/site-packages/cr_features/pipeline_functions.py:107: DataConversionWarning: A column-vector y was passed when a 1d array was expected. Please change the shape of y to (n_samples,), for example using ravel().\n",
      "  classifier.fit(x_train_temp, y_train)\n",
      "/opt/conda/lib/python3.7/site-packages/cr_features/pipeline_functions.py:107: DataConversionWarning: A column-vector y was passed when a 1d array was expected. Please change the shape of y to (n_samples,), for example using ravel().\n",
      "  classifier.fit(x_train_temp, y_train)\n",
      "/opt/conda/lib/python3.7/site-packages/cr_features/pipeline_functions.py:107: DataConversionWarning: A column-vector y was passed when a 1d array was expected. Please change the shape of y to (n_samples,), for example using ravel().\n",
      "  classifier.fit(x_train_temp, y_train)\n",
      "/opt/conda/lib/python3.7/site-packages/cr_features/pipeline_functions.py:107: DataConversionWarning: A column-vector y was passed when a 1d array was expected. Please change the shape of y to (n_samples,), for example using ravel().\n",
      "  classifier.fit(x_train_temp, y_train)\n",
      "/opt/conda/lib/python3.7/site-packages/cr_features/pipeline_functions.py:107: DataConversionWarning: A column-vector y was passed when a 1d array was expected. Please change the shape of y to (n_samples,), for example using ravel().\n",
      "  classifier.fit(x_train_temp, y_train)\n",
      "/opt/conda/lib/python3.7/site-packages/cr_features/pipeline_functions.py:107: DataConversionWarning: A column-vector y was passed when a 1d array was expected. Please change the shape of y to (n_samples,), for example using ravel().\n",
      "  classifier.fit(x_train_temp, y_train)\n",
      "/opt/conda/lib/python3.7/site-packages/cr_features/pipeline_functions.py:107: DataConversionWarning: A column-vector y was passed when a 1d array was expected. Please change the shape of y to (n_samples,), for example using ravel().\n",
      "  classifier.fit(x_train_temp, y_train)\n",
      "/opt/conda/lib/python3.7/site-packages/cr_features/pipeline_functions.py:107: DataConversionWarning: A column-vector y was passed when a 1d array was expected. Please change the shape of y to (n_samples,), for example using ravel().\n",
      "  classifier.fit(x_train_temp, y_train)\n",
      "/opt/conda/lib/python3.7/site-packages/cr_features/pipeline_functions.py:107: DataConversionWarning: A column-vector y was passed when a 1d array was expected. Please change the shape of y to (n_samples,), for example using ravel().\n",
      "  classifier.fit(x_train_temp, y_train)\n",
      "/opt/conda/lib/python3.7/site-packages/cr_features/pipeline_functions.py:107: DataConversionWarning: A column-vector y was passed when a 1d array was expected. Please change the shape of y to (n_samples,), for example using ravel().\n",
      "  classifier.fit(x_train_temp, y_train)\n",
      "/opt/conda/lib/python3.7/site-packages/cr_features/pipeline_functions.py:107: DataConversionWarning: A column-vector y was passed when a 1d array was expected. Please change the shape of y to (n_samples,), for example using ravel().\n",
      "  classifier.fit(x_train_temp, y_train)\n",
      "/opt/conda/lib/python3.7/site-packages/cr_features/pipeline_functions.py:107: DataConversionWarning: A column-vector y was passed when a 1d array was expected. Please change the shape of y to (n_samples,), for example using ravel().\n",
      "  classifier.fit(x_train_temp, y_train)\n",
      "/opt/conda/lib/python3.7/site-packages/cr_features/pipeline_functions.py:107: DataConversionWarning: A column-vector y was passed when a 1d array was expected. Please change the shape of y to (n_samples,), for example using ravel().\n",
      "  classifier.fit(x_train_temp, y_train)\n",
      "/opt/conda/lib/python3.7/site-packages/cr_features/pipeline_functions.py:107: DataConversionWarning: A column-vector y was passed when a 1d array was expected. Please change the shape of y to (n_samples,), for example using ravel().\n",
      "  classifier.fit(x_train_temp, y_train)\n",
      "/opt/conda/lib/python3.7/site-packages/cr_features/pipeline_functions.py:107: DataConversionWarning: A column-vector y was passed when a 1d array was expected. Please change the shape of y to (n_samples,), for example using ravel().\n",
      "  classifier.fit(x_train_temp, y_train)\n",
      "/opt/conda/lib/python3.7/site-packages/cr_features/pipeline_functions.py:107: DataConversionWarning: A column-vector y was passed when a 1d array was expected. Please change the shape of y to (n_samples,), for example using ravel().\n",
      "  classifier.fit(x_train_temp, y_train)\n",
      "/opt/conda/lib/python3.7/site-packages/cr_features/pipeline_functions.py:107: DataConversionWarning: A column-vector y was passed when a 1d array was expected. Please change the shape of y to (n_samples,), for example using ravel().\n",
      "  classifier.fit(x_train_temp, y_train)\n",
      "/opt/conda/lib/python3.7/site-packages/cr_features/pipeline_functions.py:107: DataConversionWarning: A column-vector y was passed when a 1d array was expected. Please change the shape of y to (n_samples,), for example using ravel().\n",
      "  classifier.fit(x_train_temp, y_train)\n",
      "/opt/conda/lib/python3.7/site-packages/cr_features/pipeline_functions.py:107: DataConversionWarning: A column-vector y was passed when a 1d array was expected. Please change the shape of y to (n_samples,), for example using ravel().\n",
      "  classifier.fit(x_train_temp, y_train)\n",
      "/opt/conda/lib/python3.7/site-packages/cr_features/pipeline_functions.py:107: DataConversionWarning: A column-vector y was passed when a 1d array was expected. Please change the shape of y to (n_samples,), for example using ravel().\n",
      "  classifier.fit(x_train_temp, y_train)\n",
      "/opt/conda/lib/python3.7/site-packages/cr_features/pipeline_functions.py:107: DataConversionWarning: A column-vector y was passed when a 1d array was expected. Please change the shape of y to (n_samples,), for example using ravel().\n",
      "  classifier.fit(x_train_temp, y_train)\n",
      "/opt/conda/lib/python3.7/site-packages/cr_features/pipeline_functions.py:107: DataConversionWarning: A column-vector y was passed when a 1d array was expected. Please change the shape of y to (n_samples,), for example using ravel().\n",
      "  classifier.fit(x_train_temp, y_train)\n",
      "/opt/conda/lib/python3.7/site-packages/cr_features/pipeline_functions.py:107: DataConversionWarning: A column-vector y was passed when a 1d array was expected. Please change the shape of y to (n_samples,), for example using ravel().\n",
      "  classifier.fit(x_train_temp, y_train)\n",
      "/opt/conda/lib/python3.7/site-packages/cr_features/pipeline_functions.py:107: DataConversionWarning: A column-vector y was passed when a 1d array was expected. Please change the shape of y to (n_samples,), for example using ravel().\n",
      "  classifier.fit(x_train_temp, y_train)\n",
      "/opt/conda/lib/python3.7/site-packages/cr_features/pipeline_functions.py:107: DataConversionWarning: A column-vector y was passed when a 1d array was expected. Please change the shape of y to (n_samples,), for example using ravel().\n",
      "  classifier.fit(x_train_temp, y_train)\n",
      "/opt/conda/lib/python3.7/site-packages/cr_features/pipeline_functions.py:107: DataConversionWarning: A column-vector y was passed when a 1d array was expected. Please change the shape of y to (n_samples,), for example using ravel().\n",
      "  classifier.fit(x_train_temp, y_train)\n",
      "/opt/conda/lib/python3.7/site-packages/cr_features/pipeline_functions.py:107: DataConversionWarning: A column-vector y was passed when a 1d array was expected. Please change the shape of y to (n_samples,), for example using ravel().\n",
      "  classifier.fit(x_train_temp, y_train)\n",
      "/opt/conda/lib/python3.7/site-packages/cr_features/pipeline_functions.py:107: DataConversionWarning: A column-vector y was passed when a 1d array was expected. Please change the shape of y to (n_samples,), for example using ravel().\n",
      "  classifier.fit(x_train_temp, y_train)\n",
      "/opt/conda/lib/python3.7/site-packages/cr_features/pipeline_functions.py:107: DataConversionWarning: A column-vector y was passed when a 1d array was expected. Please change the shape of y to (n_samples,), for example using ravel().\n",
      "  classifier.fit(x_train_temp, y_train)\n",
      "/opt/conda/lib/python3.7/site-packages/cr_features/pipeline_functions.py:107: DataConversionWarning: A column-vector y was passed when a 1d array was expected. Please change the shape of y to (n_samples,), for example using ravel().\n",
      "  classifier.fit(x_train_temp, y_train)\n",
      "/opt/conda/lib/python3.7/site-packages/cr_features/pipeline_functions.py:107: DataConversionWarning: A column-vector y was passed when a 1d array was expected. Please change the shape of y to (n_samples,), for example using ravel().\n",
      "  classifier.fit(x_train_temp, y_train)\n",
      "/opt/conda/lib/python3.7/site-packages/cr_features/pipeline_functions.py:107: DataConversionWarning: A column-vector y was passed when a 1d array was expected. Please change the shape of y to (n_samples,), for example using ravel().\n",
      "  classifier.fit(x_train_temp, y_train)\n",
      "/opt/conda/lib/python3.7/site-packages/cr_features/pipeline_functions.py:107: DataConversionWarning: A column-vector y was passed when a 1d array was expected. Please change the shape of y to (n_samples,), for example using ravel().\n",
      "  classifier.fit(x_train_temp, y_train)\n",
      "/opt/conda/lib/python3.7/site-packages/cr_features/pipeline_functions.py:107: DataConversionWarning: A column-vector y was passed when a 1d array was expected. Please change the shape of y to (n_samples,), for example using ravel().\n",
      "  classifier.fit(x_train_temp, y_train)\n",
      "/opt/conda/lib/python3.7/site-packages/cr_features/pipeline_functions.py:107: DataConversionWarning: A column-vector y was passed when a 1d array was expected. Please change the shape of y to (n_samples,), for example using ravel().\n",
      "  classifier.fit(x_train_temp, y_train)\n",
      "/opt/conda/lib/python3.7/site-packages/cr_features/pipeline_functions.py:107: DataConversionWarning: A column-vector y was passed when a 1d array was expected. Please change the shape of y to (n_samples,), for example using ravel().\n",
      "  classifier.fit(x_train_temp, y_train)\n",
      "/opt/conda/lib/python3.7/site-packages/cr_features/pipeline_functions.py:107: DataConversionWarning: A column-vector y was passed when a 1d array was expected. Please change the shape of y to (n_samples,), for example using ravel().\n",
      "  classifier.fit(x_train_temp, y_train)\n",
      "/opt/conda/lib/python3.7/site-packages/cr_features/pipeline_functions.py:107: DataConversionWarning: A column-vector y was passed when a 1d array was expected. Please change the shape of y to (n_samples,), for example using ravel().\n",
      "  classifier.fit(x_train_temp, y_train)\n",
      "/opt/conda/lib/python3.7/site-packages/cr_features/pipeline_functions.py:107: DataConversionWarning: A column-vector y was passed when a 1d array was expected. Please change the shape of y to (n_samples,), for example using ravel().\n",
      "  classifier.fit(x_train_temp, y_train)\n",
      "/opt/conda/lib/python3.7/site-packages/cr_features/pipeline_functions.py:107: DataConversionWarning: A column-vector y was passed when a 1d array was expected. Please change the shape of y to (n_samples,), for example using ravel().\n",
      "  classifier.fit(x_train_temp, y_train)\n",
      "/opt/conda/lib/python3.7/site-packages/cr_features/pipeline_functions.py:107: DataConversionWarning: A column-vector y was passed when a 1d array was expected. Please change the shape of y to (n_samples,), for example using ravel().\n",
      "  classifier.fit(x_train_temp, y_train)\n",
      "/opt/conda/lib/python3.7/site-packages/cr_features/pipeline_functions.py:107: DataConversionWarning: A column-vector y was passed when a 1d array was expected. Please change the shape of y to (n_samples,), for example using ravel().\n",
      "  classifier.fit(x_train_temp, y_train)\n",
      "/opt/conda/lib/python3.7/site-packages/cr_features/pipeline_functions.py:107: DataConversionWarning: A column-vector y was passed when a 1d array was expected. Please change the shape of y to (n_samples,), for example using ravel().\n",
      "  classifier.fit(x_train_temp, y_train)\n",
      "/opt/conda/lib/python3.7/site-packages/cr_features/pipeline_functions.py:107: DataConversionWarning: A column-vector y was passed when a 1d array was expected. Please change the shape of y to (n_samples,), for example using ravel().\n",
      "  classifier.fit(x_train_temp, y_train)\n",
      "/opt/conda/lib/python3.7/site-packages/cr_features/pipeline_functions.py:107: DataConversionWarning: A column-vector y was passed when a 1d array was expected. Please change the shape of y to (n_samples,), for example using ravel().\n",
      "  classifier.fit(x_train_temp, y_train)\n",
      "/opt/conda/lib/python3.7/site-packages/cr_features/pipeline_functions.py:107: DataConversionWarning: A column-vector y was passed when a 1d array was expected. Please change the shape of y to (n_samples,), for example using ravel().\n",
      "  classifier.fit(x_train_temp, y_train)\n",
      "/opt/conda/lib/python3.7/site-packages/cr_features/pipeline_functions.py:107: DataConversionWarning: A column-vector y was passed when a 1d array was expected. Please change the shape of y to (n_samples,), for example using ravel().\n",
      "  classifier.fit(x_train_temp, y_train)\n",
      "/opt/conda/lib/python3.7/site-packages/cr_features/pipeline_functions.py:107: DataConversionWarning: A column-vector y was passed when a 1d array was expected. Please change the shape of y to (n_samples,), for example using ravel().\n",
      "  classifier.fit(x_train_temp, y_train)\n",
      "/opt/conda/lib/python3.7/site-packages/cr_features/pipeline_functions.py:107: DataConversionWarning: A column-vector y was passed when a 1d array was expected. Please change the shape of y to (n_samples,), for example using ravel().\n",
      "  classifier.fit(x_train_temp, y_train)\n",
      "/opt/conda/lib/python3.7/site-packages/cr_features/pipeline_functions.py:107: DataConversionWarning: A column-vector y was passed when a 1d array was expected. Please change the shape of y to (n_samples,), for example using ravel().\n",
      "  classifier.fit(x_train_temp, y_train)\n",
      "/opt/conda/lib/python3.7/site-packages/cr_features/pipeline_functions.py:107: DataConversionWarning: A column-vector y was passed when a 1d array was expected. Please change the shape of y to (n_samples,), for example using ravel().\n",
      "  classifier.fit(x_train_temp, y_train)\n",
      "/opt/conda/lib/python3.7/site-packages/cr_features/pipeline_functions.py:107: DataConversionWarning: A column-vector y was passed when a 1d array was expected. Please change the shape of y to (n_samples,), for example using ravel().\n",
      "  classifier.fit(x_train_temp, y_train)\n",
      "/opt/conda/lib/python3.7/site-packages/cr_features/pipeline_functions.py:107: DataConversionWarning: A column-vector y was passed when a 1d array was expected. Please change the shape of y to (n_samples,), for example using ravel().\n",
      "  classifier.fit(x_train_temp, y_train)\n",
      "/opt/conda/lib/python3.7/site-packages/cr_features/pipeline_functions.py:107: DataConversionWarning: A column-vector y was passed when a 1d array was expected. Please change the shape of y to (n_samples,), for example using ravel().\n",
      "  classifier.fit(x_train_temp, y_train)\n",
      "/opt/conda/lib/python3.7/site-packages/cr_features/pipeline_functions.py:107: DataConversionWarning: A column-vector y was passed when a 1d array was expected. Please change the shape of y to (n_samples,), for example using ravel().\n",
      "  classifier.fit(x_train_temp, y_train)\n",
      "/opt/conda/lib/python3.7/site-packages/cr_features/pipeline_functions.py:107: DataConversionWarning: A column-vector y was passed when a 1d array was expected. Please change the shape of y to (n_samples,), for example using ravel().\n",
      "  classifier.fit(x_train_temp, y_train)\n",
      "/opt/conda/lib/python3.7/site-packages/cr_features/pipeline_functions.py:107: DataConversionWarning: A column-vector y was passed when a 1d array was expected. Please change the shape of y to (n_samples,), for example using ravel().\n",
      "  classifier.fit(x_train_temp, y_train)\n",
      "/opt/conda/lib/python3.7/site-packages/cr_features/pipeline_functions.py:107: DataConversionWarning: A column-vector y was passed when a 1d array was expected. Please change the shape of y to (n_samples,), for example using ravel().\n",
      "  classifier.fit(x_train_temp, y_train)\n",
      "/opt/conda/lib/python3.7/site-packages/cr_features/pipeline_functions.py:107: DataConversionWarning: A column-vector y was passed when a 1d array was expected. Please change the shape of y to (n_samples,), for example using ravel().\n",
      "  classifier.fit(x_train_temp, y_train)\n",
      "/opt/conda/lib/python3.7/site-packages/cr_features/pipeline_functions.py:107: DataConversionWarning: A column-vector y was passed when a 1d array was expected. Please change the shape of y to (n_samples,), for example using ravel().\n",
      "  classifier.fit(x_train_temp, y_train)\n",
      "/opt/conda/lib/python3.7/site-packages/cr_features/pipeline_functions.py:107: DataConversionWarning: A column-vector y was passed when a 1d array was expected. Please change the shape of y to (n_samples,), for example using ravel().\n",
      "  classifier.fit(x_train_temp, y_train)\n",
      "/opt/conda/lib/python3.7/site-packages/cr_features/pipeline_functions.py:107: DataConversionWarning: A column-vector y was passed when a 1d array was expected. Please change the shape of y to (n_samples,), for example using ravel().\n",
      "  classifier.fit(x_train_temp, y_train)\n",
      "/opt/conda/lib/python3.7/site-packages/cr_features/pipeline_functions.py:107: DataConversionWarning: A column-vector y was passed when a 1d array was expected. Please change the shape of y to (n_samples,), for example using ravel().\n",
      "  classifier.fit(x_train_temp, y_train)\n",
      "/opt/conda/lib/python3.7/site-packages/cr_features/pipeline_functions.py:107: DataConversionWarning: A column-vector y was passed when a 1d array was expected. Please change the shape of y to (n_samples,), for example using ravel().\n",
      "  classifier.fit(x_train_temp, y_train)\n",
      "/opt/conda/lib/python3.7/site-packages/cr_features/pipeline_functions.py:107: DataConversionWarning: A column-vector y was passed when a 1d array was expected. Please change the shape of y to (n_samples,), for example using ravel().\n",
      "  classifier.fit(x_train_temp, y_train)\n",
      "/opt/conda/lib/python3.7/site-packages/cr_features/pipeline_functions.py:107: DataConversionWarning: A column-vector y was passed when a 1d array was expected. Please change the shape of y to (n_samples,), for example using ravel().\n",
      "  classifier.fit(x_train_temp, y_train)\n",
      "/opt/conda/lib/python3.7/site-packages/cr_features/pipeline_functions.py:107: DataConversionWarning: A column-vector y was passed when a 1d array was expected. Please change the shape of y to (n_samples,), for example using ravel().\n",
      "  classifier.fit(x_train_temp, y_train)\n"
     ]
    }
   ],
   "source": [
    "features_selected = three_step_fs(X_train, y_train, X_test, y_test,\n",
    "                                  clf_rf_us, base_cutoff=200, correlation_threshold=0.9,verbose=False)"
   ]
  },
  {
   "cell_type": "code",
   "execution_count": 32,
   "id": "d85d13d6",
   "metadata": {
    "execution": {
     "iopub.execute_input": "2022-07-29T21:10:17.497252Z",
     "iopub.status.busy": "2022-07-29T21:10:17.496439Z",
     "iopub.status.idle": "2022-07-29T21:10:17.509605Z",
     "shell.execute_reply": "2022-07-29T21:10:17.508775Z"
    },
    "papermill": {
     "duration": 0.045099,
     "end_time": "2022-07-29T21:10:17.511738",
     "exception": false,
     "start_time": "2022-07-29T21:10:17.466639",
     "status": "completed"
    },
    "tags": []
   },
   "outputs": [
    {
     "data": {
      "text/plain": [
       "51"
      ]
     },
     "execution_count": 32,
     "metadata": {},
     "output_type": "execute_result"
    }
   ],
   "source": [
    "len(features_selected)"
   ]
  },
  {
   "cell_type": "code",
   "execution_count": 33,
   "id": "56e6d3ac",
   "metadata": {
    "execution": {
     "iopub.execute_input": "2022-07-29T21:10:17.566320Z",
     "iopub.status.busy": "2022-07-29T21:10:17.565700Z",
     "iopub.status.idle": "2022-07-29T21:15:00.342220Z",
     "shell.execute_reply": "2022-07-29T21:15:00.340906Z"
    },
    "papermill": {
     "duration": 282.831887,
     "end_time": "2022-07-29T21:15:00.370290",
     "exception": false,
     "start_time": "2022-07-29T21:10:17.538403",
     "status": "completed"
    },
    "tags": []
   },
   "outputs": [
    {
     "name": "stderr",
     "output_type": "stream",
     "text": [
      "/opt/conda/lib/python3.7/site-packages/ipykernel_launcher.py:1: DataConversionWarning: A column-vector y was passed when a 1d array was expected. Please change the shape of y to (n_samples,), for example using ravel().\n",
      "  \"\"\"Entry point for launching an IPython kernel.\n"
     ]
    },
    {
     "data": {
      "text/plain": [
       "RandomForestClassifier(random_state=42)"
      ]
     },
     "execution_count": 33,
     "metadata": {},
     "output_type": "execute_result"
    }
   ],
   "source": [
    "clf_rf_us.fit(X_train[features_selected], y_train)"
   ]
  },
  {
   "cell_type": "code",
   "execution_count": 34,
   "id": "50ccbf24",
   "metadata": {
    "execution": {
     "iopub.execute_input": "2022-07-29T21:15:00.425439Z",
     "iopub.status.busy": "2022-07-29T21:15:00.424436Z",
     "iopub.status.idle": "2022-07-29T21:15:01.254995Z",
     "shell.execute_reply": "2022-07-29T21:15:01.253533Z"
    },
    "papermill": {
     "duration": 0.863319,
     "end_time": "2022-07-29T21:15:01.259079",
     "exception": false,
     "start_time": "2022-07-29T21:15:00.395760",
     "status": "completed"
    },
    "tags": []
   },
   "outputs": [
    {
     "name": "stdout",
     "output_type": "stream",
     "text": [
      "Accuracy: 86.23655913978494 %\n",
      "F1-Score: 0.8087897719893793\n"
     ]
    }
   ],
   "source": [
    "predictions = clf_rf_us.predict(X_test[features_selected])\n",
    "score_rf_us = accuracy_score(y_test, predictions)\n",
    "f1_rf_us = f1_score(y_test, predictions, average='macro')\n",
    "\n",
    "print ('Accuracy: '+str(score_rf_us*100)+' %')\n",
    "print ('F1-Score: '+str(f1_rf_us))"
   ]
  },
  {
   "cell_type": "code",
   "execution_count": 35,
   "id": "8b1974df",
   "metadata": {
    "execution": {
     "iopub.execute_input": "2022-07-29T21:15:01.313307Z",
     "iopub.status.busy": "2022-07-29T21:15:01.312491Z",
     "iopub.status.idle": "2022-07-29T21:15:02.354220Z",
     "shell.execute_reply": "2022-07-29T21:15:02.353192Z"
    },
    "papermill": {
     "duration": 1.071332,
     "end_time": "2022-07-29T21:15:02.357000",
     "exception": false,
     "start_time": "2022-07-29T21:15:01.285668",
     "status": "completed"
    },
    "tags": []
   },
   "outputs": [
    {
     "name": "stderr",
     "output_type": "stream",
     "text": [
      "/opt/conda/lib/python3.7/site-packages/sklearn/utils/deprecation.py:87: FutureWarning: Function plot_confusion_matrix is deprecated; Function `plot_confusion_matrix` is deprecated in 1.0 and will be removed in 1.2. Use one of the class methods: ConfusionMatrixDisplay.from_predictions or ConfusionMatrixDisplay.from_estimator.\n",
      "  warnings.warn(msg, category=FutureWarning)\n"
     ]
    },
    {
     "data": {
      "text/plain": [
       "<sklearn.metrics._plot.confusion_matrix.ConfusionMatrixDisplay at 0x7f4b448da5d0>"
      ]
     },
     "execution_count": 35,
     "metadata": {},
     "output_type": "execute_result"
    },
    {
     "data": {
      "image/png": "[encoded data removed]",
      "text/plain": [
       "<Figure size 432x288 with 2 Axes>"
      ]
     },
     "metadata": {
      "needs_background": "light"
     },
     "output_type": "display_data"
    }
   ],
   "source": [
    "plot_confusion_matrix(estimator=clf_rf_us, X=X_test[features_selected], y_true=y_test,\n",
    "                      normalize='true', cmap='Blues')"
   ]
  }
 ],
 "metadata": {
  "kernelspec": {
   "display_name": "Python 3",
   "language": "python",
   "name": "python3"
  },
  "language_info": {
   "codemirror_mode": {
    "name": "ipython",
    "version": 3
   },
   "file_extension": ".py",
   "mimetype": "text/x-python",
   "name": "python",
   "nbconvert_exporter": "python",
   "pygments_lexer": "ipython3",
   "version": "3.7.12"
  },
  "papermill": {
   "default_parameters": {},
   "duration": 24686.00757,
   "end_time": "2022-07-29T21:15:04.262783",
   "environment_variables": {},
   "exception": null,
   "input_path": "__notebook__.ipynb",
   "output_path": "__notebook__.ipynb",
   "parameters": {},
   "start_time": "2022-07-29T14:23:38.255213",
   "version": "2.3.4"
  }
 },
 "nbformat": 4,
 "nbformat_minor": 5
}
